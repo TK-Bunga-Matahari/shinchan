{
  "cells": [
    {
      "cell_type": "code",
      "execution_count": null,
      "metadata": {
        "colab": {
          "base_uri": "https://localhost:8080/"
        },
        "id": "D8cyYUrO8o2A",
        "outputId": "53b5ce16-39d4-48d4-d7f3-06205dc29e15"
      },
      "outputs": [
        {
          "name": "stdout",
          "output_type": "stream",
          "text": [
            "Collecting ortools\n",
            "  Downloading ortools-9.8.3296-cp310-cp310-manylinux_2_17_x86_64.manylinux2014_x86_64.whl (22.9 MB)\n",
            "\u001b[2K     \u001b[90m━━━━━━━━━━━━━━━━━━━━━━━━━━━━━━━━━━━━━━━━\u001b[0m \u001b[32m22.9/22.9 MB\u001b[0m \u001b[31m40.7 MB/s\u001b[0m eta \u001b[36m0:00:00\u001b[0m\n",
            "\u001b[?25hRequirement already satisfied: pandas in /usr/local/lib/python3.10/dist-packages (1.5.3)\n",
            "Requirement already satisfied: prettytable in /usr/local/lib/python3.10/dist-packages (3.9.0)\n",
            "Collecting absl-py>=2.0.0 (from ortools)\n",
            "  Downloading absl_py-2.1.0-py3-none-any.whl (133 kB)\n",
            "\u001b[2K     \u001b[90m━━━━━━━━━━━━━━━━━━━━━━━━━━━━━━━━━━━━━━━━\u001b[0m \u001b[32m133.7/133.7 kB\u001b[0m \u001b[31m17.1 MB/s\u001b[0m eta \u001b[36m0:00:00\u001b[0m\n",
            "\u001b[?25hRequirement already satisfied: numpy>=1.13.3 in /usr/local/lib/python3.10/dist-packages (from ortools) (1.25.2)\n",
            "Collecting pandas\n",
            "  Downloading pandas-2.2.0-cp310-cp310-manylinux_2_17_x86_64.manylinux2014_x86_64.whl (13.0 MB)\n",
            "\u001b[2K     \u001b[90m━━━━━━━━━━━━━━━━━━━━━━━━━━━━━━━━━━━━━━━━\u001b[0m \u001b[32m13.0/13.0 MB\u001b[0m \u001b[31m71.8 MB/s\u001b[0m eta \u001b[36m0:00:00\u001b[0m\n",
            "\u001b[?25hCollecting protobuf>=4.25.0 (from ortools)\n",
            "  Downloading protobuf-4.25.3-cp37-abi3-manylinux2014_x86_64.whl (294 kB)\n",
            "\u001b[2K     \u001b[90m━━━━━━━━━━━━━━━━━━━━━━━━━━━━━━━━━━━━━━━━\u001b[0m \u001b[32m294.6/294.6 kB\u001b[0m \u001b[31m35.7 MB/s\u001b[0m eta \u001b[36m0:00:00\u001b[0m\n",
            "\u001b[?25hRequirement already satisfied: python-dateutil>=2.8.2 in /usr/local/lib/python3.10/dist-packages (from pandas) (2.8.2)\n",
            "Requirement already satisfied: pytz>=2020.1 in /usr/local/lib/python3.10/dist-packages (from pandas) (2023.4)\n",
            "Collecting tzdata>=2022.7 (from pandas)\n",
            "  Downloading tzdata-2024.1-py2.py3-none-any.whl (345 kB)\n",
            "\u001b[2K     \u001b[90m━━━━━━━━━━━━━━━━━━━━━━━━━━━━━━━━━━━━━━━━\u001b[0m \u001b[32m345.4/345.4 kB\u001b[0m \u001b[31m35.5 MB/s\u001b[0m eta \u001b[36m0:00:00\u001b[0m\n",
            "\u001b[?25hRequirement already satisfied: wcwidth in /usr/local/lib/python3.10/dist-packages (from prettytable) (0.2.13)\n",
            "Requirement already satisfied: six>=1.5 in /usr/local/lib/python3.10/dist-packages (from python-dateutil>=2.8.2->pandas) (1.16.0)\n",
            "Installing collected packages: tzdata, protobuf, absl-py, pandas, ortools\n",
            "  Attempting uninstall: protobuf\n",
            "    Found existing installation: protobuf 3.20.3\n",
            "    Uninstalling protobuf-3.20.3:\n",
            "      Successfully uninstalled protobuf-3.20.3\n",
            "  Attempting uninstall: absl-py\n",
            "    Found existing installation: absl-py 1.4.0\n",
            "    Uninstalling absl-py-1.4.0:\n",
            "      Successfully uninstalled absl-py-1.4.0\n",
            "  Attempting uninstall: pandas\n",
            "    Found existing installation: pandas 1.5.3\n",
            "    Uninstalling pandas-1.5.3:\n",
            "      Successfully uninstalled pandas-1.5.3\n",
            "\u001b[31mERROR: pip's dependency resolver does not currently take into account all the packages that are installed. This behaviour is the source of the following dependency conflicts.\n",
            "bigframes 0.21.0 requires pandas<2.1.4,>=1.5.0, but you have pandas 2.2.0 which is incompatible.\n",
            "google-colab 1.0.0 requires pandas==1.5.3, but you have pandas 2.2.0 which is incompatible.\n",
            "tensorflow-metadata 1.14.0 requires absl-py<2.0.0,>=0.9, but you have absl-py 2.1.0 which is incompatible.\n",
            "tensorflow-metadata 1.14.0 requires protobuf<4.21,>=3.20.3, but you have protobuf 4.25.3 which is incompatible.\u001b[0m\u001b[31m\n",
            "\u001b[0mSuccessfully installed absl-py-2.1.0 ortools-9.8.3296 pandas-2.2.0 protobuf-4.25.3 tzdata-2024.1\n"
          ]
        }
      ],
      "source": [
        "!pip3 install ortools pandas prettytable"
      ]
    },
    {
      "cell_type": "code",
      "execution_count": null,
      "metadata": {
        "colab": {
          "base_uri": "https://localhost:8080/"
        },
        "id": "4z23feyp9hQN",
        "outputId": "a4b4f91e-3b23-4f81-c5c8-96e1029ef109"
      },
      "outputs": [
        {
          "name": "stdout",
          "output_type": "stream",
          "text": [
            "<class 'list'>\n"
          ]
        }
      ],
      "source": [
        "import pandas as pd\n",
        "import ortools\n",
        "from ortools.sat.python import cp_model\n",
        "\n",
        "data = pd.read_csv(\"courses.csv\")\n",
        "data = data.sample(frac=1).reset_index(drop=True)\n",
        "courses = data.to_dict(\"records\")\n",
        "\n",
        "print(type(courses))"
      ]
    },
    {
      "cell_type": "markdown",
      "metadata": {
        "id": "rAaIttWvD1JN"
      },
      "source": [
        "# Single Objective Approach"
      ]
    },
    {
      "cell_type": "code",
      "execution_count": null,
      "metadata": {
        "id": "MMLBw-v991se"
      },
      "outputs": [],
      "source": [
        "# Construct model\n",
        "model = cp_model.CpModel()"
      ]
    },
    {
      "cell_type": "code",
      "execution_count": null,
      "metadata": {
        "id": "H3dSade4-bAT"
      },
      "outputs": [],
      "source": [
        "# Decision Variable\n",
        "x = dict()\n",
        "\n",
        "for i in range(len(courses)):\n",
        "  x[i] = model.NewBoolVar(f\"course_{i}\")"
      ]
    },
    {
      "cell_type": "code",
      "execution_count": null,
      "metadata": {
        "colab": {
          "base_uri": "https://localhost:8080/"
        },
        "id": "PqVJnC1Z-qN2",
        "outputId": "7e995ce2-c370-48b3-9baa-e6f440c77962"
      },
      "outputs": [
        {
          "name": "stdout",
          "output_type": "stream",
          "text": [
            "{0: course_0(0..1), 1: course_1(0..1), 2: course_2(0..1), 3: course_3(0..1), 4: course_4(0..1), 5: course_5(0..1), 6: course_6(0..1), 7: course_7(0..1), 8: course_8(0..1), 9: course_9(0..1), 10: course_10(0..1), 11: course_11(0..1), 12: course_12(0..1), 13: course_13(0..1), 14: course_14(0..1), 15: course_15(0..1), 16: course_16(0..1), 17: course_17(0..1), 18: course_18(0..1), 19: course_19(0..1), 20: course_20(0..1), 21: course_21(0..1), 22: course_22(0..1), 23: course_23(0..1), 24: course_24(0..1), 25: course_25(0..1), 26: course_26(0..1)}\n"
          ]
        }
      ],
      "source": [
        "print(x)"
      ]
    },
    {
      "cell_type": "code",
      "execution_count": null,
      "metadata": {
        "colab": {
          "base_uri": "https://localhost:8080/"
        },
        "id": "crfP9L3Q-sbY",
        "outputId": "91528239-6ea2-4382-b205-b8993d97692d"
      },
      "outputs": [
        {
          "data": {
            "text/plain": [
              "<ortools.sat.python.cp_model.Constraint at 0x784a6f247c40>"
            ]
          },
          "execution_count": 235,
          "metadata": {},
          "output_type": "execute_result"
        }
      ],
      "source": [
        "# Define Constraints\n",
        "model.Add(sum(courses[i][\"credit\"] * x[i] for i in range(len(courses) )) == 180) # Total credit 180\n",
        "model.Add(sum(courses[i][\"credit\"] * x[i] for i in range(len(courses)) if courses[i][\"group\"] == \"CS\") >= 120) # CS must be 120 credits\n",
        "model.Add(sum(courses[i][\"credit\"] * x[i] for i in range(len(courses)) if courses[i][\"exam_type\"] == \"EXAM\") == 0) # Minimize Exam, assuming exam = 0"
      ]
    },
    {
      "cell_type": "code",
      "execution_count": null,
      "metadata": {
        "id": "VtCAZJefA--j"
      },
      "outputs": [],
      "source": [
        "total_cost = sum(courses[i][\"cost\"] * x[i] for i in range(len(courses)))\n",
        "model.Minimize(total_cost)"
      ]
    },
    {
      "cell_type": "code",
      "execution_count": null,
      "metadata": {
        "id": "8hD3RBBVBPc_"
      },
      "outputs": [],
      "source": [
        "solver = cp_model.CpSolver()\n",
        "status = solver.Solve(model)"
      ]
    },
    {
      "cell_type": "code",
      "execution_count": null,
      "metadata": {
        "id": "o8KxUFgLC-b8"
      },
      "outputs": [],
      "source": [
        "def format_table(_data):\n",
        "  import prettytable\n",
        "  from prettytable import PrettyTable\n",
        "\n",
        "  table = PrettyTable()\n",
        "  table.field_names = list(_data[0].keys())\n",
        "\n",
        "  for row in _data:\n",
        "    table.add_row(row.values())\n",
        "\n",
        "  print(table)"
      ]
    },
    {
      "cell_type": "code",
      "execution_count": null,
      "metadata": {
        "colab": {
          "base_uri": "https://localhost:8080/"
        },
        "id": "ZqdOTojPBtOk",
        "outputId": "0fb5a390-d15d-4636-cc07-9a2959725e63"
      },
      "outputs": [
        {
          "name": "stdout",
          "output_type": "stream",
          "text": [
            "Solution found!\n",
            "Optimal solution found, the total cost is 12356\n",
            "+-----------+-------+-----------+--------+------+\n",
            "| course_id | group | exam_type | credit | cost |\n",
            "+-----------+-------+-----------+--------+------+\n",
            "|    M811   |   CS  |    EOMA   |   30   | 2245 |\n",
            "|    M813   |   CS  |    EOMA   |   30   | 2245 |\n",
            "|    D890   |  PROF |    EOMA   |   60   | 3781 |\n",
            "|    S818   |   CS  |    EOMA   |   60   | 4085 |\n",
            "+-----------+-------+-----------+--------+------+\n"
          ]
        }
      ],
      "source": [
        "if status == cp_model.OPTIMAL or status == cp_model.FEASIBLE:\n",
        "  print('Solution found!')\n",
        "\n",
        "  _cost = 0\n",
        "  _courses = list()\n",
        "\n",
        "  for i in range(len(courses)):\n",
        "    if solver.Value(x[i]) == 1:\n",
        "      _courses.append(courses[i])\n",
        "      _cost = _cost + courses[i]['cost']\n",
        "\n",
        "  if status == cp_model.OPTIMAL:\n",
        "    print(f\"Optimal solution found, the total cost is {_cost}\")\n",
        "  if status == cp_model.FEASIBLE:\n",
        "    print(f\"Feasible solution found, the total cost is {_cost}\")\n",
        "\n",
        "  format_table(_courses)\n",
        "else:\n",
        "  print(\"No solution found\")"
      ]
    },
    {
      "cell_type": "markdown",
      "metadata": {
        "id": "absku4IgDtiT"
      },
      "source": [
        "# Multi Objective Approach"
      ]
    },
    {
      "cell_type": "code",
      "execution_count": null,
      "metadata": {
        "id": "lVeDIS8UD6GW"
      },
      "outputs": [],
      "source": [
        "# Construct model\n",
        "model = cp_model.CpModel()"
      ]
    },
    {
      "cell_type": "code",
      "execution_count": null,
      "metadata": {
        "id": "-gCufWunD9dW"
      },
      "outputs": [],
      "source": [
        "# Decision Variable\n",
        "x = dict()\n",
        "\n",
        "for i in range(len(courses)):\n",
        "  x[i] = model.NewBoolVar(f\"course_{i}\")"
      ]
    },
    {
      "cell_type": "code",
      "execution_count": null,
      "metadata": {
        "colab": {
          "base_uri": "https://localhost:8080/"
        },
        "id": "6XhN_FPwC8_z",
        "outputId": "14a85d96-b38a-46cd-941b-3225dc0404ad"
      },
      "outputs": [
        {
          "data": {
            "text/plain": [
              "<ortools.sat.python.cp_model.Constraint at 0x784a6f244f70>"
            ]
          },
          "execution_count": 242,
          "metadata": {},
          "output_type": "execute_result"
        }
      ],
      "source": [
        "# Define Constraints\n",
        "model.Add(sum(courses[i][\"credit\"] * x[i] for i in range(len(courses) )) == 180) # Total credit 180\n",
        "model.Add(sum(courses[i][\"credit\"] * x[i] for i in range(len(courses)) if courses[i][\"group\"] == \"CS\") >= 120) # CS must be 120 credits"
      ]
    },
    {
      "cell_type": "code",
      "execution_count": null,
      "metadata": {
        "id": "xC0M7tW7Eg52"
      },
      "outputs": [],
      "source": [
        "# Weight 0...1000\n",
        "# SUM(1000)\n",
        "\n",
        "weight_cost = 0.001\n",
        "weight_exam = 0.999"
      ]
    },
    {
      "cell_type": "code",
      "execution_count": null,
      "metadata": {
        "id": "O50DqvF-Dq14"
      },
      "outputs": [],
      "source": [
        "total_cost = sum(courses[i][\"cost\"] * x[i] for i in range(len(courses)))\n",
        "total_exam = sum(x[i] for i in range(len(courses)) if courses[i][\"exam_type\"] == \"EXAM\")\n",
        "model.Minimize((weight_cost * total_cost) + (weight_exam *total_exam))"
      ]
    },
    {
      "cell_type": "code",
      "execution_count": null,
      "metadata": {
        "id": "9EWxj2BJE9gq"
      },
      "outputs": [],
      "source": [
        "solver = cp_model.CpSolver()\n",
        "status = solver.Solve(model)"
      ]
    },
    {
      "cell_type": "code",
      "execution_count": null,
      "metadata": {
        "colab": {
          "base_uri": "https://localhost:8080/"
        },
        "id": "zfoi8BPwEztB",
        "outputId": "acad0ed4-d2a4-4361-bf70-bafb99cbb554"
      },
      "outputs": [
        {
          "name": "stdout",
          "output_type": "stream",
          "text": [
            "Solution found!\n",
            "Optimal solution found, the total cost is 12356\n",
            "+-----------+-------+-----------+--------+------+\n",
            "| course_id | group | exam_type | credit | cost |\n",
            "+-----------+-------+-----------+--------+------+\n",
            "|    M811   |   CS  |    EOMA   |   30   | 2245 |\n",
            "|    M813   |   CS  |    EOMA   |   30   | 2245 |\n",
            "|    D890   |  PROF |    EOMA   |   60   | 3781 |\n",
            "|    S818   |   CS  |    EOMA   |   60   | 4085 |\n",
            "+-----------+-------+-----------+--------+------+\n"
          ]
        }
      ],
      "source": [
        "if status == cp_model.OPTIMAL or status == cp_model.FEASIBLE:\n",
        "  print('Solution found!')\n",
        "\n",
        "  _cost = 0\n",
        "  _courses = list()\n",
        "\n",
        "  for i in range(len(courses)):\n",
        "    if solver.Value(x[i]) == 1:\n",
        "      _courses.append(courses[i])\n",
        "      _cost = _cost + courses[i]['cost']\n",
        "\n",
        "  if status == cp_model.OPTIMAL:\n",
        "    print(f\"Optimal solution found, the total cost is {_cost}\")\n",
        "  if status == cp_model.FEASIBLE:\n",
        "    print(f\"Feasible solution found, the total cost is {_cost}\")\n",
        "\n",
        "  format_table(_courses)\n",
        "else:\n",
        "  print(\"No solution found\")"
      ]
    },
    {
      "cell_type": "markdown",
      "metadata": {},
      "source": [
        "Notes : Challenge 1 Course Selection"
      ]
    }
  ],
  "metadata": {
    "accelerator": "GPU",
    "colab": {
      "gpuType": "T4",
      "provenance": []
    },
    "kernelspec": {
      "display_name": "Python 3",
      "name": "python3"
    },
    "language_info": {
      "name": "python"
    }
  },
  "nbformat": 4,
  "nbformat_minor": 0
}
