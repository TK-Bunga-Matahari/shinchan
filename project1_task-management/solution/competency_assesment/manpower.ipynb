{
 "cells": [
  {
   "cell_type": "code",
   "execution_count": 1,
   "metadata": {},
   "outputs": [],
   "source": [
    "import pandas as pd\n",
    "import numpy as np\n",
    "import matplotlib.pyplot as plt\n",
    "import seaborn as sns\n",
    "from gurobipy import Model, GRB, quicksum"
   ]
  },
  {
   "cell_type": "code",
   "execution_count": 2,
   "metadata": {},
   "outputs": [
    {
     "data": {
      "text/html": [
       "<div>\n",
       "<style scoped>\n",
       "    .dataframe tbody tr th:only-of-type {\n",
       "        vertical-align: middle;\n",
       "    }\n",
       "\n",
       "    .dataframe tbody tr th {\n",
       "        vertical-align: top;\n",
       "    }\n",
       "\n",
       "    .dataframe thead th {\n",
       "        text-align: right;\n",
       "    }\n",
       "</style>\n",
       "<table border=\"1\" class=\"dataframe\">\n",
       "  <thead>\n",
       "    <tr style=\"text-align: right;\">\n",
       "      <th></th>\n",
       "      <th>employee</th>\n",
       "      <th>company</th>\n",
       "      <th>assigned_task</th>\n",
       "      <th>sum_sp</th>\n",
       "      <th>wasted_sp</th>\n",
       "      <th>assessment_score</th>\n",
       "    </tr>\n",
       "  </thead>\n",
       "  <tbody>\n",
       "    <tr>\n",
       "      <th>0</th>\n",
       "      <td>Talent 1</td>\n",
       "      <td>['P3']</td>\n",
       "      <td>['T270']</td>\n",
       "      <td>8</td>\n",
       "      <td>12</td>\n",
       "      <td>[-0.027166504381694268]</td>\n",
       "    </tr>\n",
       "    <tr>\n",
       "      <th>1</th>\n",
       "      <td>Talent 2</td>\n",
       "      <td>['P3', 'P3']</td>\n",
       "      <td>['T97', 'T166']</td>\n",
       "      <td>11</td>\n",
       "      <td>9</td>\n",
       "      <td>[-0.017692307692307688, -0.017582417582417582]</td>\n",
       "    </tr>\n",
       "    <tr>\n",
       "      <th>2</th>\n",
       "      <td>Talent 3</td>\n",
       "      <td>['P2', 'P2']</td>\n",
       "      <td>['T201', 'T297']</td>\n",
       "      <td>11</td>\n",
       "      <td>9</td>\n",
       "      <td>[-0.01773854560739807, -0.011648351648351648]</td>\n",
       "    </tr>\n",
       "    <tr>\n",
       "      <th>3</th>\n",
       "      <td>Talent 4</td>\n",
       "      <td>['P5', 'P5']</td>\n",
       "      <td>['T153', 'T296']</td>\n",
       "      <td>10</td>\n",
       "      <td>10</td>\n",
       "      <td>[-0.01749788672865596, -0.011564986737400529]</td>\n",
       "    </tr>\n",
       "    <tr>\n",
       "      <th>4</th>\n",
       "      <td>Talent 5</td>\n",
       "      <td>['P4']</td>\n",
       "      <td>['T39']</td>\n",
       "      <td>8</td>\n",
       "      <td>12</td>\n",
       "      <td>[-0.029608127721335267]</td>\n",
       "    </tr>\n",
       "  </tbody>\n",
       "</table>\n",
       "</div>"
      ],
      "text/plain": [
       "   employee       company     assigned_task  sum_sp  wasted_sp  \\\n",
       "0  Talent 1        ['P3']          ['T270']       8         12   \n",
       "1  Talent 2  ['P3', 'P3']   ['T97', 'T166']      11          9   \n",
       "2  Talent 3  ['P2', 'P2']  ['T201', 'T297']      11          9   \n",
       "3  Talent 4  ['P5', 'P5']  ['T153', 'T296']      10         10   \n",
       "4  Talent 5        ['P4']           ['T39']       8         12   \n",
       "\n",
       "                                 assessment_score  \n",
       "0                         [-0.027166504381694268]  \n",
       "1  [-0.017692307692307688, -0.017582417582417582]  \n",
       "2   [-0.01773854560739807, -0.011648351648351648]  \n",
       "3   [-0.01749788672865596, -0.011564986737400529]  \n",
       "4                         [-0.029608127721335267]  "
      ]
     },
     "execution_count": 2,
     "metadata": {},
     "output_type": "execute_result"
    }
   ],
   "source": [
    "result_moo = pd.read_csv('./output_VM/3_gap_0.025/result_5_MOO_2.csv')\n",
    "result_moo.head()"
   ]
  },
  {
   "cell_type": "code",
   "execution_count": 3,
   "metadata": {},
   "outputs": [
    {
     "data": {
      "text/html": [
       "<div>\n",
       "<style scoped>\n",
       "    .dataframe tbody tr th:only-of-type {\n",
       "        vertical-align: middle;\n",
       "    }\n",
       "\n",
       "    .dataframe tbody tr th {\n",
       "        vertical-align: top;\n",
       "    }\n",
       "\n",
       "    .dataframe thead th {\n",
       "        text-align: right;\n",
       "    }\n",
       "</style>\n",
       "<table border=\"1\" class=\"dataframe\">\n",
       "  <thead>\n",
       "    <tr style=\"text-align: right;\">\n",
       "      <th></th>\n",
       "      <th>job_role</th>\n",
       "      <th>junior</th>\n",
       "      <th>middle</th>\n",
       "      <th>senior</th>\n",
       "    </tr>\n",
       "  </thead>\n",
       "  <tbody>\n",
       "    <tr>\n",
       "      <th>0</th>\n",
       "      <td>Artificial intelligence</td>\n",
       "      <td>15,359,986</td>\n",
       "      <td>20,517,907</td>\n",
       "      <td>34,001,747</td>\n",
       "    </tr>\n",
       "    <tr>\n",
       "      <th>1</th>\n",
       "      <td>Data Analyst</td>\n",
       "      <td>10,361,232</td>\n",
       "      <td>15,519,153</td>\n",
       "      <td>29,002,993</td>\n",
       "    </tr>\n",
       "    <tr>\n",
       "      <th>2</th>\n",
       "      <td>Data Engineer</td>\n",
       "      <td>13,996,396</td>\n",
       "      <td>19,154,317</td>\n",
       "      <td>32,638,157</td>\n",
       "    </tr>\n",
       "    <tr>\n",
       "      <th>3</th>\n",
       "      <td>Data Scientist</td>\n",
       "      <td>16,557,921</td>\n",
       "      <td>21,715,842</td>\n",
       "      <td>35,199,682</td>\n",
       "    </tr>\n",
       "  </tbody>\n",
       "</table>\n",
       "</div>"
      ],
      "text/plain": [
       "                  job_role      junior      middle      senior\n",
       "0  Artificial intelligence  15,359,986  20,517,907  34,001,747\n",
       "1             Data Analyst  10,361,232  15,519,153  29,002,993\n",
       "2            Data Engineer  13,996,396  19,154,317  32,638,157\n",
       "3           Data Scientist  16,557,921  21,715,842  35,199,682"
      ]
     },
     "execution_count": 3,
     "metadata": {},
     "output_type": "execute_result"
    }
   ],
   "source": [
    "salary_job_df = pd.read_csv('./data/linreg_salary_job.csv')\n",
    "salary_job_df.head()"
   ]
  },
  {
   "cell_type": "code",
   "execution_count": 7,
   "metadata": {},
   "outputs": [
    {
     "data": {
      "text/plain": [
       "array(['Artificial intelligence', 'Data Analyst', 'Data Engineer',\n",
       "       'Data Scientist'], dtype=object)"
      ]
     },
     "execution_count": 7,
     "metadata": {},
     "output_type": "execute_result"
    }
   ],
   "source": [
    "# make list of job roles\n",
    "job_roles = salary_job_df['job_role'].unique()\n",
    "job_roles"
   ]
  },
  {
   "cell_type": "code",
   "execution_count": 6,
   "metadata": {},
   "outputs": [
    {
     "data": {
      "text/plain": [
       "{'junior': array(['15,359,986', '10,361,232', '13,996,396', '16,557,921'],\n",
       "       dtype=object),\n",
       " 'middle': array(['20,517,907', '15,519,153', '19,154,317', '21,715,842'],\n",
       "       dtype=object),\n",
       " 'senior': array(['34,001,747', '29,002,993', '32,638,157', '35,199,682'],\n",
       "       dtype=object)}"
      ]
     },
     "execution_count": 6,
     "metadata": {},
     "output_type": "execute_result"
    }
   ],
   "source": [
    "# Create a dictionary of levels\n",
    "levels = {}\n",
    "\n",
    "# iterate each column from second column\n",
    "for col in salary_job_df.columns[1:]:\n",
    "    levels[col] = salary_job_df[col].unique()\n",
    "\n",
    "levels"
   ]
  },
  {
   "cell_type": "code",
   "execution_count": null,
   "metadata": {},
   "outputs": [
    {
     "data": {
      "text/html": [
       "<div>\n",
       "<style scoped>\n",
       "    .dataframe tbody tr th:only-of-type {\n",
       "        vertical-align: middle;\n",
       "    }\n",
       "\n",
       "    .dataframe tbody tr th {\n",
       "        vertical-align: top;\n",
       "    }\n",
       "\n",
       "    .dataframe thead th {\n",
       "        text-align: right;\n",
       "    }\n",
       "</style>\n",
       "<table border=\"1\" class=\"dataframe\">\n",
       "  <thead>\n",
       "    <tr style=\"text-align: right;\">\n",
       "      <th></th>\n",
       "      <th>job_role</th>\n",
       "      <th>junior</th>\n",
       "      <th>middle</th>\n",
       "      <th>senior</th>\n",
       "    </tr>\n",
       "  </thead>\n",
       "  <tbody>\n",
       "    <tr>\n",
       "      <th>0</th>\n",
       "      <td>Artificial intelligence</td>\n",
       "      <td>15,359,986</td>\n",
       "      <td>20,517,907</td>\n",
       "      <td>34,001,747</td>\n",
       "    </tr>\n",
       "    <tr>\n",
       "      <th>1</th>\n",
       "      <td>Data Analyst</td>\n",
       "      <td>10,361,232</td>\n",
       "      <td>15,519,153</td>\n",
       "      <td>29,002,993</td>\n",
       "    </tr>\n",
       "    <tr>\n",
       "      <th>2</th>\n",
       "      <td>Data Engineer</td>\n",
       "      <td>13,996,396</td>\n",
       "      <td>19,154,317</td>\n",
       "      <td>32,638,157</td>\n",
       "    </tr>\n",
       "    <tr>\n",
       "      <th>3</th>\n",
       "      <td>Data Scientist</td>\n",
       "      <td>16,557,921</td>\n",
       "      <td>21,715,842</td>\n",
       "      <td>35,199,682</td>\n",
       "    </tr>\n",
       "  </tbody>\n",
       "</table>\n",
       "</div>"
      ],
      "text/plain": [
       "                  job_role      junior      middle      senior\n",
       "0  Artificial intelligence  15,359,986  20,517,907  34,001,747\n",
       "1             Data Analyst  10,361,232  15,519,153  29,002,993\n",
       "2            Data Engineer  13,996,396  19,154,317  32,638,157\n",
       "3           Data Scientist  16,557,921  21,715,842  35,199,682"
      ]
     },
     "metadata": {},
     "output_type": "display_data"
    }
   ],
   "source": [
    "salary_job_df = pd.read_csv('./data/linreg_salary_job.csv')\n",
    "salary_job_df.head()"
   ]
  },
  {
   "cell_type": "code",
   "execution_count": 31,
   "metadata": {},
   "outputs": [
    {
     "data": {
      "text/plain": [
       "{('Artificial Intelligence', 'Junior'): 15359986,\n",
       " ('Artificial Intelligence', 'Middle'): 20517907,\n",
       " ('Artificial Intelligence', 'Senior'): 34001747,\n",
       " ('Data Analyst', 'Junior'): 10361232,\n",
       " ('Data Analyst', 'Middle'): 15519153,\n",
       " ('Data Analyst', 'Senior'): 29002993,\n",
       " ('Data Engineer', 'Junior'): 13996396,\n",
       " ('Data Engineer', 'Middle'): 19154317,\n",
       " ('Data Engineer', 'Senior'): 32638157,\n",
       " ('Data Scientist', 'Junior'): 16557921,\n",
       " ('Data Scientist', 'Middle'): 21715842,\n",
       " ('Data Scientist', 'Senior'): 35199682}"
      ]
     },
     "execution_count": 31,
     "metadata": {},
     "output_type": "execute_result"
    }
   ],
   "source": [
    "role_levels_salary = {\n",
    "    ('Artificial Intelligence', 'Junior'): 15359986,\n",
    "    ('Artificial Intelligence', 'Middle'): 20517907,\n",
    "    ('Artificial Intelligence', 'Senior'): 34001747,\n",
    "    ('Data Analyst', 'Junior'): 10361232,\n",
    "    ('Data Analyst', 'Middle'): 15519153,\n",
    "    ('Data Analyst', 'Senior'): 29002993,\n",
    "    ('Data Engineer', 'Junior'): 13996396,\n",
    "    ('Data Engineer', 'Middle'): 19154317,\n",
    "    ('Data Engineer', 'Senior'): 32638157,\n",
    "    ('Data Scientist', 'Junior'): 16557921,\n",
    "    ('Data Scientist', 'Middle'): 21715842,\n",
    "    ('Data Scientist', 'Senior'): 35199682,\n",
    "}\n",
    "role_levels_salary"
   ]
  },
  {
   "cell_type": "code",
   "execution_count": 37,
   "metadata": {},
   "outputs": [],
   "source": [
    "# Parameters\n",
    "role = ['Artificial Intelligence', 'Data Analyst', 'Data Engineer', 'Data Scientist']\n",
    "level = ['Junior', 'Middle', 'Senior']\n",
    "\n",
    "curr_workforce = {\n",
    "    ('Artificial Intelligence', 'Junior'): 1000,\n",
    "    ('Artificial Intelligence', 'Middle'): 1440,\n",
    "    ('Artificial Intelligence', 'Senior'): 1650,\n",
    "    ('Data Analyst', 'Junior'): 500,\n",
    "    ('Data Analyst', 'Middle'): 700,\n",
    "    ('Data Analyst', 'Senior'): 1000,\n",
    "    ('Data Engineer', 'Junior'): 900,\n",
    "    ('Data Engineer', 'Middle'): 1100,\n",
    "    ('Data Engineer', 'Senior'): 1520,\n",
    "    ('Data Scientist', 'Junior'): 600,\n",
    "    ('Data Scientist', 'Middle'): 800,\n",
    "    ('Data Scientist', 'Senior'): 1200,\n",
    "}"
   ]
  },
  {
   "cell_type": "code",
   "execution_count": 8,
   "metadata": {},
   "outputs": [
    {
     "name": "stdout",
     "output_type": "stream",
     "text": [
      "Restricted license - for non-production use only - expires 2025-11-24\n"
     ]
    }
   ],
   "source": [
    "# create a model\n",
    "model = Model('manpower')"
   ]
  },
  {
   "cell_type": "code",
   "execution_count": 41,
   "metadata": {},
   "outputs": [
    {
     "data": {
      "text/plain": [
       "{('Artificial Intelligence', 'Junior'): <gurobi.Var *Awaiting Model Update*>,\n",
       " ('Artificial Intelligence', 'Middle'): <gurobi.Var *Awaiting Model Update*>,\n",
       " ('Artificial Intelligence', 'Senior'): <gurobi.Var *Awaiting Model Update*>,\n",
       " ('Data Analyst', 'Junior'): <gurobi.Var *Awaiting Model Update*>,\n",
       " ('Data Analyst', 'Middle'): <gurobi.Var *Awaiting Model Update*>,\n",
       " ('Data Analyst', 'Senior'): <gurobi.Var *Awaiting Model Update*>,\n",
       " ('Data Engineer', 'Junior'): <gurobi.Var *Awaiting Model Update*>,\n",
       " ('Data Engineer', 'Middle'): <gurobi.Var *Awaiting Model Update*>,\n",
       " ('Data Engineer', 'Senior'): <gurobi.Var *Awaiting Model Update*>,\n",
       " ('Data Scientist', 'Junior'): <gurobi.Var *Awaiting Model Update*>,\n",
       " ('Data Scientist', 'Middle'): <gurobi.Var *Awaiting Model Update*>,\n",
       " ('Data Scientist', 'Senior'): <gurobi.Var *Awaiting Model Update*>}"
      ]
     },
     "execution_count": 41,
     "metadata": {},
     "output_type": "execute_result"
    }
   ],
   "source": [
    "# define the decision variables redundancy if laid off is 1, else 0\n",
    "redundancy = model.addVars(role, level, vtype=GRB.BINARY, name='redundancy')\n",
    "redundancy"
   ]
  },
  {
   "cell_type": "code",
   "execution_count": 15,
   "metadata": {},
   "outputs": [],
   "source": [
    "# define the objective function: minimize total employee layoffs\n",
    "model.setObjective(quicksum(redundancy[i, j] for i in job_roles for j in levels.keys()) * cost_redundancy, GRB.MINIMIZE)"
   ]
  },
  {
   "cell_type": "code",
   "execution_count": 16,
   "metadata": {},
   "outputs": [],
   "source": [
    "# define the constraints: workforce balance\n",
    "for i in job_roles:\n",
    "    for j in levels.keys():\n",
    "        model.addConstr(x[i, j] - redundancy[i, j] >= 0, name=f'workforce_balance_{i}_{j}')"
   ]
  },
  {
   "cell_type": "code",
   "execution_count": 17,
   "metadata": {},
   "outputs": [
    {
     "data": {
      "text/plain": [
       "<gurobi.Constr *Awaiting Model Update*>"
      ]
     },
     "execution_count": 17,
     "metadata": {},
     "output_type": "execute_result"
    }
   ],
   "source": [
    "# define the constraints: total employees\n",
    "total_employees = 112\n",
    "model.addConstr(quicksum(x[i, j] for i in job_roles for j in levels.keys()) <= total_employees, name='total_employees')"
   ]
  },
  {
   "cell_type": "code",
   "execution_count": 21,
   "metadata": {},
   "outputs": [
    {
     "name": "stdout",
     "output_type": "stream",
     "text": [
      "Optimal solution found:\n"
     ]
    }
   ],
   "source": [
    "# Print the results\n",
    "if model.status == GRB.OPTIMAL:\n",
    "    print('Optimal solution found:')\n",
    "    for j in job_roles:\n",
    "        for l in levels:\n",
    "            if redundancy[j, l].x > 0:\n",
    "                print(f'{j} {l}:')\n",
    "                print(f'  Employees: {x[j, l].x}')\n",
    "                print(f'  Redundancy: {redundancy[j, l].x}')\n",
    "else:\n",
    "    print('No optimal solution found.')"
   ]
  }
 ],
 "metadata": {
  "kernelspec": {
   "display_name": "Python 3",
   "language": "python",
   "name": "python3"
  },
  "language_info": {
   "codemirror_mode": {
    "name": "ipython",
    "version": 3
   },
   "file_extension": ".py",
   "mimetype": "text/x-python",
   "name": "python",
   "nbconvert_exporter": "python",
   "pygments_lexer": "ipython3",
   "version": "3.9.13"
  }
 },
 "nbformat": 4,
 "nbformat_minor": 2
}
