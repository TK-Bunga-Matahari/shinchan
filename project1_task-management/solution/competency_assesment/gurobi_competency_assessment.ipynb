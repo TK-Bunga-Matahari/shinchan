{
 "cells": [
  {
   "cell_type": "markdown",
   "metadata": {},
   "source": [
    "# Task Assignment Optimization Problem with Gurobi Framework\n",
    "\n",
    "_by: TK-Bunga Matahari Team_\n",
    "\n",
    "---\n",
    "\n",
    "# 0. The Obligatory Part\n"
   ]
  },
  {
   "cell_type": "code",
   "execution_count": 1,
   "metadata": {},
   "outputs": [],
   "source": [
    "# Import library\n",
    "import numpy as np\n",
    "import pandas as pd\n",
    "import gurobipy as gp\n",
    "import matplotlib.pyplot as plt\n",
    "from gurobipy import GRB, quicksum\n",
    "from competency_assessment import CompetencyAssessment"
   ]
  },
  {
   "cell_type": "markdown",
   "metadata": {},
   "source": [
    "# 1. Define the Data Structure\n"
   ]
  },
  {
   "cell_type": "code",
   "execution_count": 2,
   "metadata": {},
   "outputs": [],
   "source": [
    "# Full Data?\n",
    "full = False\n",
    "\n",
    "# Run this if the data in Local/Repository\n",
    "if full:\n",
    "\tnew_employee_path = \"./data/fixed_data_employee.csv\"\n",
    "\tnew_task_path = \"./data/fixed_data_task.csv\"\n",
    "else:\n",
    "\tnew_employee_path = \"./mini_data/mini_data - employee.csv\"\n",
    "\tnew_task_path = \"./mini_data/mini_data - task.csv\"\n",
    "\n",
    "# Run this if the data in Google Drive\n",
    "# new_employee_path = '/content/drive/MyDrive/Tadika Mesra Bunga Matahari/#1 Optimization Problem/project1_task-assignment/data/fixed/fixed_data_employee.csv'\n",
    "# new_task_path = '/content/drive/MyDrive/Tadika Mesra Bunga Matahari/#1 Optimization Problem/project1_task-assignment/data/fixed/fixed_data_task.csv'"
   ]
  },
  {
   "cell_type": "markdown",
   "metadata": {},
   "source": [
    "## 1.1. Pre-Processing: Employee Data\n"
   ]
  },
  {
   "cell_type": "code",
   "execution_count": 3,
   "metadata": {},
   "outputs": [
    {
     "data": {
      "text/html": [
       "<div>\n",
       "<style scoped>\n",
       "    .dataframe tbody tr th:only-of-type {\n",
       "        vertical-align: middle;\n",
       "    }\n",
       "\n",
       "    .dataframe tbody tr th {\n",
       "        vertical-align: top;\n",
       "    }\n",
       "\n",
       "    .dataframe thead th {\n",
       "        text-align: right;\n",
       "    }\n",
       "</style>\n",
       "<table border=\"1\" class=\"dataframe\">\n",
       "  <thead>\n",
       "    <tr style=\"text-align: right;\">\n",
       "      <th></th>\n",
       "      <th>math</th>\n",
       "      <th>python</th>\n",
       "      <th>sql</th>\n",
       "      <th>cloud</th>\n",
       "      <th>database</th>\n",
       "      <th>optimization</th>\n",
       "    </tr>\n",
       "    <tr>\n",
       "      <th>employee_id</th>\n",
       "      <th></th>\n",
       "      <th></th>\n",
       "      <th></th>\n",
       "      <th></th>\n",
       "      <th></th>\n",
       "      <th></th>\n",
       "    </tr>\n",
       "  </thead>\n",
       "  <tbody>\n",
       "    <tr>\n",
       "      <th>Talent 1</th>\n",
       "      <td>5</td>\n",
       "      <td>5</td>\n",
       "      <td>3</td>\n",
       "      <td>2</td>\n",
       "      <td>2</td>\n",
       "      <td>5</td>\n",
       "    </tr>\n",
       "    <tr>\n",
       "      <th>Talent 2</th>\n",
       "      <td>2</td>\n",
       "      <td>5</td>\n",
       "      <td>4</td>\n",
       "      <td>3</td>\n",
       "      <td>3</td>\n",
       "      <td>1</td>\n",
       "    </tr>\n",
       "    <tr>\n",
       "      <th>Talent 3</th>\n",
       "      <td>4</td>\n",
       "      <td>4</td>\n",
       "      <td>5</td>\n",
       "      <td>3</td>\n",
       "      <td>4</td>\n",
       "      <td>3</td>\n",
       "    </tr>\n",
       "    <tr>\n",
       "      <th>Talent 4</th>\n",
       "      <td>3</td>\n",
       "      <td>4</td>\n",
       "      <td>5</td>\n",
       "      <td>5</td>\n",
       "      <td>4</td>\n",
       "      <td>2</td>\n",
       "    </tr>\n",
       "    <tr>\n",
       "      <th>Talent 5</th>\n",
       "      <td>2</td>\n",
       "      <td>3</td>\n",
       "      <td>2</td>\n",
       "      <td>4</td>\n",
       "      <td>5</td>\n",
       "      <td>1</td>\n",
       "    </tr>\n",
       "  </tbody>\n",
       "</table>\n",
       "</div>"
      ],
      "text/plain": [
       "             math  python  sql  cloud  database  optimization\n",
       "employee_id                                                  \n",
       "Talent 1        5       5    3      2         2             5\n",
       "Talent 2        2       5    4      3         3             1\n",
       "Talent 3        4       4    5      3         4             3\n",
       "Talent 4        3       4    5      5         4             2\n",
       "Talent 5        2       3    2      4         5             1"
      ]
     },
     "execution_count": 3,
     "metadata": {},
     "output_type": "execute_result"
    }
   ],
   "source": [
    "# Read data\n",
    "employee_skills_df = pd.read_csv(new_employee_path, index_col=\"employee_id\")\n",
    "employee_skills_df.drop(columns=[\"No\", \"Role\"], inplace=True, errors=\"ignore\")\n",
    "\n",
    "employees = employee_skills_df.index.tolist()\n",
    "skills_name = employee_skills_df.columns[1:].tolist()\n",
    "\n",
    "employee_skills_df"
   ]
  },
  {
   "cell_type": "markdown",
   "metadata": {},
   "source": [
    "## 1.2. Pre-Processing: Task Data\n"
   ]
  },
  {
   "cell_type": "code",
   "execution_count": 4,
   "metadata": {},
   "outputs": [
    {
     "data": {
      "text/html": [
       "<div>\n",
       "<style scoped>\n",
       "    .dataframe tbody tr th:only-of-type {\n",
       "        vertical-align: middle;\n",
       "    }\n",
       "\n",
       "    .dataframe tbody tr th {\n",
       "        vertical-align: top;\n",
       "    }\n",
       "\n",
       "    .dataframe thead th {\n",
       "        text-align: right;\n",
       "    }\n",
       "</style>\n",
       "<table border=\"1\" class=\"dataframe\">\n",
       "  <thead>\n",
       "    <tr style=\"text-align: right;\">\n",
       "      <th></th>\n",
       "      <th>project_id</th>\n",
       "      <th>story_points</th>\n",
       "      <th>math</th>\n",
       "      <th>python</th>\n",
       "      <th>sql</th>\n",
       "      <th>cloud</th>\n",
       "      <th>database</th>\n",
       "      <th>optimization</th>\n",
       "    </tr>\n",
       "    <tr>\n",
       "      <th>task_id</th>\n",
       "      <th></th>\n",
       "      <th></th>\n",
       "      <th></th>\n",
       "      <th></th>\n",
       "      <th></th>\n",
       "      <th></th>\n",
       "      <th></th>\n",
       "      <th></th>\n",
       "    </tr>\n",
       "  </thead>\n",
       "  <tbody>\n",
       "    <tr>\n",
       "      <th>T1</th>\n",
       "      <td>P2</td>\n",
       "      <td>1</td>\n",
       "      <td>0</td>\n",
       "      <td>5</td>\n",
       "      <td>3</td>\n",
       "      <td>4</td>\n",
       "      <td>4</td>\n",
       "      <td>0</td>\n",
       "    </tr>\n",
       "    <tr>\n",
       "      <th>T2</th>\n",
       "      <td>P1</td>\n",
       "      <td>2</td>\n",
       "      <td>3</td>\n",
       "      <td>5</td>\n",
       "      <td>4</td>\n",
       "      <td>5</td>\n",
       "      <td>3</td>\n",
       "      <td>1</td>\n",
       "    </tr>\n",
       "    <tr>\n",
       "      <th>T3</th>\n",
       "      <td>P2</td>\n",
       "      <td>3</td>\n",
       "      <td>5</td>\n",
       "      <td>4</td>\n",
       "      <td>2</td>\n",
       "      <td>0</td>\n",
       "      <td>0</td>\n",
       "      <td>5</td>\n",
       "    </tr>\n",
       "    <tr>\n",
       "      <th>T4</th>\n",
       "      <td>P3</td>\n",
       "      <td>5</td>\n",
       "      <td>2</td>\n",
       "      <td>4</td>\n",
       "      <td>0</td>\n",
       "      <td>3</td>\n",
       "      <td>0</td>\n",
       "      <td>4</td>\n",
       "    </tr>\n",
       "    <tr>\n",
       "      <th>T5</th>\n",
       "      <td>P3</td>\n",
       "      <td>1</td>\n",
       "      <td>0</td>\n",
       "      <td>3</td>\n",
       "      <td>5</td>\n",
       "      <td>1</td>\n",
       "      <td>5</td>\n",
       "      <td>0</td>\n",
       "    </tr>\n",
       "    <tr>\n",
       "      <th>T6</th>\n",
       "      <td>P1</td>\n",
       "      <td>1</td>\n",
       "      <td>0</td>\n",
       "      <td>1</td>\n",
       "      <td>4</td>\n",
       "      <td>5</td>\n",
       "      <td>5</td>\n",
       "      <td>0</td>\n",
       "    </tr>\n",
       "    <tr>\n",
       "      <th>T7</th>\n",
       "      <td>P3</td>\n",
       "      <td>2</td>\n",
       "      <td>4</td>\n",
       "      <td>4</td>\n",
       "      <td>1</td>\n",
       "      <td>1</td>\n",
       "      <td>2</td>\n",
       "      <td>3</td>\n",
       "    </tr>\n",
       "    <tr>\n",
       "      <th>T8</th>\n",
       "      <td>P1</td>\n",
       "      <td>3</td>\n",
       "      <td>1</td>\n",
       "      <td>0</td>\n",
       "      <td>5</td>\n",
       "      <td>5</td>\n",
       "      <td>3</td>\n",
       "      <td>0</td>\n",
       "    </tr>\n",
       "    <tr>\n",
       "      <th>T9</th>\n",
       "      <td>P2</td>\n",
       "      <td>1</td>\n",
       "      <td>3</td>\n",
       "      <td>4</td>\n",
       "      <td>3</td>\n",
       "      <td>0</td>\n",
       "      <td>0</td>\n",
       "      <td>2</td>\n",
       "    </tr>\n",
       "    <tr>\n",
       "      <th>T10</th>\n",
       "      <td>P1</td>\n",
       "      <td>3</td>\n",
       "      <td>5</td>\n",
       "      <td>5</td>\n",
       "      <td>0</td>\n",
       "      <td>0</td>\n",
       "      <td>0</td>\n",
       "      <td>5</td>\n",
       "    </tr>\n",
       "  </tbody>\n",
       "</table>\n",
       "</div>"
      ],
      "text/plain": [
       "        project_id  story_points  math  python  sql  cloud  database   \n",
       "task_id                                                                \n",
       "T1              P2             1     0       5    3      4         4  \\\n",
       "T2              P1             2     3       5    4      5         3   \n",
       "T3              P2             3     5       4    2      0         0   \n",
       "T4              P3             5     2       4    0      3         0   \n",
       "T5              P3             1     0       3    5      1         5   \n",
       "T6              P1             1     0       1    4      5         5   \n",
       "T7              P3             2     4       4    1      1         2   \n",
       "T8              P1             3     1       0    5      5         3   \n",
       "T9              P2             1     3       4    3      0         0   \n",
       "T10             P1             3     5       5    0      0         0   \n",
       "\n",
       "         optimization  \n",
       "task_id                \n",
       "T1                  0  \n",
       "T2                  1  \n",
       "T3                  5  \n",
       "T4                  4  \n",
       "T5                  0  \n",
       "T6                  0  \n",
       "T7                  3  \n",
       "T8                  0  \n",
       "T9                  2  \n",
       "T10                 5  "
      ]
     },
     "execution_count": 4,
     "metadata": {},
     "output_type": "execute_result"
    }
   ],
   "source": [
    "task_df = pd.read_csv(new_task_path, index_col=\"task_id\")\n",
    "\n",
    "tasks = task_df.index.tolist()\n",
    "company_names = list(set(task_df[\"project_id\"]))\n",
    "story_points = task_df[\"story_points\"].to_dict()\n",
    "\n",
    "task_df"
   ]
  },
  {
   "cell_type": "markdown",
   "metadata": {},
   "source": [
    "## 1.3. Group the task data by company/project\n"
   ]
  },
  {
   "cell_type": "code",
   "execution_count": 5,
   "metadata": {},
   "outputs": [
    {
     "data": {
      "text/html": [
       "<div>\n",
       "<style scoped>\n",
       "    .dataframe tbody tr th:only-of-type {\n",
       "        vertical-align: middle;\n",
       "    }\n",
       "\n",
       "    .dataframe tbody tr th {\n",
       "        vertical-align: top;\n",
       "    }\n",
       "\n",
       "    .dataframe thead th {\n",
       "        text-align: right;\n",
       "    }\n",
       "</style>\n",
       "<table border=\"1\" class=\"dataframe\">\n",
       "  <thead>\n",
       "    <tr style=\"text-align: right;\">\n",
       "      <th></th>\n",
       "      <th>0</th>\n",
       "      <th>1</th>\n",
       "      <th>2</th>\n",
       "      <th>3</th>\n",
       "    </tr>\n",
       "  </thead>\n",
       "  <tbody>\n",
       "    <tr>\n",
       "      <th>P1</th>\n",
       "      <td>T2</td>\n",
       "      <td>T6</td>\n",
       "      <td>T8</td>\n",
       "      <td>T10</td>\n",
       "    </tr>\n",
       "    <tr>\n",
       "      <th>P2</th>\n",
       "      <td>T1</td>\n",
       "      <td>T3</td>\n",
       "      <td>T9</td>\n",
       "      <td>None</td>\n",
       "    </tr>\n",
       "    <tr>\n",
       "      <th>P3</th>\n",
       "      <td>T4</td>\n",
       "      <td>T5</td>\n",
       "      <td>T7</td>\n",
       "      <td>None</td>\n",
       "    </tr>\n",
       "  </tbody>\n",
       "</table>\n",
       "</div>"
      ],
      "text/plain": [
       "     0   1   2     3\n",
       "P1  T2  T6  T8   T10\n",
       "P2  T1  T3  T9  None\n",
       "P3  T4  T5  T7  None"
      ]
     },
     "execution_count": 5,
     "metadata": {},
     "output_type": "execute_result"
    }
   ],
   "source": [
    "# convert to dictionary each company and its task\n",
    "company_tasks = {}\n",
    "\n",
    "for company in company_names:\n",
    "    company_tasks[company] = task_df[task_df[\"project_id\"] == company].index.tolist()\n",
    "\n",
    "# sort the company tasks from C1 to C5\n",
    "company_tasks = dict(sorted(company_tasks.items()))\n",
    "\n",
    "company_tasks_df = pd.DataFrame.from_dict(company_tasks, orient=\"index\")\n",
    "company_tasks_df"
   ]
  },
  {
   "cell_type": "markdown",
   "metadata": {},
   "source": [
    "## 1.4. Pre-Processing: Competency Assesment\n",
    "\n",
    "First, create RCD-ACD Dataframe that we get from Task Dataframe for RCD and from Employee Dataframe for ACD.\n",
    "\n",
    "### 1.4.1 Required Competence Data\n"
   ]
  },
  {
   "cell_type": "code",
   "execution_count": 6,
   "metadata": {},
   "outputs": [
    {
     "data": {
      "text/html": [
       "<div>\n",
       "<style scoped>\n",
       "    .dataframe tbody tr th:only-of-type {\n",
       "        vertical-align: middle;\n",
       "    }\n",
       "\n",
       "    .dataframe tbody tr th {\n",
       "        vertical-align: top;\n",
       "    }\n",
       "\n",
       "    .dataframe thead th {\n",
       "        text-align: right;\n",
       "    }\n",
       "</style>\n",
       "<table border=\"1\" class=\"dataframe\">\n",
       "  <thead>\n",
       "    <tr style=\"text-align: right;\">\n",
       "      <th></th>\n",
       "      <th>math</th>\n",
       "      <th>python</th>\n",
       "      <th>sql</th>\n",
       "      <th>cloud</th>\n",
       "      <th>database</th>\n",
       "      <th>optimization</th>\n",
       "    </tr>\n",
       "    <tr>\n",
       "      <th>task_id</th>\n",
       "      <th></th>\n",
       "      <th></th>\n",
       "      <th></th>\n",
       "      <th></th>\n",
       "      <th></th>\n",
       "      <th></th>\n",
       "    </tr>\n",
       "  </thead>\n",
       "  <tbody>\n",
       "    <tr>\n",
       "      <th>T1</th>\n",
       "      <td>0</td>\n",
       "      <td>5</td>\n",
       "      <td>3</td>\n",
       "      <td>4</td>\n",
       "      <td>4</td>\n",
       "      <td>0</td>\n",
       "    </tr>\n",
       "    <tr>\n",
       "      <th>T2</th>\n",
       "      <td>3</td>\n",
       "      <td>5</td>\n",
       "      <td>4</td>\n",
       "      <td>5</td>\n",
       "      <td>3</td>\n",
       "      <td>1</td>\n",
       "    </tr>\n",
       "    <tr>\n",
       "      <th>T3</th>\n",
       "      <td>5</td>\n",
       "      <td>4</td>\n",
       "      <td>2</td>\n",
       "      <td>0</td>\n",
       "      <td>0</td>\n",
       "      <td>5</td>\n",
       "    </tr>\n",
       "    <tr>\n",
       "      <th>T4</th>\n",
       "      <td>2</td>\n",
       "      <td>4</td>\n",
       "      <td>0</td>\n",
       "      <td>3</td>\n",
       "      <td>0</td>\n",
       "      <td>4</td>\n",
       "    </tr>\n",
       "    <tr>\n",
       "      <th>T5</th>\n",
       "      <td>0</td>\n",
       "      <td>3</td>\n",
       "      <td>5</td>\n",
       "      <td>1</td>\n",
       "      <td>5</td>\n",
       "      <td>0</td>\n",
       "    </tr>\n",
       "    <tr>\n",
       "      <th>T6</th>\n",
       "      <td>0</td>\n",
       "      <td>1</td>\n",
       "      <td>4</td>\n",
       "      <td>5</td>\n",
       "      <td>5</td>\n",
       "      <td>0</td>\n",
       "    </tr>\n",
       "    <tr>\n",
       "      <th>T7</th>\n",
       "      <td>4</td>\n",
       "      <td>4</td>\n",
       "      <td>1</td>\n",
       "      <td>1</td>\n",
       "      <td>2</td>\n",
       "      <td>3</td>\n",
       "    </tr>\n",
       "    <tr>\n",
       "      <th>T8</th>\n",
       "      <td>1</td>\n",
       "      <td>0</td>\n",
       "      <td>5</td>\n",
       "      <td>5</td>\n",
       "      <td>3</td>\n",
       "      <td>0</td>\n",
       "    </tr>\n",
       "    <tr>\n",
       "      <th>T9</th>\n",
       "      <td>3</td>\n",
       "      <td>4</td>\n",
       "      <td>3</td>\n",
       "      <td>0</td>\n",
       "      <td>0</td>\n",
       "      <td>2</td>\n",
       "    </tr>\n",
       "    <tr>\n",
       "      <th>T10</th>\n",
       "      <td>5</td>\n",
       "      <td>5</td>\n",
       "      <td>0</td>\n",
       "      <td>0</td>\n",
       "      <td>0</td>\n",
       "      <td>5</td>\n",
       "    </tr>\n",
       "  </tbody>\n",
       "</table>\n",
       "</div>"
      ],
      "text/plain": [
       "         math  python  sql  cloud  database  optimization\n",
       "task_id                                                  \n",
       "T1          0       5    3      4         4             0\n",
       "T2          3       5    4      5         3             1\n",
       "T3          5       4    2      0         0             5\n",
       "T4          2       4    0      3         0             4\n",
       "T5          0       3    5      1         5             0\n",
       "T6          0       1    4      5         5             0\n",
       "T7          4       4    1      1         2             3\n",
       "T8          1       0    5      5         3             0\n",
       "T9          3       4    3      0         0             2\n",
       "T10         5       5    0      0         0             5"
      ]
     },
     "execution_count": 6,
     "metadata": {},
     "output_type": "execute_result"
    }
   ],
   "source": [
    "rcd_df = task_df.drop(columns=[\"project_id\", \"story_points\"])\n",
    "rcd_df = rcd_df.fillna(0)\n",
    "rcd_df"
   ]
  },
  {
   "cell_type": "markdown",
   "metadata": {},
   "source": [
    "### 1.4.2 Acquired Competence Data\n"
   ]
  },
  {
   "cell_type": "code",
   "execution_count": 7,
   "metadata": {},
   "outputs": [
    {
     "data": {
      "text/html": [
       "<div>\n",
       "<style scoped>\n",
       "    .dataframe tbody tr th:only-of-type {\n",
       "        vertical-align: middle;\n",
       "    }\n",
       "\n",
       "    .dataframe tbody tr th {\n",
       "        vertical-align: top;\n",
       "    }\n",
       "\n",
       "    .dataframe thead th {\n",
       "        text-align: right;\n",
       "    }\n",
       "</style>\n",
       "<table border=\"1\" class=\"dataframe\">\n",
       "  <thead>\n",
       "    <tr style=\"text-align: right;\">\n",
       "      <th></th>\n",
       "      <th>math</th>\n",
       "      <th>python</th>\n",
       "      <th>sql</th>\n",
       "      <th>cloud</th>\n",
       "      <th>database</th>\n",
       "      <th>optimization</th>\n",
       "    </tr>\n",
       "    <tr>\n",
       "      <th>employee_id</th>\n",
       "      <th></th>\n",
       "      <th></th>\n",
       "      <th></th>\n",
       "      <th></th>\n",
       "      <th></th>\n",
       "      <th></th>\n",
       "    </tr>\n",
       "  </thead>\n",
       "  <tbody>\n",
       "    <tr>\n",
       "      <th>Talent 1</th>\n",
       "      <td>5</td>\n",
       "      <td>5</td>\n",
       "      <td>3</td>\n",
       "      <td>2</td>\n",
       "      <td>2</td>\n",
       "      <td>5</td>\n",
       "    </tr>\n",
       "    <tr>\n",
       "      <th>Talent 2</th>\n",
       "      <td>2</td>\n",
       "      <td>5</td>\n",
       "      <td>4</td>\n",
       "      <td>3</td>\n",
       "      <td>3</td>\n",
       "      <td>1</td>\n",
       "    </tr>\n",
       "    <tr>\n",
       "      <th>Talent 3</th>\n",
       "      <td>4</td>\n",
       "      <td>4</td>\n",
       "      <td>5</td>\n",
       "      <td>3</td>\n",
       "      <td>4</td>\n",
       "      <td>3</td>\n",
       "    </tr>\n",
       "    <tr>\n",
       "      <th>Talent 4</th>\n",
       "      <td>3</td>\n",
       "      <td>4</td>\n",
       "      <td>5</td>\n",
       "      <td>5</td>\n",
       "      <td>4</td>\n",
       "      <td>2</td>\n",
       "    </tr>\n",
       "    <tr>\n",
       "      <th>Talent 5</th>\n",
       "      <td>2</td>\n",
       "      <td>3</td>\n",
       "      <td>2</td>\n",
       "      <td>4</td>\n",
       "      <td>5</td>\n",
       "      <td>1</td>\n",
       "    </tr>\n",
       "  </tbody>\n",
       "</table>\n",
       "</div>"
      ],
      "text/plain": [
       "             math  python  sql  cloud  database  optimization\n",
       "employee_id                                                  \n",
       "Talent 1        5       5    3      2         2             5\n",
       "Talent 2        2       5    4      3         3             1\n",
       "Talent 3        4       4    5      3         4             3\n",
       "Talent 4        3       4    5      5         4             2\n",
       "Talent 5        2       3    2      4         5             1"
      ]
     },
     "execution_count": 7,
     "metadata": {},
     "output_type": "execute_result"
    }
   ],
   "source": [
    "# create a copy of the original DataFrame\n",
    "acd_df = employee_skills_df.copy()\n",
    "acd_df = acd_df.fillna(0)\n",
    "acd_df"
   ]
  },
  {
   "cell_type": "markdown",
   "metadata": {},
   "source": [
    "### 1.4.3 Fit the Data\n"
   ]
  },
  {
   "cell_type": "code",
   "execution_count": 8,
   "metadata": {},
   "outputs": [],
   "source": [
    "ca = CompetencyAssessment(rcd_df, acd_df)\n",
    "qs, info = ca.fit()"
   ]
  },
  {
   "cell_type": "markdown",
   "metadata": {},
   "source": [
    "### 1.4.4 Qualification Space\n"
   ]
  },
  {
   "cell_type": "code",
   "execution_count": 9,
   "metadata": {},
   "outputs": [
    {
     "data": {
      "text/plain": [
       "{'Talent 1': {'T1': [0.0, -1.0, -0.16666666666666666, 'Under-Qualified'],\n",
       "  'T2': [0.4761904761904761,\n",
       "   -1.0476190476190477,\n",
       "   -0.09523809523809527,\n",
       "   'Under-Qualified'],\n",
       "  'T3': [0.375, 0, 0.0625, 'Qualified'],\n",
       "  'T4': [1.076923076923077,\n",
       "   -0.23076923076923073,\n",
       "   0.14102564102564105,\n",
       "   'Qualified'],\n",
       "  'T5': [0.5, -1.785714285714286, -0.21428571428571433, 'Under-Qualified'],\n",
       "  'T6': [0.26666666666666666,\n",
       "   -2.2666666666666666,\n",
       "   -0.3333333333333333,\n",
       "   'Under-Qualified'],\n",
       "  'T7': [1.133333333333333, 0, 0.18888888888888886, 'Qualified'],\n",
       "  'T8': [0.2857142857142857,\n",
       "   -2.0000000000000004,\n",
       "   -0.2857142857142858,\n",
       "   'Under-Qualified'],\n",
       "  'T9': [1.3333333333333333, 0, 0.2222222222222222, 'Qualified'],\n",
       "  'T10': [0.0, 0, 0.0, 'Qualified']},\n",
       " 'Talent 2': {'T1': [0.1875, -0.5, -0.052083333333333336, 'Under-Qualified'],\n",
       "  'T2': [0.0, -0.6190476190476191, -0.10317460317460318, 'Under-Qualified'],\n",
       "  'T3': [0.5, -2.1875, -0.28125, 'Under-Qualified'],\n",
       "  'T4': [0.3076923076923077,\n",
       "   -0.9230769230769231,\n",
       "   -0.10256410256410257,\n",
       "   'Under-Qualified'],\n",
       "  'T5': [0.5714285714285714,\n",
       "   -1.0714285714285716,\n",
       "   -0.08333333333333337,\n",
       "   'Under-Qualified'],\n",
       "  'T6': [0.26666666666666666,\n",
       "   -1.333333333333333,\n",
       "   -0.17777777777777773,\n",
       "   'Under-Qualified'],\n",
       "  'T7': [0.7333333333333334,\n",
       "   -0.9333333333333333,\n",
       "   -0.033333333333333326,\n",
       "   'Under-Qualified'],\n",
       "  'T8': [0.07142857142857142,\n",
       "   -1.0714285714285716,\n",
       "   -0.1666666666666667,\n",
       "   'Under-Qualified'],\n",
       "  'T9': [0.5833333333333333,\n",
       "   -0.41666666666666663,\n",
       "   0.027777777777777773,\n",
       "   'Qualified'],\n",
       "  'T10': [0.0, -2.333333333333333, -0.38888888888888884, 'Under-Qualified']},\n",
       " 'Talent 3': {'T1': [0.375, -0.5625, -0.03125, 'Under-Qualified'],\n",
       "  'T2': [0.5714285714285714,\n",
       "   -0.7142857142857144,\n",
       "   -0.023809523809523836,\n",
       "   'Under-Qualified'],\n",
       "  'T3': [0.375, -0.9375, -0.09375, 'Under-Qualified'],\n",
       "  'T4': [0.3076923076923077, -0.3076923076923077, 0.0, 'Qualified'],\n",
       "  'T5': [0.35714285714285715,\n",
       "   -0.3571428571428572,\n",
       "   -9.25185853854297e-18,\n",
       "   'Under-Qualified'],\n",
       "  'T6': [0.4666666666666666,\n",
       "   -0.9999999999999998,\n",
       "   -0.08888888888888886,\n",
       "   'Under-Qualified'],\n",
       "  'T7': [0.6666666666666667, 0, 0.11111111111111112, 'Qualified'],\n",
       "  'T8': [0.4285714285714286,\n",
       "   -0.7142857142857144,\n",
       "   -0.04761904761904764,\n",
       "   'Under-Qualified'],\n",
       "  'T9': [0.9166666666666667, 0, 0.1527777777777778, 'Qualified'],\n",
       "  'T10': [0.0, -1.333333333333333, -0.22222222222222218, 'Under-Qualified']},\n",
       " 'Talent 4': {'T1': [0.625, -0.3125, 0.052083333333333336, 'Qualified'],\n",
       "  'T2': [0.38095238095238093,\n",
       "   -0.23809523809523814,\n",
       "   0.023809523809523798,\n",
       "   'Qualified'],\n",
       "  'T3': [0.375, -1.5625, -0.19791666666666666, 'Under-Qualified'],\n",
       "  'T4': [0.6153846153846155,\n",
       "   -0.6153846153846154,\n",
       "   1.850371707708594e-17,\n",
       "   'Qualified'],\n",
       "  'T5': [0.5, -0.3571428571428572, 0.023809523809523798, 'Qualified'],\n",
       "  'T6': [0.4666666666666666,\n",
       "   -0.33333333333333326,\n",
       "   0.022222222222222227,\n",
       "   'Qualified'],\n",
       "  'T7': [0.8, -0.4666666666666667, 0.05555555555555556, 'Qualified'],\n",
       "  'T8': [0.35714285714285715, 0, 0.05952380952380953, 'Qualified'],\n",
       "  'T9': [0.5, 0, 0.08333333333333333, 'Qualified'],\n",
       "  'T10': [0.0, -1.9999999999999996, -0.33333333333333326, 'Under-Qualified']},\n",
       " 'Talent 5': {'T1': [0.25, -0.8125, -0.09375, 'Under-Qualified'],\n",
       "  'T2': [0.28571428571428564,\n",
       "   -1.2380952380952381,\n",
       "   -0.15873015873015875,\n",
       "   'Under-Qualified'],\n",
       "  'T3': [0.0, -2.4375, -0.40625, 'Under-Qualified'],\n",
       "  'T4': [0.23076923076923084,\n",
       "   -1.2307692307692308,\n",
       "   -0.16666666666666666,\n",
       "   'Under-Qualified'],\n",
       "  'T5': [0.21428571428571427,\n",
       "   -1.0714285714285716,\n",
       "   -0.14285714285714288,\n",
       "   'Under-Qualified'],\n",
       "  'T6': [0.13333333333333336,\n",
       "   -0.8666666666666666,\n",
       "   -0.12222222222222219,\n",
       "   'Under-Qualified'],\n",
       "  'T7': [0.6666666666666666, -1.2, -0.08888888888888889, 'Under-Qualified'],\n",
       "  'T8': [0.5, -1.4285714285714288, -0.1547619047619048, 'Under-Qualified'],\n",
       "  'T9': [0.0, -0.9999999999999999, -0.16666666666666666, 'Under-Qualified'],\n",
       "  'T10': [0.0, -3.0, -0.5, 'Under-Qualified']}}"
      ]
     },
     "execution_count": 9,
     "metadata": {},
     "output_type": "execute_result"
    }
   ],
   "source": [
    "qs"
   ]
  },
  {
   "cell_type": "markdown",
   "metadata": {},
   "source": [
    "### 1.4.5 Sorted MSG Score for All Tasks\n"
   ]
  },
  {
   "cell_type": "code",
   "execution_count": 10,
   "metadata": {},
   "outputs": [
    {
     "data": {
      "text/plain": [
       "{'Talent 1': {'T9': 0.2222222222222222,\n",
       "  'T7': 0.18888888888888886,\n",
       "  'T4': 0.14102564102564105,\n",
       "  'T3': 0.0625,\n",
       "  'T10': 0.0,\n",
       "  'T2': -0.09523809523809527,\n",
       "  'T1': -0.16666666666666666,\n",
       "  'T5': -0.21428571428571433,\n",
       "  'T8': -0.2857142857142858,\n",
       "  'T6': -0.3333333333333333},\n",
       " 'Talent 2': {'T9': 0.027777777777777773,\n",
       "  'T7': -0.033333333333333326,\n",
       "  'T1': -0.052083333333333336,\n",
       "  'T5': -0.08333333333333337,\n",
       "  'T4': -0.10256410256410257,\n",
       "  'T2': -0.10317460317460318,\n",
       "  'T8': -0.1666666666666667,\n",
       "  'T6': -0.17777777777777773,\n",
       "  'T3': -0.28125,\n",
       "  'T10': -0.38888888888888884},\n",
       " 'Talent 3': {'T9': 0.1527777777777778,\n",
       "  'T7': 0.11111111111111112,\n",
       "  'T4': 0.0,\n",
       "  'T5': -9.25185853854297e-18,\n",
       "  'T2': -0.023809523809523836,\n",
       "  'T1': -0.03125,\n",
       "  'T8': -0.04761904761904764,\n",
       "  'T6': -0.08888888888888886,\n",
       "  'T3': -0.09375,\n",
       "  'T10': -0.22222222222222218},\n",
       " 'Talent 4': {'T9': 0.08333333333333333,\n",
       "  'T8': 0.05952380952380953,\n",
       "  'T7': 0.05555555555555556,\n",
       "  'T1': 0.052083333333333336,\n",
       "  'T2': 0.023809523809523798,\n",
       "  'T5': 0.023809523809523798,\n",
       "  'T6': 0.022222222222222227,\n",
       "  'T4': 1.850371707708594e-17,\n",
       "  'T3': -0.19791666666666666,\n",
       "  'T10': -0.33333333333333326},\n",
       " 'Talent 5': {'T7': -0.08888888888888889,\n",
       "  'T1': -0.09375,\n",
       "  'T6': -0.12222222222222219,\n",
       "  'T5': -0.14285714285714288,\n",
       "  'T8': -0.1547619047619048,\n",
       "  'T2': -0.15873015873015875,\n",
       "  'T4': -0.16666666666666666,\n",
       "  'T9': -0.16666666666666666,\n",
       "  'T3': -0.40625,\n",
       "  'T10': -0.5}}"
      ]
     },
     "execution_count": 10,
     "metadata": {},
     "output_type": "execute_result"
    }
   ],
   "source": [
    "score = ca.rank_MSG(qs)\n",
    "score_for_obj2 = score\n",
    "score"
   ]
  },
  {
   "cell_type": "markdown",
   "metadata": {},
   "source": [
    "# 2. Construct the Model\n"
   ]
  },
  {
   "cell_type": "code",
   "execution_count": 11,
   "metadata": {},
   "outputs": [],
   "source": [
    "WLSACCESSID = \"f26730de-b14b-4197-9dbd-7d12372b5d9e\"\n",
    "WLSSECRET = \"4ff3e9d2-037b-47c4-898d-6de34404e994\"\n",
    "LICENSEID = 2521640"
   ]
  },
  {
   "cell_type": "code",
   "execution_count": 12,
   "metadata": {},
   "outputs": [
    {
     "name": "stdout",
     "output_type": "stream",
     "text": [
      "Set parameter WLSAccessID\n",
      "Set parameter WLSSecret\n",
      "Set parameter LicenseID to value 2521640\n",
      "Academic license 2521640 - for non-commercial use only - registered to na___@mail.ugm.ac.id\n"
     ]
    }
   ],
   "source": [
    "# Create an environment with WLS license\n",
    "params = {\n",
    "    \"WLSACCESSID\": WLSACCESSID,\n",
    "    \"WLSSECRET\": WLSSECRET,\n",
    "    \"LICENSEID\": LICENSEID,\n",
    "}\n",
    "env = gp.Env(params=params)\n",
    "\n",
    "# Create the model within the Gurobi environment\n",
    "model = gp.Model(name=\"task_assignment\", env=env)"
   ]
  },
  {
   "cell_type": "markdown",
   "metadata": {},
   "source": [
    "# 3. Build the Decision Variable\n",
    "\n",
    "We have 3 sets:\n",
    "\n",
    "$$\n",
    "\\text{sets} = \\begin{cases}\n",
    "I &: \\text{set of tasks} \\\\\n",
    "J &: \\text{set of employees} \\\\\n",
    "K &: \\text{set of projects}\n",
    "\\end{cases}\n",
    "$$\n",
    "\n",
    "Next, we define parameters, scalars, and data structures. Let:\n",
    "\n",
    "$$\n",
    "\\begin{align*}\n",
    "i & = \\text{task } i \\\\\n",
    "j & = \\text{employee } j \\\\\n",
    "k & = \\text{project } k \\\\\n",
    "s_i & = \\text{story points of task } i \\\\\n",
    "e_{ij} & = \\text{similarity skills of employee } j \\text{ for task } i \\\\\n",
    "\\end{align*}\n",
    "$$\n",
    "\n",
    "**Decision Variables:**\n",
    "\n",
    "$$\n",
    "\\begin{align*}\n",
    "x_{ijk} & = \\text{Binary variable indicating whether employee } j \\text{ is assigned to task } k \\text{ for day } i \\\\\n",
    "y_{jk} & = \\text{Binary variable indicating whether employee } j \\text{ is assigned to any task from company } k \\\\\n",
    "\\end{align*}\n",
    "$$\n"
   ]
  },
  {
   "cell_type": "code",
   "execution_count": 13,
   "metadata": {},
   "outputs": [],
   "source": [
    "if full:\n",
    "\tmax_employee_workload = 20\n",
    "else:\n",
    "    max_employee_workload = 8"
   ]
  },
  {
   "cell_type": "code",
   "execution_count": 14,
   "metadata": {},
   "outputs": [],
   "source": [
    "# Create decision variables for x and y\n",
    "x = {}\n",
    "for k, task in company_tasks.items():\n",
    "    for i in task:\n",
    "        for j in employees:\n",
    "            x[(i, j, k)] = model.addVar(vtype=GRB.BINARY, name=f\"x_{i}_{j}_{k}\")\n",
    "\n",
    "# Decision variable y to represent cardinality of each employee and company\n",
    "y = {}\n",
    "for j in employees:\n",
    "    for k in company_tasks.keys():\n",
    "        y[(j, k)] = model.addVar(vtype=GRB.BINARY, name=f\"y_{j}_{k}\")\n",
    "\n",
    "# Decision variable for max workload\n",
    "max_workload = model.addVar(\n",
    "    vtype=GRB.INTEGER, lb=0, ub=max_employee_workload, name=\"max_workload\"\n",
    ")\n",
    "\n",
    "# Integrate new variables\n",
    "model.update()"
   ]
  },
  {
   "cell_type": "code",
   "execution_count": 15,
   "metadata": {},
   "outputs": [
    {
     "name": "stdout",
     "output_type": "stream",
     "text": [
      "{('T2', 'Talent 1', 'P1'): <gurobi.Var x_T2_Talent 1_P1>, ('T2', 'Talent 2', 'P1'): <gurobi.Var x_T2_Talent 2_P1>, ('T2', 'Talent 3', 'P1'): <gurobi.Var x_T2_Talent 3_P1>, ('T2', 'Talent 4', 'P1'): <gurobi.Var x_T2_Talent 4_P1>, ('T2', 'Talent 5', 'P1'): <gurobi.Var x_T2_Talent 5_P1>, ('T6', 'Talent 1', 'P1'): <gurobi.Var x_T6_Talent 1_P1>, ('T6', 'Talent 2', 'P1'): <gurobi.Var x_T6_Talent 2_P1>, ('T6', 'Talent 3', 'P1'): <gurobi.Var x_T6_Talent 3_P1>, ('T6', 'Talent 4', 'P1'): <gurobi.Var x_T6_Talent 4_P1>, ('T6', 'Talent 5', 'P1'): <gurobi.Var x_T6_Talent 5_P1>, ('T8', 'Talent 1', 'P1'): <gurobi.Var x_T8_Talent 1_P1>, ('T8', 'Talent 2', 'P1'): <gurobi.Var x_T8_Talent 2_P1>, ('T8', 'Talent 3', 'P1'): <gurobi.Var x_T8_Talent 3_P1>, ('T8', 'Talent 4', 'P1'): <gurobi.Var x_T8_Talent 4_P1>, ('T8', 'Talent 5', 'P1'): <gurobi.Var x_T8_Talent 5_P1>, ('T10', 'Talent 1', 'P1'): <gurobi.Var x_T10_Talent 1_P1>, ('T10', 'Talent 2', 'P1'): <gurobi.Var x_T10_Talent 2_P1>, ('T10', 'Talent 3', 'P1'): <gurobi.Var x_T10_Talent 3_P1>, ('T10', 'Talent 4', 'P1'): <gurobi.Var x_T10_Talent 4_P1>, ('T10', 'Talent 5', 'P1'): <gurobi.Var x_T10_Talent 5_P1>, ('T1', 'Talent 1', 'P2'): <gurobi.Var x_T1_Talent 1_P2>, ('T1', 'Talent 2', 'P2'): <gurobi.Var x_T1_Talent 2_P2>, ('T1', 'Talent 3', 'P2'): <gurobi.Var x_T1_Talent 3_P2>, ('T1', 'Talent 4', 'P2'): <gurobi.Var x_T1_Talent 4_P2>, ('T1', 'Talent 5', 'P2'): <gurobi.Var x_T1_Talent 5_P2>, ('T3', 'Talent 1', 'P2'): <gurobi.Var x_T3_Talent 1_P2>, ('T3', 'Talent 2', 'P2'): <gurobi.Var x_T3_Talent 2_P2>, ('T3', 'Talent 3', 'P2'): <gurobi.Var x_T3_Talent 3_P2>, ('T3', 'Talent 4', 'P2'): <gurobi.Var x_T3_Talent 4_P2>, ('T3', 'Talent 5', 'P2'): <gurobi.Var x_T3_Talent 5_P2>, ('T9', 'Talent 1', 'P2'): <gurobi.Var x_T9_Talent 1_P2>, ('T9', 'Talent 2', 'P2'): <gurobi.Var x_T9_Talent 2_P2>, ('T9', 'Talent 3', 'P2'): <gurobi.Var x_T9_Talent 3_P2>, ('T9', 'Talent 4', 'P2'): <gurobi.Var x_T9_Talent 4_P2>, ('T9', 'Talent 5', 'P2'): <gurobi.Var x_T9_Talent 5_P2>, ('T4', 'Talent 1', 'P3'): <gurobi.Var x_T4_Talent 1_P3>, ('T4', 'Talent 2', 'P3'): <gurobi.Var x_T4_Talent 2_P3>, ('T4', 'Talent 3', 'P3'): <gurobi.Var x_T4_Talent 3_P3>, ('T4', 'Talent 4', 'P3'): <gurobi.Var x_T4_Talent 4_P3>, ('T4', 'Talent 5', 'P3'): <gurobi.Var x_T4_Talent 5_P3>, ('T5', 'Talent 1', 'P3'): <gurobi.Var x_T5_Talent 1_P3>, ('T5', 'Talent 2', 'P3'): <gurobi.Var x_T5_Talent 2_P3>, ('T5', 'Talent 3', 'P3'): <gurobi.Var x_T5_Talent 3_P3>, ('T5', 'Talent 4', 'P3'): <gurobi.Var x_T5_Talent 4_P3>, ('T5', 'Talent 5', 'P3'): <gurobi.Var x_T5_Talent 5_P3>, ('T7', 'Talent 1', 'P3'): <gurobi.Var x_T7_Talent 1_P3>, ('T7', 'Talent 2', 'P3'): <gurobi.Var x_T7_Talent 2_P3>, ('T7', 'Talent 3', 'P3'): <gurobi.Var x_T7_Talent 3_P3>, ('T7', 'Talent 4', 'P3'): <gurobi.Var x_T7_Talent 4_P3>, ('T7', 'Talent 5', 'P3'): <gurobi.Var x_T7_Talent 5_P3>}\n",
      "{('Talent 1', 'P1'): <gurobi.Var y_Talent 1_P1>, ('Talent 1', 'P2'): <gurobi.Var y_Talent 1_P2>, ('Talent 1', 'P3'): <gurobi.Var y_Talent 1_P3>, ('Talent 2', 'P1'): <gurobi.Var y_Talent 2_P1>, ('Talent 2', 'P2'): <gurobi.Var y_Talent 2_P2>, ('Talent 2', 'P3'): <gurobi.Var y_Talent 2_P3>, ('Talent 3', 'P1'): <gurobi.Var y_Talent 3_P1>, ('Talent 3', 'P2'): <gurobi.Var y_Talent 3_P2>, ('Talent 3', 'P3'): <gurobi.Var y_Talent 3_P3>, ('Talent 4', 'P1'): <gurobi.Var y_Talent 4_P1>, ('Talent 4', 'P2'): <gurobi.Var y_Talent 4_P2>, ('Talent 4', 'P3'): <gurobi.Var y_Talent 4_P3>, ('Talent 5', 'P1'): <gurobi.Var y_Talent 5_P1>, ('Talent 5', 'P2'): <gurobi.Var y_Talent 5_P2>, ('Talent 5', 'P3'): <gurobi.Var y_Talent 5_P3>}\n"
     ]
    }
   ],
   "source": [
    "print(x)\n",
    "print(y)"
   ]
  },
  {
   "cell_type": "markdown",
   "metadata": {},
   "source": [
    "# 4. Subject to the Constraint\n",
    "\n",
    "## 4.1. Constraint 1: Each Task is Assigned to One Employee\n",
    "\n",
    "$$\n",
    "\\sum _{j\\in J}\\:x_{ijk}\\:=\\:1 \\quad \\forall i \\in k, \\: k \\in K\n",
    "$$\n"
   ]
  },
  {
   "cell_type": "code",
   "execution_count": 16,
   "metadata": {},
   "outputs": [],
   "source": [
    "# constraint 1: each task assigned to one talent\n",
    "for k, task in company_tasks.items():\n",
    "    for i in task:\n",
    "        model.addConstr(quicksum(x[(i, j, k)] for j in employees) == 1)"
   ]
  },
  {
   "cell_type": "markdown",
   "metadata": {},
   "source": [
    "## 4.2. Constraint 2: Each employee works for one company at a time\n",
    "\n",
    "Pre-Processing for Constraint 2:\n",
    "\n",
    "$$\n",
    "\\sum _{i\\in I_k}x_{ijk} > 0 \\: \\rightarrow \\: y_{jk}=1 \\quad \\forall j\\in J, \\: k\\in K\\:\n",
    "$$\n"
   ]
  },
  {
   "cell_type": "code",
   "execution_count": 17,
   "metadata": {},
   "outputs": [],
   "source": [
    "# pre-processing constraint 2\n",
    "for j in employees:\n",
    "    for k, task in company_tasks.items():\n",
    "        # Use quicksum to sum up x[i][j][k] for all i\n",
    "        temp_sum = quicksum(x[i, j, k] for i in task)\n",
    "\n",
    "        # Add a constraint to the model: y[j][k] is 1 if the sum of x[i][j][k] for all i is > 0, and 0 otherwise\n",
    "        model.addGenConstrIndicator(y[j, k], True, temp_sum, GRB.GREATER_EQUAL, 1)\n",
    "        model.addGenConstrIndicator(y[j, k], False, temp_sum, GRB.LESS_EQUAL, 0)"
   ]
  },
  {
   "cell_type": "markdown",
   "metadata": {},
   "source": [
    "$$\n",
    "\\sum _{k\\in K}y_{jk}\\le 1 \\quad \\forall j\\in J\n",
    "$$\n"
   ]
  },
  {
   "cell_type": "code",
   "execution_count": 18,
   "metadata": {},
   "outputs": [],
   "source": [
    "# create constraint 2: each employee can only work on one task\n",
    "for j in employees:\n",
    "    # The sum of y[j][k] for all companies (k) should be <= 1\n",
    "    model.addConstr(quicksum(y[(j, k)] for k in company_tasks.keys()) <= 1)"
   ]
  },
  {
   "cell_type": "markdown",
   "metadata": {},
   "source": [
    "## 4.3. Constraint 3: Employee workload doesn't exceed the capacity\n",
    "\n",
    "$$\n",
    "\\sum _{i \\in I} s_i \\cdot x_{ijk} \\le max\\_workload \\quad \\forall j\\in J, \\: k\\in K\n",
    "$$\n"
   ]
  },
  {
   "cell_type": "code",
   "execution_count": 19,
   "metadata": {},
   "outputs": [],
   "source": [
    "for j in employees:\n",
    "    for k, tasks in company_tasks.items():\n",
    "        model.addConstr(\n",
    "            quicksum(story_points[i] * x[(i, j, k)] for i in tasks) <= max_employee_workload\n",
    "        )"
   ]
  },
  {
   "cell_type": "markdown",
   "metadata": {},
   "source": [
    "## 4.4 Constraint 4: Maximum workload is greater than or equal to the workload of each employee For Objective 3\n",
    "\n",
    "$$\n",
    "max\\_workload \\ge \\sum_{i \\in I} \\sum_{k \\in K} s_i\\cdot x_{ijk}, \\quad \\forall j\\in J\\:\\:\n",
    "$$\n"
   ]
  },
  {
   "cell_type": "code",
   "execution_count": 20,
   "metadata": {},
   "outputs": [],
   "source": [
    "# constraint 4: max_workload is greater than or equal to the workload of each employee\n",
    "for j in employees:\n",
    "    model.addConstr(\n",
    "        max_workload\n",
    "        >= quicksum(\n",
    "            story_points[i] * x[i, j, k]\n",
    "            for k, tasks in company_tasks.items()\n",
    "            for i in tasks\n",
    "        )\n",
    "    )"
   ]
  },
  {
   "cell_type": "markdown",
   "metadata": {},
   "source": [
    "# 5. Single Objective Approach: 1) Minimize The Idle Employee\n",
    "## 5.1. Set The Objective Model\n",
    "\n",
    "$$\n",
    "\\mu _{Z_1} = min.\\:I_j=\\sum _{j\\in \\:J}\\:\\left(1\\:-\\:\\sum _{k\\in \\:K}\\:y_{jk}\\right) \\quad \\tag{1}\n",
    "$$"
   ]
  },
  {
   "cell_type": "code",
   "execution_count": 21,
   "metadata": {},
   "outputs": [],
   "source": [
    "# objective 1\n",
    "idle = []\n",
    "\n",
    "for j in employees:\n",
    "  idle.append(1 - quicksum(y[j, k] for k in company_tasks.keys()))\n",
    "\n",
    "mu_Z_1 = quicksum(idle)\n",
    "\n",
    "# single objective 1\n",
    "model.setObjective(mu_Z_1, GRB.MINIMIZE)"
   ]
  },
  {
   "cell_type": "markdown",
   "metadata": {},
   "source": [
    "## 5.2. Solve The Model of Objective $(1)$"
   ]
  },
  {
   "cell_type": "code",
   "execution_count": 22,
   "metadata": {},
   "outputs": [
    {
     "name": "stdout",
     "output_type": "stream",
     "text": [
      "Gurobi Optimizer version 11.0.2 build v11.0.2rc0 (win64 - Windows 11.0 (22000.2))\n",
      "\n",
      "CPU model: Intel(R) Core(TM) i3-5005U CPU @ 2.00GHz, instruction set [SSE2|AVX|AVX2]\n",
      "Thread count: 2 physical cores, 4 logical processors, using up to 4 threads\n",
      "\n",
      "Academic license 2521640 - for non-commercial use only - registered to na___@mail.ugm.ac.id\n",
      "Optimize a model with 35 rows, 66 columns and 170 nonzeros\n",
      "Model fingerprint: 0x4d61a914\n",
      "Model has 30 general constraints\n",
      "Variable types: 0 continuous, 66 integer (65 binary)\n",
      "Coefficient statistics:\n",
      "  Matrix range     [1e+00, 5e+00]\n",
      "  Objective range  [1e+00, 1e+00]\n",
      "  Bounds range     [1e+00, 8e+00]\n",
      "  RHS range        [1e+00, 8e+00]\n",
      "  GenCon rhs range [1e+00, 1e+00]\n",
      "  GenCon coe range [1e+00, 1e+00]\n",
      "Presolve added 15 rows and 0 columns\n",
      "Presolve removed 0 rows and 1 columns\n",
      "Presolve time: 0.04s\n",
      "Presolved: 50 rows, 65 columns, 245 nonzeros\n",
      "Variable types: 0 continuous, 65 integer (65 binary)\n",
      "Found heuristic solution: objective 1.0000000\n",
      "Found heuristic solution: objective 0.0000000\n",
      "\n",
      "Root relaxation: cutoff, 0 iterations, 0.01 seconds (0.00 work units)\n",
      "\n",
      "Explored 1 nodes (0 simplex iterations) in 0.13 seconds (0.00 work units)\n",
      "Thread count was 4 (of 4 available processors)\n",
      "\n",
      "Solution count 2: 0 1 \n",
      "\n",
      "Optimal solution found (tolerance 1.00e-04)\n",
      "Best objective 0.000000000000e+00, best bound 0.000000000000e+00, gap 0.0000%\n"
     ]
    }
   ],
   "source": [
    "# solve the model\n",
    "model.optimize()"
   ]
  },
  {
   "cell_type": "markdown",
   "metadata": {},
   "source": [
    "#### Generic Function"
   ]
  },
  {
   "cell_type": "code",
   "execution_count": 23,
   "metadata": {},
   "outputs": [],
   "source": [
    "# Extracting and printing the results\n",
    "def get_employee_tasks(\n",
    "    j, company_tasks, model, score, story_points, max_employee_workload\n",
    "):\n",
    "    task = []\n",
    "    sim = []\n",
    "    comp = []\n",
    "    sp = 0\n",
    "\n",
    "    for k, tasks in company_tasks.items():\n",
    "        for i in tasks:\n",
    "            if x[i, j, k].X == 1:\n",
    "                print(f\"Task {i} assigned to Employee {j}\")\n",
    "                print(f\"Company\\t\\t\\t: {k}\")\n",
    "                print(f\"Story Points\\t\\t: {story_points[i]}\")\n",
    "                print(f\"Metrics score\\t: {score[j][i]:.10f}\\n\")\n",
    "\n",
    "                task.append(i)\n",
    "                sim.append(score[j][i])\n",
    "                comp.append(k)\n",
    "                sp += story_points[i]\n",
    "\n",
    "    wasted_sp = max_employee_workload - sp if sp > 0 else 0\n",
    "    return comp, task, sp, wasted_sp, sim"
   ]
  },
  {
   "cell_type": "markdown",
   "metadata": {},
   "source": [
    "### 5.2.1 Print The Solver Results"
   ]
  },
  {
   "cell_type": "code",
   "execution_count": 24,
   "metadata": {},
   "outputs": [
    {
     "name": "stdout",
     "output_type": "stream",
     "text": [
      "Solution Found!\n",
      "Obj. Value 1 i.e. Total Idle Employees: 0.0\n",
      "\n",
      "Task T1 assigned to Employee Talent 1\n",
      "Company\t\t\t: P2\n",
      "Story Points\t\t: 1\n",
      "Metrics score\t: -0.1666666667\n",
      "\n",
      "Task T3 assigned to Employee Talent 1\n",
      "Company\t\t\t: P2\n",
      "Story Points\t\t: 3\n",
      "Metrics score\t: 0.0625000000\n",
      "\n",
      "Task T9 assigned to Employee Talent 1\n",
      "Company\t\t\t: P2\n",
      "Story Points\t\t: 1\n",
      "Metrics score\t: 0.2222222222\n",
      "\n",
      "Task T2 assigned to Employee Talent 2\n",
      "Company\t\t\t: P1\n",
      "Story Points\t\t: 2\n",
      "Metrics score\t: -0.1031746032\n",
      "\n",
      "Task T4 assigned to Employee Talent 3\n",
      "Company\t\t\t: P3\n",
      "Story Points\t\t: 5\n",
      "Metrics score\t: 0.0000000000\n",
      "\n",
      "Task T5 assigned to Employee Talent 3\n",
      "Company\t\t\t: P3\n",
      "Story Points\t\t: 1\n",
      "Metrics score\t: -0.0000000000\n",
      "\n",
      "Task T7 assigned to Employee Talent 3\n",
      "Company\t\t\t: P3\n",
      "Story Points\t\t: 2\n",
      "Metrics score\t: 0.1111111111\n",
      "\n",
      "Task T6 assigned to Employee Talent 4\n",
      "Company\t\t\t: P1\n",
      "Story Points\t\t: 1\n",
      "Metrics score\t: 0.0222222222\n",
      "\n",
      "Task T8 assigned to Employee Talent 4\n",
      "Company\t\t\t: P1\n",
      "Story Points\t\t: 3\n",
      "Metrics score\t: 0.0595238095\n",
      "\n",
      "Task T10 assigned to Employee Talent 5\n",
      "Company\t\t\t: P1\n",
      "Story Points\t\t: 3\n",
      "Metrics score\t: -0.5000000000\n",
      "\n"
     ]
    }
   ],
   "source": [
    "# Check and process the solution\n",
    "if model.status == GRB.OPTIMAL:\n",
    "    print(\"Solution Found!\")\n",
    "    print(f\"Obj. Value 1 i.e. Total Idle Employees: {model.ObjVal}\\n\")\n",
    "\n",
    "    x_hat_1 = {}\n",
    "    for j in employees:\n",
    "        result = get_employee_tasks(\n",
    "            j, company_tasks, model, score, story_points, max_employee_workload\n",
    "        )\n",
    "        if len(result[1]) > 0:\n",
    "            x_hat_1[j] = result\n",
    "else:\n",
    "    print(\"No Solution Found!\")\n",
    "    x_hat_1 = {}"
   ]
  },
  {
   "cell_type": "markdown",
   "metadata": {},
   "source": [
    "## 5.3. Show the Solver's Result"
   ]
  },
  {
   "cell_type": "code",
   "execution_count": 25,
   "metadata": {},
   "outputs": [
    {
     "data": {
      "text/html": [
       "<div>\n",
       "<style scoped>\n",
       "    .dataframe tbody tr th:only-of-type {\n",
       "        vertical-align: middle;\n",
       "    }\n",
       "\n",
       "    .dataframe tbody tr th {\n",
       "        vertical-align: top;\n",
       "    }\n",
       "\n",
       "    .dataframe thead th {\n",
       "        text-align: right;\n",
       "    }\n",
       "</style>\n",
       "<table border=\"1\" class=\"dataframe\">\n",
       "  <thead>\n",
       "    <tr style=\"text-align: right;\">\n",
       "      <th></th>\n",
       "      <th>company</th>\n",
       "      <th>assigned_task</th>\n",
       "      <th>sum_sp</th>\n",
       "      <th>wasted_sp</th>\n",
       "      <th>assessment_score</th>\n",
       "    </tr>\n",
       "    <tr>\n",
       "      <th>employee</th>\n",
       "      <th></th>\n",
       "      <th></th>\n",
       "      <th></th>\n",
       "      <th></th>\n",
       "      <th></th>\n",
       "    </tr>\n",
       "  </thead>\n",
       "  <tbody>\n",
       "    <tr>\n",
       "      <th>Talent 1</th>\n",
       "      <td>[P2, P2, P2]</td>\n",
       "      <td>[T1, T3, T9]</td>\n",
       "      <td>5</td>\n",
       "      <td>3</td>\n",
       "      <td>[-0.16666666666666666, 0.0625, 0.2222222222222...</td>\n",
       "    </tr>\n",
       "    <tr>\n",
       "      <th>Talent 2</th>\n",
       "      <td>[P1]</td>\n",
       "      <td>[T2]</td>\n",
       "      <td>2</td>\n",
       "      <td>6</td>\n",
       "      <td>[-0.10317460317460318]</td>\n",
       "    </tr>\n",
       "    <tr>\n",
       "      <th>Talent 3</th>\n",
       "      <td>[P3, P3, P3]</td>\n",
       "      <td>[T4, T5, T7]</td>\n",
       "      <td>8</td>\n",
       "      <td>0</td>\n",
       "      <td>[0.0, -9.25185853854297e-18, 0.11111111111111112]</td>\n",
       "    </tr>\n",
       "    <tr>\n",
       "      <th>Talent 4</th>\n",
       "      <td>[P1, P1]</td>\n",
       "      <td>[T6, T8]</td>\n",
       "      <td>4</td>\n",
       "      <td>4</td>\n",
       "      <td>[0.022222222222222227, 0.05952380952380953]</td>\n",
       "    </tr>\n",
       "    <tr>\n",
       "      <th>Talent 5</th>\n",
       "      <td>[P1]</td>\n",
       "      <td>[T10]</td>\n",
       "      <td>3</td>\n",
       "      <td>5</td>\n",
       "      <td>[-0.5]</td>\n",
       "    </tr>\n",
       "  </tbody>\n",
       "</table>\n",
       "</div>"
      ],
      "text/plain": [
       "               company assigned_task  sum_sp  wasted_sp   \n",
       "employee                                                  \n",
       "Talent 1  [P2, P2, P2]  [T1, T3, T9]       5          3  \\\n",
       "Talent 2          [P1]          [T2]       2          6   \n",
       "Talent 3  [P3, P3, P3]  [T4, T5, T7]       8          0   \n",
       "Talent 4      [P1, P1]      [T6, T8]       4          4   \n",
       "Talent 5          [P1]         [T10]       3          5   \n",
       "\n",
       "                                           assessment_score  \n",
       "employee                                                     \n",
       "Talent 1  [-0.16666666666666666, 0.0625, 0.2222222222222...  \n",
       "Talent 2                             [-0.10317460317460318]  \n",
       "Talent 3  [0.0, -9.25185853854297e-18, 0.11111111111111112]  \n",
       "Talent 4        [0.022222222222222227, 0.05952380952380953]  \n",
       "Talent 5                                             [-0.5]  "
      ]
     },
     "execution_count": 25,
     "metadata": {},
     "output_type": "execute_result"
    }
   ],
   "source": [
    "# Set display options\n",
    "pd.set_option('display.max_rows', 500)\n",
    "pd.set_option('display.max_columns', 500)\n",
    "\n",
    "# Convert dictionary to DataFrame and set 'employee' as index\n",
    "result_1 = pd.DataFrame.from_dict(x_hat_1, orient='index', columns=['company', 'assigned_task', 'sum_sp', 'wasted_sp', 'assessment_score'])\n",
    "result_1.index.name = 'employee'\n",
    "\n",
    "result_1"
   ]
  },
  {
   "cell_type": "markdown",
   "metadata": {},
   "source": [
    "### 5.3.1 Statistics of The Objective"
   ]
  },
  {
   "cell_type": "code",
   "execution_count": 26,
   "metadata": {},
   "outputs": [
    {
     "name": "stdout",
     "output_type": "stream",
     "text": [
      "Total Employee\t\t\t: 5\n",
      "Total Active Employee\t\t: 5\t100.00%\n",
      "Total Idle Employee\t\t: 0\t0.00%\n",
      "\n",
      "Total Story Points\t\t: 22\n",
      "Total Active Story Points\t: 22\t100.00%\n",
      "Total Wasted Story Points\t: 0\t0.00%\n",
      "\n"
     ]
    }
   ],
   "source": [
    "total_employee = len(employees)\n",
    "total_sp = sum(story_points.values())\n",
    "total_active_employee = len(set(employee for employee in x_hat_1.keys()))\n",
    "total_active_sp = sum(value[2] for value in x_hat_1.values())\n",
    "total_idle_employee = total_employee - total_active_employee\n",
    "total_wasted_sp = total_sp - total_active_sp\n",
    "\n",
    "print(f'Total Employee\\t\\t\\t: {total_employee}')\n",
    "print(f'Total Active Employee\\t\\t: {total_active_employee}\\t{(total_active_employee/total_employee)*100:.2f}%')\n",
    "print(f'Total Idle Employee\\t\\t: {total_idle_employee}\\t{(total_idle_employee/total_employee)*100:.2f}%\\n')\n",
    "print(f'Total Story Points\\t\\t: {total_sp}')\n",
    "print(f'Total Active Story Points\\t: {total_active_sp}\\t{(total_active_sp/total_sp)*100:.2f}%')\n",
    "print(f'Total Wasted Story Points\\t: {total_wasted_sp}\\t{(total_wasted_sp/total_sp)*100:.2f}%\\n')"
   ]
  },
  {
   "cell_type": "markdown",
   "metadata": {},
   "source": [
    "### 5.3.2. Distribution With Respect to the Assessment Score"
   ]
  },
  {
   "cell_type": "code",
   "execution_count": 27,
   "metadata": {},
   "outputs": [
    {
     "data": {
      "image/png": "[encoded data removed]",
      "text/plain": [
       "<Figure size 432x288 with 1 Axes>"
      ]
     },
     "metadata": {
      "needs_background": "light"
     },
     "output_type": "display_data"
    }
   ],
   "source": [
    "# make boxplot for objective 1 with respect to the assessment score\n",
    "assessment_score_1 = result_1['assessment_score'].explode().reset_index(drop=True)\n",
    "assessment_score_1.plot(kind='box')\n",
    "plt.title('Assessment Score Boxplot of Objective 1')\n",
    "plt.show()"
   ]
  },
  {
   "cell_type": "markdown",
   "metadata": {},
   "source": [
    "# 6. Single Objective Approach: 2) Maximize The Assessment Score\n",
    "## 6.1. Set The Objective Model\n",
    "\n",
    "$$\n",
    "\\mu _{Z_2} = max.\\:A_{ij} = \\sum _{i\\in \\:I} \\sum _{j\\in \\:J} \\sum _{k\\in \\:K} \\: e_{ij} \\cdot x_{ijk} \\quad \\tag{2}\n",
    "$$"
   ]
  },
  {
   "cell_type": "code",
   "execution_count": 28,
   "metadata": {},
   "outputs": [],
   "source": [
    "# objective 2\n",
    "assessment_score = []\n",
    "assessment_score.append(\n",
    "    quicksum(\n",
    "        score[j][i] * x[i, j, k]\n",
    "        for k, tasks in company_tasks.items()\n",
    "        for j in employees\n",
    "        for i in tasks\n",
    "    )\n",
    ")\n",
    "\n",
    "mu_Z_2 = quicksum(assessment_score)\n",
    "\n",
    "# single objective 2\n",
    "model.setObjective(mu_Z_2, GRB.MAXIMIZE)"
   ]
  },
  {
   "cell_type": "markdown",
   "metadata": {},
   "source": [
    "## 6.2. Solve The Model of Objective $(2)$"
   ]
  },
  {
   "cell_type": "code",
   "execution_count": 29,
   "metadata": {},
   "outputs": [
    {
     "name": "stdout",
     "output_type": "stream",
     "text": [
      "Gurobi Optimizer version 11.0.2 build v11.0.2rc0 (win64 - Windows 11.0 (22000.2))\n",
      "\n",
      "CPU model: Intel(R) Core(TM) i3-5005U CPU @ 2.00GHz, instruction set [SSE2|AVX|AVX2]\n",
      "Thread count: 2 physical cores, 4 logical processors, using up to 4 threads\n",
      "\n",
      "Academic license 2521640 - for non-commercial use only - registered to na___@mail.ugm.ac.id\n",
      "Optimize a model with 35 rows, 66 columns and 170 nonzeros\n",
      "Model fingerprint: 0x5ed38214\n",
      "Model has 30 general constraints\n",
      "Variable types: 0 continuous, 66 integer (65 binary)\n",
      "Coefficient statistics:\n",
      "  Matrix range     [1e+00, 5e+00]\n",
      "  Objective range  [9e-18, 5e-01]\n",
      "  Bounds range     [1e+00, 8e+00]\n",
      "  RHS range        [1e+00, 8e+00]\n",
      "  GenCon rhs range [1e+00, 1e+00]\n",
      "  GenCon coe range [1e+00, 1e+00]\n",
      "\n",
      "Loaded MIP start from previous solve with objective -0.292262\n",
      "\n",
      "Presolve added 15 rows and 0 columns\n",
      "Presolve removed 0 rows and 1 columns\n",
      "Presolve time: 0.01s\n",
      "Presolved: 50 rows, 65 columns, 245 nonzeros\n",
      "Variable types: 0 continuous, 65 integer (65 binary)\n",
      "Found heuristic solution: objective -0.1652778\n",
      "\n",
      "Root relaxation: objective 4.672009e-01, 32 iterations, 0.00 seconds (0.00 work units)\n",
      "\n",
      "    Nodes    |    Current Node    |     Objective Bounds      |     Work\n",
      " Expl Unexpl |  Obj  Depth IntInf | Incumbent    BestBd   Gap | It/Node Time\n",
      "\n",
      "     0     0    0.46720    0    9   -0.16528    0.46720   383%     -    0s\n",
      "H    0     0                      -0.0506944    0.46720  1022%     -    0s\n",
      "H    0     0                       0.0187500    0.46720  2392%     -    0s\n",
      "     0     0    0.19655    0   18    0.01875    0.19655   948%     -    0s\n",
      "     0     0 infeasible    0         0.01875    0.01875  0.00%     -    0s\n",
      "\n",
      "Cutting planes:\n",
      "  Gomory: 2\n",
      "  Cover: 10\n",
      "  Clique: 9\n",
      "  MIR: 2\n",
      "\n",
      "Explored 1 nodes (57 simplex iterations) in 0.14 seconds (0.00 work units)\n",
      "Thread count was 4 (of 4 available processors)\n",
      "\n",
      "Solution count 4: 0.01875 -0.0506944 -0.165278 -0.292262 \n",
      "No other solutions better than 0.01875\n",
      "\n",
      "Optimal solution found (tolerance 1.00e-04)\n",
      "Best objective 1.875000000000e-02, best bound 1.875000000000e-02, gap 0.0000%\n"
     ]
    }
   ],
   "source": [
    "# solve the model\n",
    "model.optimize()"
   ]
  },
  {
   "cell_type": "markdown",
   "metadata": {},
   "source": [
    "### 6.2.1 Print The Solver Results"
   ]
  },
  {
   "cell_type": "code",
   "execution_count": 30,
   "metadata": {},
   "outputs": [
    {
     "name": "stdout",
     "output_type": "stream",
     "text": [
      "Solution Found!\n",
      "Obj. Value 2 i.e. Total Score: 0.01875000000000006\n",
      "\n",
      "Task T3 assigned to Employee Talent 1\n",
      "Company\t\t\t: P2\n",
      "Story Points\t\t: 3\n",
      "Metrics score\t: 0.0625000000\n",
      "\n",
      "Task T9 assigned to Employee Talent 1\n",
      "Company\t\t\t: P2\n",
      "Story Points\t\t: 1\n",
      "Metrics score\t: 0.2222222222\n",
      "\n",
      "Task T10 assigned to Employee Talent 2\n",
      "Company\t\t\t: P1\n",
      "Story Points\t\t: 3\n",
      "Metrics score\t: -0.3888888889\n",
      "\n",
      "Task T4 assigned to Employee Talent 3\n",
      "Company\t\t\t: P3\n",
      "Story Points\t\t: 5\n",
      "Metrics score\t: 0.0000000000\n",
      "\n",
      "Task T5 assigned to Employee Talent 3\n",
      "Company\t\t\t: P3\n",
      "Story Points\t\t: 1\n",
      "Metrics score\t: -0.0000000000\n",
      "\n",
      "Task T7 assigned to Employee Talent 3\n",
      "Company\t\t\t: P3\n",
      "Story Points\t\t: 2\n",
      "Metrics score\t: 0.1111111111\n",
      "\n",
      "Task T2 assigned to Employee Talent 4\n",
      "Company\t\t\t: P1\n",
      "Story Points\t\t: 2\n",
      "Metrics score\t: 0.0238095238\n",
      "\n",
      "Task T6 assigned to Employee Talent 4\n",
      "Company\t\t\t: P1\n",
      "Story Points\t\t: 1\n",
      "Metrics score\t: 0.0222222222\n",
      "\n",
      "Task T8 assigned to Employee Talent 4\n",
      "Company\t\t\t: P1\n",
      "Story Points\t\t: 3\n",
      "Metrics score\t: 0.0595238095\n",
      "\n",
      "Task T1 assigned to Employee Talent 5\n",
      "Company\t\t\t: P2\n",
      "Story Points\t\t: 1\n",
      "Metrics score\t: -0.0937500000\n",
      "\n"
     ]
    }
   ],
   "source": [
    "# Check and process the solution\n",
    "if model.status == GRB.OPTIMAL:\n",
    "    print(\"Solution Found!\")\n",
    "    print(f\"Obj. Value 2 i.e. Total Score: {model.ObjVal}\\n\")\n",
    "\n",
    "    x_hat_2 = {}\n",
    "    for j in employees:\n",
    "        result = get_employee_tasks(\n",
    "            j, company_tasks, model, score, story_points, max_employee_workload\n",
    "        )\n",
    "        if len(result[1]) > 0:\n",
    "            x_hat_2[j] = result\n",
    "else:\n",
    "    print(\"No Solution Found!\")\n",
    "    x_hat_2 = {}"
   ]
  },
  {
   "cell_type": "markdown",
   "metadata": {},
   "source": [
    "## 6.3. Show the Solver's Result"
   ]
  },
  {
   "cell_type": "code",
   "execution_count": 31,
   "metadata": {},
   "outputs": [
    {
     "data": {
      "text/html": [
       "<div>\n",
       "<style scoped>\n",
       "    .dataframe tbody tr th:only-of-type {\n",
       "        vertical-align: middle;\n",
       "    }\n",
       "\n",
       "    .dataframe tbody tr th {\n",
       "        vertical-align: top;\n",
       "    }\n",
       "\n",
       "    .dataframe thead th {\n",
       "        text-align: right;\n",
       "    }\n",
       "</style>\n",
       "<table border=\"1\" class=\"dataframe\">\n",
       "  <thead>\n",
       "    <tr style=\"text-align: right;\">\n",
       "      <th></th>\n",
       "      <th>company</th>\n",
       "      <th>assigned_task</th>\n",
       "      <th>sum_sp</th>\n",
       "      <th>wasted_sp</th>\n",
       "      <th>assessment_score</th>\n",
       "    </tr>\n",
       "    <tr>\n",
       "      <th>employee</th>\n",
       "      <th></th>\n",
       "      <th></th>\n",
       "      <th></th>\n",
       "      <th></th>\n",
       "      <th></th>\n",
       "    </tr>\n",
       "  </thead>\n",
       "  <tbody>\n",
       "    <tr>\n",
       "      <th>Talent 1</th>\n",
       "      <td>[P2, P2]</td>\n",
       "      <td>[T3, T9]</td>\n",
       "      <td>4</td>\n",
       "      <td>4</td>\n",
       "      <td>[0.0625, 0.2222222222222222]</td>\n",
       "    </tr>\n",
       "    <tr>\n",
       "      <th>Talent 2</th>\n",
       "      <td>[P1]</td>\n",
       "      <td>[T10]</td>\n",
       "      <td>3</td>\n",
       "      <td>5</td>\n",
       "      <td>[-0.38888888888888884]</td>\n",
       "    </tr>\n",
       "    <tr>\n",
       "      <th>Talent 3</th>\n",
       "      <td>[P3, P3, P3]</td>\n",
       "      <td>[T4, T5, T7]</td>\n",
       "      <td>8</td>\n",
       "      <td>0</td>\n",
       "      <td>[0.0, -9.25185853854297e-18, 0.11111111111111112]</td>\n",
       "    </tr>\n",
       "    <tr>\n",
       "      <th>Talent 4</th>\n",
       "      <td>[P1, P1, P1]</td>\n",
       "      <td>[T2, T6, T8]</td>\n",
       "      <td>6</td>\n",
       "      <td>2</td>\n",
       "      <td>[0.023809523809523798, 0.022222222222222227, 0...</td>\n",
       "    </tr>\n",
       "    <tr>\n",
       "      <th>Talent 5</th>\n",
       "      <td>[P2]</td>\n",
       "      <td>[T1]</td>\n",
       "      <td>1</td>\n",
       "      <td>7</td>\n",
       "      <td>[-0.09375]</td>\n",
       "    </tr>\n",
       "  </tbody>\n",
       "</table>\n",
       "</div>"
      ],
      "text/plain": [
       "               company assigned_task  sum_sp  wasted_sp   \n",
       "employee                                                  \n",
       "Talent 1      [P2, P2]      [T3, T9]       4          4  \\\n",
       "Talent 2          [P1]         [T10]       3          5   \n",
       "Talent 3  [P3, P3, P3]  [T4, T5, T7]       8          0   \n",
       "Talent 4  [P1, P1, P1]  [T2, T6, T8]       6          2   \n",
       "Talent 5          [P2]          [T1]       1          7   \n",
       "\n",
       "                                           assessment_score  \n",
       "employee                                                     \n",
       "Talent 1                       [0.0625, 0.2222222222222222]  \n",
       "Talent 2                             [-0.38888888888888884]  \n",
       "Talent 3  [0.0, -9.25185853854297e-18, 0.11111111111111112]  \n",
       "Talent 4  [0.023809523809523798, 0.022222222222222227, 0...  \n",
       "Talent 5                                         [-0.09375]  "
      ]
     },
     "execution_count": 31,
     "metadata": {},
     "output_type": "execute_result"
    }
   ],
   "source": [
    "# Set display options\n",
    "pd.set_option('display.max_rows', 500)\n",
    "pd.set_option('display.max_columns', 500)\n",
    "\n",
    "# Convert dictionary to DataFrame and set 'employee' as index\n",
    "result_2 = pd.DataFrame.from_dict(x_hat_2, orient='index', columns=['company', 'assigned_task', 'sum_sp', 'wasted_sp', 'assessment_score'])\n",
    "result_2.index.name = 'employee'\n",
    "\n",
    "result_2"
   ]
  },
  {
   "cell_type": "markdown",
   "metadata": {},
   "source": [
    "### 6.3.1 Statistics of The Objective"
   ]
  },
  {
   "cell_type": "code",
   "execution_count": 32,
   "metadata": {},
   "outputs": [
    {
     "name": "stdout",
     "output_type": "stream",
     "text": [
      "Total Employee\t\t\t: 5\n",
      "Total Active Employee\t\t: 5\t100.00%\n",
      "Total Idle Employee\t\t: 0\t0.00%\n",
      "\n",
      "Total Story Points\t\t: 22\n",
      "Total Active Story Points\t: 22\t100.00%\n",
      "Total Wasted Story Points\t: 0\t0.00%\n",
      "\n"
     ]
    }
   ],
   "source": [
    "total_employee = len(employees)\n",
    "total_sp = sum(story_points.values())\n",
    "total_active_employee = len(set(employee for employee in x_hat_2.keys()))\n",
    "total_active_sp = sum(value[2] for value in x_hat_2.values())\n",
    "total_idle_employee = total_employee - total_active_employee\n",
    "total_wasted_sp = total_sp - total_active_sp\n",
    "\n",
    "print(f'Total Employee\\t\\t\\t: {total_employee}')\n",
    "print(f'Total Active Employee\\t\\t: {total_active_employee}\\t{(total_active_employee/total_employee)*100:.2f}%')\n",
    "print(f'Total Idle Employee\\t\\t: {total_idle_employee}\\t{(total_idle_employee/total_employee)*100:.2f}%\\n')\n",
    "print(f'Total Story Points\\t\\t: {total_sp}')\n",
    "print(f'Total Active Story Points\\t: {total_active_sp}\\t{(total_active_sp/total_sp)*100:.2f}%')\n",
    "print(f'Total Wasted Story Points\\t: {total_wasted_sp}\\t{(total_wasted_sp/total_sp)*100:.2f}%\\n')"
   ]
  },
  {
   "cell_type": "markdown",
   "metadata": {},
   "source": [
    "### 6.3.2. Distribution With Respect to the Assessment Score"
   ]
  },
  {
   "cell_type": "code",
   "execution_count": 33,
   "metadata": {},
   "outputs": [
    {
     "data": {
      "image/png": "[encoded data removed]",
      "text/plain": [
       "<Figure size 432x288 with 1 Axes>"
      ]
     },
     "metadata": {
      "needs_background": "light"
     },
     "output_type": "display_data"
    }
   ],
   "source": [
    "# make boxplot for objective 1 with respect to the assessment score\n",
    "assessment_score_2 = result_2['assessment_score'].explode().reset_index(drop=True)\n",
    "assessment_score_2.plot(kind='box')\n",
    "plt.title('Assessment Score Boxplot of Objective 2')\n",
    "plt.show()"
   ]
  },
  {
   "cell_type": "markdown",
   "metadata": {},
   "source": [
    "# 7. Single Objective Approach: 3) Balancing Workload For Each Employee\n",
    "## 7.1. Set The Objective Model\n",
    "\n",
    "$$\n",
    "\\mu_{Z_3} = min.\\:W_{j} \\quad \\tag{3}\n",
    "$$"
   ]
  },
  {
   "cell_type": "code",
   "execution_count": 34,
   "metadata": {},
   "outputs": [],
   "source": [
    "# single objective 3\n",
    "mu_Z_3 = max_workload\n",
    "model.setObjective(mu_Z_3, GRB.MINIMIZE)"
   ]
  },
  {
   "cell_type": "markdown",
   "metadata": {},
   "source": [
    "## 7.2. Solve The Model of Objective $(3)$"
   ]
  },
  {
   "cell_type": "code",
   "execution_count": 35,
   "metadata": {},
   "outputs": [
    {
     "name": "stdout",
     "output_type": "stream",
     "text": [
      "Gurobi Optimizer version 11.0.2 build v11.0.2rc0 (win64 - Windows 11.0 (22000.2))\n",
      "\n",
      "CPU model: Intel(R) Core(TM) i3-5005U CPU @ 2.00GHz, instruction set [SSE2|AVX|AVX2]\n",
      "Thread count: 2 physical cores, 4 logical processors, using up to 4 threads\n",
      "\n",
      "Academic license 2521640 - for non-commercial use only - registered to na___@mail.ugm.ac.id\n",
      "Optimize a model with 35 rows, 66 columns and 170 nonzeros\n",
      "Model fingerprint: 0x71504cc6\n",
      "Model has 30 general constraints\n",
      "Variable types: 0 continuous, 66 integer (65 binary)\n",
      "Coefficient statistics:\n",
      "  Matrix range     [1e+00, 5e+00]\n",
      "  Objective range  [1e+00, 1e+00]\n",
      "  Bounds range     [1e+00, 8e+00]\n",
      "  RHS range        [1e+00, 8e+00]\n",
      "  GenCon rhs range [1e+00, 1e+00]\n",
      "  GenCon coe range [1e+00, 1e+00]\n",
      "\n",
      "Loaded MIP start from previous solve with objective 8\n",
      "\n",
      "Presolve added 15 rows and 0 columns\n",
      "Presolve time: 0.01s\n",
      "Presolved: 50 rows, 66 columns, 250 nonzeros\n",
      "Variable types: 0 continuous, 66 integer (65 binary)\n",
      "\n",
      "Root relaxation: objective 4.400000e+00, 38 iterations, 0.01 seconds (0.00 work units)\n",
      "\n",
      "    Nodes    |    Current Node    |     Objective Bounds      |     Work\n",
      " Expl Unexpl |  Obj  Depth IntInf | Incumbent    BestBd   Gap | It/Node Time\n",
      "\n",
      "     0     0    4.40000    0   15    8.00000    4.40000  45.0%     -    0s\n",
      "H    0     0                       5.0000000    4.40000  12.0%     -    0s\n",
      "     0     0    4.40000    0   15    5.00000    4.40000  12.0%     -    0s\n",
      "\n",
      "Explored 1 nodes (74 simplex iterations) in 0.07 seconds (0.00 work units)\n",
      "Thread count was 4 (of 4 available processors)\n",
      "\n",
      "Solution count 2: 5 8 \n",
      "\n",
      "Optimal solution found (tolerance 1.00e-04)\n",
      "Best objective 5.000000000000e+00, best bound 5.000000000000e+00, gap 0.0000%\n"
     ]
    }
   ],
   "source": [
    "# solve the model\n",
    "model.optimize()"
   ]
  },
  {
   "cell_type": "markdown",
   "metadata": {},
   "source": [
    "### 7.2.1 Print The Solver Results"
   ]
  },
  {
   "cell_type": "code",
   "execution_count": 36,
   "metadata": {},
   "outputs": [
    {
     "name": "stdout",
     "output_type": "stream",
     "text": [
      "Solution Found!\n",
      "Obj. Value 3 i.e. Maximum Story Points Each Employee: 5.0\n",
      "\n",
      "Task T2 assigned to Employee Talent 1\n",
      "Company\t\t\t: P1\n",
      "Story Points\t\t: 2\n",
      "Metrics score\t: -0.0952380952\n",
      "\n",
      "Task T8 assigned to Employee Talent 1\n",
      "Company\t\t\t: P1\n",
      "Story Points\t\t: 3\n",
      "Metrics score\t: -0.2857142857\n",
      "\n",
      "Task T4 assigned to Employee Talent 2\n",
      "Company\t\t\t: P3\n",
      "Story Points\t\t: 5\n",
      "Metrics score\t: -0.1025641026\n",
      "\n",
      "Task T6 assigned to Employee Talent 3\n",
      "Company\t\t\t: P1\n",
      "Story Points\t\t: 1\n",
      "Metrics score\t: -0.0888888889\n",
      "\n",
      "Task T10 assigned to Employee Talent 3\n",
      "Company\t\t\t: P1\n",
      "Story Points\t\t: 3\n",
      "Metrics score\t: -0.2222222222\n",
      "\n",
      "Task T1 assigned to Employee Talent 4\n",
      "Company\t\t\t: P2\n",
      "Story Points\t\t: 1\n",
      "Metrics score\t: 0.0520833333\n",
      "\n",
      "Task T3 assigned to Employee Talent 4\n",
      "Company\t\t\t: P2\n",
      "Story Points\t\t: 3\n",
      "Metrics score\t: -0.1979166667\n",
      "\n",
      "Task T9 assigned to Employee Talent 4\n",
      "Company\t\t\t: P2\n",
      "Story Points\t\t: 1\n",
      "Metrics score\t: 0.0833333333\n",
      "\n",
      "Task T5 assigned to Employee Talent 5\n",
      "Company\t\t\t: P3\n",
      "Story Points\t\t: 1\n",
      "Metrics score\t: -0.1428571429\n",
      "\n",
      "Task T7 assigned to Employee Talent 5\n",
      "Company\t\t\t: P3\n",
      "Story Points\t\t: 2\n",
      "Metrics score\t: -0.0888888889\n",
      "\n"
     ]
    }
   ],
   "source": [
    "# Check and process the solution\n",
    "if model.status == GRB.OPTIMAL:\n",
    "    print(\"Solution Found!\")\n",
    "    print(f\"Obj. Value 3 i.e. Maximum Story Points Each Employee: {model.ObjVal}\\n\")\n",
    "\n",
    "    x_hat_3 = {}\n",
    "    for j in employees:\n",
    "        result = get_employee_tasks(\n",
    "            j, company_tasks, model, score, story_points, max_employee_workload\n",
    "        )\n",
    "        if len(result[1]) > 0:\n",
    "            x_hat_3[j] = result\n",
    "else:\n",
    "    print(\"No Solution Found!\")\n",
    "    x_hat_3 = {}"
   ]
  },
  {
   "cell_type": "markdown",
   "metadata": {},
   "source": [
    "## 7.3. Show the Solver's Result"
   ]
  },
  {
   "cell_type": "code",
   "execution_count": 37,
   "metadata": {},
   "outputs": [
    {
     "data": {
      "text/html": [
       "<div>\n",
       "<style scoped>\n",
       "    .dataframe tbody tr th:only-of-type {\n",
       "        vertical-align: middle;\n",
       "    }\n",
       "\n",
       "    .dataframe tbody tr th {\n",
       "        vertical-align: top;\n",
       "    }\n",
       "\n",
       "    .dataframe thead th {\n",
       "        text-align: right;\n",
       "    }\n",
       "</style>\n",
       "<table border=\"1\" class=\"dataframe\">\n",
       "  <thead>\n",
       "    <tr style=\"text-align: right;\">\n",
       "      <th></th>\n",
       "      <th>company</th>\n",
       "      <th>assigned_task</th>\n",
       "      <th>sum_sp</th>\n",
       "      <th>wasted_sp</th>\n",
       "      <th>assessment_score</th>\n",
       "    </tr>\n",
       "    <tr>\n",
       "      <th>employee</th>\n",
       "      <th></th>\n",
       "      <th></th>\n",
       "      <th></th>\n",
       "      <th></th>\n",
       "      <th></th>\n",
       "    </tr>\n",
       "  </thead>\n",
       "  <tbody>\n",
       "    <tr>\n",
       "      <th>Talent 1</th>\n",
       "      <td>[P1, P1]</td>\n",
       "      <td>[T2, T8]</td>\n",
       "      <td>5</td>\n",
       "      <td>3</td>\n",
       "      <td>[-0.09523809523809527, -0.2857142857142858]</td>\n",
       "    </tr>\n",
       "    <tr>\n",
       "      <th>Talent 2</th>\n",
       "      <td>[P3]</td>\n",
       "      <td>[T4]</td>\n",
       "      <td>5</td>\n",
       "      <td>3</td>\n",
       "      <td>[-0.10256410256410257]</td>\n",
       "    </tr>\n",
       "    <tr>\n",
       "      <th>Talent 3</th>\n",
       "      <td>[P1, P1]</td>\n",
       "      <td>[T6, T10]</td>\n",
       "      <td>4</td>\n",
       "      <td>4</td>\n",
       "      <td>[-0.08888888888888886, -0.22222222222222218]</td>\n",
       "    </tr>\n",
       "    <tr>\n",
       "      <th>Talent 4</th>\n",
       "      <td>[P2, P2, P2]</td>\n",
       "      <td>[T1, T3, T9]</td>\n",
       "      <td>5</td>\n",
       "      <td>3</td>\n",
       "      <td>[0.052083333333333336, -0.19791666666666666, 0...</td>\n",
       "    </tr>\n",
       "    <tr>\n",
       "      <th>Talent 5</th>\n",
       "      <td>[P3, P3]</td>\n",
       "      <td>[T5, T7]</td>\n",
       "      <td>3</td>\n",
       "      <td>5</td>\n",
       "      <td>[-0.14285714285714288, -0.08888888888888889]</td>\n",
       "    </tr>\n",
       "  </tbody>\n",
       "</table>\n",
       "</div>"
      ],
      "text/plain": [
       "               company assigned_task  sum_sp  wasted_sp   \n",
       "employee                                                  \n",
       "Talent 1      [P1, P1]      [T2, T8]       5          3  \\\n",
       "Talent 2          [P3]          [T4]       5          3   \n",
       "Talent 3      [P1, P1]     [T6, T10]       4          4   \n",
       "Talent 4  [P2, P2, P2]  [T1, T3, T9]       5          3   \n",
       "Talent 5      [P3, P3]      [T5, T7]       3          5   \n",
       "\n",
       "                                           assessment_score  \n",
       "employee                                                     \n",
       "Talent 1        [-0.09523809523809527, -0.2857142857142858]  \n",
       "Talent 2                             [-0.10256410256410257]  \n",
       "Talent 3       [-0.08888888888888886, -0.22222222222222218]  \n",
       "Talent 4  [0.052083333333333336, -0.19791666666666666, 0...  \n",
       "Talent 5       [-0.14285714285714288, -0.08888888888888889]  "
      ]
     },
     "execution_count": 37,
     "metadata": {},
     "output_type": "execute_result"
    }
   ],
   "source": [
    "# Set display options\n",
    "pd.set_option('display.max_rows', 500)\n",
    "pd.set_option('display.max_columns', 500)\n",
    "\n",
    "# Convert dictionary to DataFrame and set 'employee' as index\n",
    "result_3 = pd.DataFrame.from_dict(x_hat_3, orient='index', columns=['company', 'assigned_task', 'sum_sp', 'wasted_sp', 'assessment_score'])\n",
    "result_3.index.name = 'employee'\n",
    "\n",
    "result_3"
   ]
  },
  {
   "cell_type": "markdown",
   "metadata": {},
   "source": [
    "### 7.3.1 Statistics of The Objective"
   ]
  },
  {
   "cell_type": "code",
   "execution_count": 38,
   "metadata": {},
   "outputs": [
    {
     "name": "stdout",
     "output_type": "stream",
     "text": [
      "Total Employee\t\t\t: 5\n",
      "Total Active Employee\t\t: 5\t100.00%\n",
      "Total Idle Employee\t\t: 0\t0.00%\n",
      "\n",
      "Total Story Points\t\t: 22\n",
      "Total Active Story Points\t: 22\t100.00%\n",
      "Total Wasted Story Points\t: 0\t0.00%\n",
      "\n"
     ]
    }
   ],
   "source": [
    "total_employee = len(employees)\n",
    "total_sp = sum(story_points.values())\n",
    "total_active_employee = len(set(employee for employee in x_hat_3.keys()))\n",
    "total_active_sp = sum(value[2] for value in x_hat_3.values())\n",
    "total_idle_employee = total_employee - total_active_employee\n",
    "total_wasted_sp = total_sp - total_active_sp\n",
    "\n",
    "print(f'Total Employee\\t\\t\\t: {total_employee}')\n",
    "print(f'Total Active Employee\\t\\t: {total_active_employee}\\t{(total_active_employee/total_employee)*100:.2f}%')\n",
    "print(f'Total Idle Employee\\t\\t: {total_idle_employee}\\t{(total_idle_employee/total_employee)*100:.2f}%\\n')\n",
    "print(f'Total Story Points\\t\\t: {total_sp}')\n",
    "print(f'Total Active Story Points\\t: {total_active_sp}\\t{(total_active_sp/total_sp)*100:.2f}%')\n",
    "print(f'Total Wasted Story Points\\t: {total_wasted_sp}\\t{(total_wasted_sp/total_sp)*100:.2f}%\\n')"
   ]
  },
  {
   "cell_type": "markdown",
   "metadata": {},
   "source": [
    "### 7.3.2. Distribution With Respect to the Assessment Score"
   ]
  },
  {
   "cell_type": "code",
   "execution_count": 39,
   "metadata": {},
   "outputs": [
    {
     "data": {
      "image/png": "[encoded data removed]",
      "text/plain": [
       "<Figure size 432x288 with 1 Axes>"
      ]
     },
     "metadata": {
      "needs_background": "light"
     },
     "output_type": "display_data"
    }
   ],
   "source": [
    "# make boxplot for objective 1 with respect to the assessment score\n",
    "assessment_score_3 = result_3['assessment_score'].explode().reset_index(drop=True)\n",
    "assessment_score_3.plot(kind='box')\n",
    "plt.title('Assessment Score Boxplot of Objective 3')\n",
    "plt.show()"
   ]
  },
  {
   "cell_type": "markdown",
   "metadata": {},
   "source": [
    "# 8. Multi-Objective Approach: 1) Weighted Method\n",
    "## 8.1. Set The Objective Model\n",
    "\n",
    "$$\n",
    "\\mu_{Z_4} = min.\\:M_{1j} = \\alpha \\cdot min. \\: \\mu_{Z_1} + \\beta \\cdot max. \\: \\mu_{Z_2} + \\gamma \\cdot min. \\: \\mu_{Z_3} \\quad \\tag{4}\n",
    "$$"
   ]
  },
  {
   "cell_type": "code",
   "execution_count": 40,
   "metadata": {},
   "outputs": [],
   "source": [
    "alpha = 0.12\n",
    "beta = 0.76\n",
    "gamma = 0.12"
   ]
  },
  {
   "cell_type": "code",
   "execution_count": 41,
   "metadata": {},
   "outputs": [],
   "source": [
    "# MOO method 1\n",
    "mu_Z_4 = (alpha * mu_Z_1) + (beta * mu_Z_2) + (gamma * mu_Z_3)\n",
    "model.setObjective(mu_Z_4, GRB.MINIMIZE)"
   ]
  },
  {
   "cell_type": "markdown",
   "metadata": {},
   "source": [
    "## 8.2. Solve The Model of Objective $(4)$"
   ]
  },
  {
   "cell_type": "code",
   "execution_count": 42,
   "metadata": {},
   "outputs": [
    {
     "name": "stdout",
     "output_type": "stream",
     "text": [
      "Gurobi Optimizer version 11.0.2 build v11.0.2rc0 (win64 - Windows 11.0 (22000.2))\n",
      "\n",
      "CPU model: Intel(R) Core(TM) i3-5005U CPU @ 2.00GHz, instruction set [SSE2|AVX|AVX2]\n",
      "Thread count: 2 physical cores, 4 logical processors, using up to 4 threads\n",
      "\n",
      "Academic license 2521640 - for non-commercial use only - registered to na___@mail.ugm.ac.id\n",
      "Optimize a model with 35 rows, 66 columns and 170 nonzeros\n",
      "Model fingerprint: 0x28f533dd\n",
      "Model has 30 general constraints\n",
      "Variable types: 0 continuous, 66 integer (65 binary)\n",
      "Coefficient statistics:\n",
      "  Matrix range     [1e+00, 5e+00]\n",
      "  Objective range  [7e-18, 4e-01]\n",
      "  Bounds range     [1e+00, 8e+00]\n",
      "  RHS range        [1e+00, 8e+00]\n",
      "  GenCon rhs range [1e+00, 1e+00]\n",
      "  GenCon coe range [1e+00, 1e+00]\n",
      "\n",
      "Loaded MIP start from previous solve with objective -0.227544\n",
      "\n",
      "Presolve added 15 rows and 0 columns\n",
      "Presolve time: 0.00s\n",
      "Presolved: 50 rows, 66 columns, 250 nonzeros\n",
      "Variable types: 0 continuous, 66 integer (65 binary)\n",
      "Found heuristic solution: objective -0.2933217\n",
      "\n",
      "Root relaxation: objective -9.307528e-01, 32 iterations, 0.00 seconds (0.00 work units)\n",
      "\n",
      "    Nodes    |    Current Node    |     Objective Bounds      |     Work\n",
      " Expl Unexpl |  Obj  Depth IntInf | Incumbent    BestBd   Gap | It/Node Time\n",
      "\n",
      "     0     0   -0.93075    0   20   -0.29332   -0.93075   217%     -    0s\n",
      "H    0     0                      -0.3386032   -0.93075   175%     -    0s\n",
      "H    0     0                      -0.4619725   -0.93075   101%     -    0s\n",
      "H    0     0                      -0.6715238   -0.93075  38.6%     -    0s\n",
      "     0     0   -0.81418    0   27   -0.67152   -0.81418  21.2%     -    0s\n",
      "H    0     0                      -0.7010476   -0.80578  14.9%     -    0s\n",
      "     0     0   -0.80319    0   20   -0.70105   -0.80319  14.6%     -    0s\n",
      "     0     0   -0.77659    0   28   -0.70105   -0.77659  10.8%     -    0s\n",
      "     0     0   -0.75708    0   28   -0.70105   -0.75708  7.99%     -    0s\n",
      "     0     0   -0.75708    0   22   -0.70105   -0.75708  7.99%     -    0s\n",
      "     0     0   -0.75366    0   20   -0.70105   -0.75366  7.50%     -    0s\n",
      "     0     0   -0.70593    0   18   -0.70105   -0.70593  0.70%     -    0s\n",
      "\n",
      "Cutting planes:\n",
      "  Cover: 11\n",
      "  Clique: 12\n",
      "  MIR: 3\n",
      "  Mod-K: 1\n",
      "  Relax-and-lift: 2\n",
      "\n",
      "Explored 1 nodes (131 simplex iterations) in 0.17 seconds (0.01 work units)\n",
      "Thread count was 4 (of 4 available processors)\n",
      "\n",
      "Solution count 6: -0.701048 -0.671524 -0.461973 ... -0.227544\n",
      "\n",
      "Optimal solution found (tolerance 1.00e-04)\n",
      "Best objective -7.010476190476e-01, best bound -7.010476190476e-01, gap 0.0000%\n"
     ]
    }
   ],
   "source": [
    "# solve the model\n",
    "model.optimize()"
   ]
  },
  {
   "cell_type": "markdown",
   "metadata": {},
   "source": [
    "### 8.2.1 Print The Solver Results"
   ]
  },
  {
   "cell_type": "code",
   "execution_count": 43,
   "metadata": {},
   "outputs": [
    {
     "name": "stdout",
     "output_type": "stream",
     "text": [
      "Solution Found!\n",
      "Obj. Value 4 i.e. Multi Objective Method 1: -0.701047619047619\n",
      "\n",
      "Task T6 assigned to Employee Talent 1\n",
      "Company\t\t\t: P1\n",
      "Story Points\t\t: 1\n",
      "Metrics score\t: -0.3333333333\n",
      "\n",
      "Task T8 assigned to Employee Talent 1\n",
      "Company\t\t\t: P1\n",
      "Story Points\t\t: 3\n",
      "Metrics score\t: -0.2857142857\n",
      "\n",
      "Task T5 assigned to Employee Talent 2\n",
      "Company\t\t\t: P3\n",
      "Story Points\t\t: 1\n",
      "Metrics score\t: -0.0833333333\n",
      "\n",
      "Task T7 assigned to Employee Talent 2\n",
      "Company\t\t\t: P3\n",
      "Story Points\t\t: 2\n",
      "Metrics score\t: -0.0333333333\n",
      "\n",
      "Task T4 assigned to Employee Talent 3\n",
      "Company\t\t\t: P3\n",
      "Story Points\t\t: 5\n",
      "Metrics score\t: 0.0000000000\n",
      "\n",
      "Task T2 assigned to Employee Talent 4\n",
      "Company\t\t\t: P1\n",
      "Story Points\t\t: 2\n",
      "Metrics score\t: 0.0238095238\n",
      "\n",
      "Task T10 assigned to Employee Talent 4\n",
      "Company\t\t\t: P1\n",
      "Story Points\t\t: 3\n",
      "Metrics score\t: -0.3333333333\n",
      "\n",
      "Task T1 assigned to Employee Talent 5\n",
      "Company\t\t\t: P2\n",
      "Story Points\t\t: 1\n",
      "Metrics score\t: -0.0937500000\n",
      "\n",
      "Task T3 assigned to Employee Talent 5\n",
      "Company\t\t\t: P2\n",
      "Story Points\t\t: 3\n",
      "Metrics score\t: -0.4062500000\n",
      "\n",
      "Task T9 assigned to Employee Talent 5\n",
      "Company\t\t\t: P2\n",
      "Story Points\t\t: 1\n",
      "Metrics score\t: -0.1666666667\n",
      "\n"
     ]
    }
   ],
   "source": [
    "# Check and process the solution\n",
    "if model.status == GRB.OPTIMAL:\n",
    "    print(\"Solution Found!\")\n",
    "    print(f\"Obj. Value 4 i.e. Multi Objective Method 1: {model.ObjVal}\\n\")\n",
    "\n",
    "    x_hat_4 = {}\n",
    "    for j in employees:\n",
    "        result = get_employee_tasks(\n",
    "            j, company_tasks, model, score, story_points, max_employee_workload\n",
    "        )\n",
    "        if len(result[1]) > 0:\n",
    "            x_hat_4[j] = result\n",
    "else:\n",
    "    print(\"No Solution Found!\")\n",
    "    x_hat_4 = {}"
   ]
  },
  {
   "cell_type": "markdown",
   "metadata": {},
   "source": [
    "## 8.3. Show the Solver's Result"
   ]
  },
  {
   "cell_type": "code",
   "execution_count": 44,
   "metadata": {},
   "outputs": [
    {
     "data": {
      "text/html": [
       "<div>\n",
       "<style scoped>\n",
       "    .dataframe tbody tr th:only-of-type {\n",
       "        vertical-align: middle;\n",
       "    }\n",
       "\n",
       "    .dataframe tbody tr th {\n",
       "        vertical-align: top;\n",
       "    }\n",
       "\n",
       "    .dataframe thead th {\n",
       "        text-align: right;\n",
       "    }\n",
       "</style>\n",
       "<table border=\"1\" class=\"dataframe\">\n",
       "  <thead>\n",
       "    <tr style=\"text-align: right;\">\n",
       "      <th></th>\n",
       "      <th>company</th>\n",
       "      <th>assigned_task</th>\n",
       "      <th>sum_sp</th>\n",
       "      <th>wasted_sp</th>\n",
       "      <th>assessment_score</th>\n",
       "    </tr>\n",
       "    <tr>\n",
       "      <th>employee</th>\n",
       "      <th></th>\n",
       "      <th></th>\n",
       "      <th></th>\n",
       "      <th></th>\n",
       "      <th></th>\n",
       "    </tr>\n",
       "  </thead>\n",
       "  <tbody>\n",
       "    <tr>\n",
       "      <th>Talent 1</th>\n",
       "      <td>[P1, P1]</td>\n",
       "      <td>[T6, T8]</td>\n",
       "      <td>4</td>\n",
       "      <td>4</td>\n",
       "      <td>[-0.3333333333333333, -0.2857142857142858]</td>\n",
       "    </tr>\n",
       "    <tr>\n",
       "      <th>Talent 2</th>\n",
       "      <td>[P3, P3]</td>\n",
       "      <td>[T5, T7]</td>\n",
       "      <td>3</td>\n",
       "      <td>5</td>\n",
       "      <td>[-0.08333333333333337, -0.033333333333333326]</td>\n",
       "    </tr>\n",
       "    <tr>\n",
       "      <th>Talent 3</th>\n",
       "      <td>[P3]</td>\n",
       "      <td>[T4]</td>\n",
       "      <td>5</td>\n",
       "      <td>3</td>\n",
       "      <td>[0.0]</td>\n",
       "    </tr>\n",
       "    <tr>\n",
       "      <th>Talent 4</th>\n",
       "      <td>[P1, P1]</td>\n",
       "      <td>[T2, T10]</td>\n",
       "      <td>5</td>\n",
       "      <td>3</td>\n",
       "      <td>[0.023809523809523798, -0.33333333333333326]</td>\n",
       "    </tr>\n",
       "    <tr>\n",
       "      <th>Talent 5</th>\n",
       "      <td>[P2, P2, P2]</td>\n",
       "      <td>[T1, T3, T9]</td>\n",
       "      <td>5</td>\n",
       "      <td>3</td>\n",
       "      <td>[-0.09375, -0.40625, -0.16666666666666666]</td>\n",
       "    </tr>\n",
       "  </tbody>\n",
       "</table>\n",
       "</div>"
      ],
      "text/plain": [
       "               company assigned_task  sum_sp  wasted_sp   \n",
       "employee                                                  \n",
       "Talent 1      [P1, P1]      [T6, T8]       4          4  \\\n",
       "Talent 2      [P3, P3]      [T5, T7]       3          5   \n",
       "Talent 3          [P3]          [T4]       5          3   \n",
       "Talent 4      [P1, P1]     [T2, T10]       5          3   \n",
       "Talent 5  [P2, P2, P2]  [T1, T3, T9]       5          3   \n",
       "\n",
       "                                       assessment_score  \n",
       "employee                                                 \n",
       "Talent 1     [-0.3333333333333333, -0.2857142857142858]  \n",
       "Talent 2  [-0.08333333333333337, -0.033333333333333326]  \n",
       "Talent 3                                          [0.0]  \n",
       "Talent 4   [0.023809523809523798, -0.33333333333333326]  \n",
       "Talent 5     [-0.09375, -0.40625, -0.16666666666666666]  "
      ]
     },
     "execution_count": 44,
     "metadata": {},
     "output_type": "execute_result"
    }
   ],
   "source": [
    "# Set display options\n",
    "pd.set_option('display.max_rows', 500)\n",
    "pd.set_option('display.max_columns', 500)\n",
    "\n",
    "# Convert dictionary to DataFrame and set 'employee' as index\n",
    "result_4 = pd.DataFrame.from_dict(x_hat_4, orient='index', columns=['company', 'assigned_task', 'sum_sp', 'wasted_sp', 'assessment_score'])\n",
    "result_4.index.name = 'employee'\n",
    "\n",
    "result_4"
   ]
  },
  {
   "cell_type": "markdown",
   "metadata": {},
   "source": [
    "### 8.3.1 Statistics of The Objective"
   ]
  },
  {
   "cell_type": "code",
   "execution_count": 45,
   "metadata": {},
   "outputs": [
    {
     "name": "stdout",
     "output_type": "stream",
     "text": [
      "Total Employee\t\t\t: 5\n",
      "Total Active Employee\t\t: 5\t100.00%\n",
      "Total Idle Employee\t\t: 0\t0.00%\n",
      "\n",
      "Total Story Points\t\t: 22\n",
      "Total Active Story Points\t: 22\t100.00%\n",
      "Total Wasted Story Points\t: 0\t0.00%\n",
      "\n"
     ]
    }
   ],
   "source": [
    "total_employee = len(employees)\n",
    "total_sp = sum(story_points.values())\n",
    "total_active_employee = len(set(employee for employee in x_hat_4.keys()))\n",
    "total_active_sp = sum(value[2] for value in x_hat_4.values())\n",
    "total_idle_employee = total_employee - total_active_employee\n",
    "total_wasted_sp = total_sp - total_active_sp\n",
    "\n",
    "print(f'Total Employee\\t\\t\\t: {total_employee}')\n",
    "print(f'Total Active Employee\\t\\t: {total_active_employee}\\t{(total_active_employee/total_employee)*100:.2f}%')\n",
    "print(f'Total Idle Employee\\t\\t: {total_idle_employee}\\t{(total_idle_employee/total_employee)*100:.2f}%\\n')\n",
    "print(f'Total Story Points\\t\\t: {total_sp}')\n",
    "print(f'Total Active Story Points\\t: {total_active_sp}\\t{(total_active_sp/total_sp)*100:.2f}%')\n",
    "print(f'Total Wasted Story Points\\t: {total_wasted_sp}\\t{(total_wasted_sp/total_sp)*100:.2f}%\\n')"
   ]
  },
  {
   "cell_type": "markdown",
   "metadata": {},
   "source": [
    "### 8.3.2. Distribution With Respect to the Assessment Score"
   ]
  },
  {
   "cell_type": "code",
   "execution_count": 46,
   "metadata": {},
   "outputs": [
    {
     "data": {
      "image/png": "[encoded data removed]",
      "text/plain": [
       "<Figure size 432x288 with 1 Axes>"
      ]
     },
     "metadata": {
      "needs_background": "light"
     },
     "output_type": "display_data"
    }
   ],
   "source": [
    "# make boxplot for objective 1 with respect to the assessment score\n",
    "assessment_score_4 = result_4['assessment_score'].explode().reset_index(drop=True)\n",
    "assessment_score_4.plot(kind='box')\n",
    "plt.title('Assessment Score Boxplot of MOO Method 1')\n",
    "plt.show()"
   ]
  },
  {
   "cell_type": "markdown",
   "metadata": {},
   "source": [
    "## 8.4 Comparing MOO Method 3 to Single Objective"
   ]
  },
  {
   "cell_type": "code",
   "execution_count": 47,
   "metadata": {},
   "outputs": [
    {
     "data": {
      "image/png": "[encoded data removed]",
      "text/plain": [
       "<Figure size 720x360 with 1 Axes>"
      ]
     },
     "metadata": {
      "needs_background": "light"
     },
     "output_type": "display_data"
    }
   ],
   "source": [
    "# merge all boxplot in one graph\n",
    "plt.figure(figsize=(10, 5))\n",
    "plt.boxplot(\n",
    "    [\n",
    "        assessment_score_1,\n",
    "        assessment_score_2,\n",
    "        assessment_score_3,\n",
    "        assessment_score_4,\n",
    "    ],\n",
    "    labels=[\n",
    "        \"Obj 1: Min Idle Employee\",\n",
    "        \"Obj 2: Max Similarity Score\",\n",
    "        \"Obj 3: Balancing the Workload\",\n",
    "        \"MOO Method 1\",\n",
    "    ],\n",
    ")\n",
    "plt.title(\"Overall Assessment Score Boxplot\")\n",
    "plt.xticks(rotation=15)\n",
    "plt.show()"
   ]
  }
 ],
 "metadata": {
  "kernelspec": {
   "display_name": "Python 3",
   "language": "python",
   "name": "python3"
  },
  "language_info": {
   "codemirror_mode": {
    "name": "ipython",
    "version": 3
   },
   "file_extension": ".py",
   "mimetype": "text/x-python",
   "name": "python",
   "nbconvert_exporter": "python",
   "pygments_lexer": "ipython3",
   "version": "3.10.7"
  }
 },
 "nbformat": 4,
 "nbformat_minor": 2
}
