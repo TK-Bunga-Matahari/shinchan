{
  "cells": [
    {
      "cell_type": "markdown",
      "metadata": {
        "id": "E-6dtF3Jymqq"
      },
      "source": [
        "# 0. The Obligatory Part"
      ]
    },
    {
      "cell_type": "code",
      "execution_count": null,
      "metadata": {
        "colab": {
          "base_uri": "https://localhost:8080/"
        },
        "id": "TPoygb5Qy85V",
        "outputId": "d6e00101-2c6b-41d4-9f46-b99826e7f391"
      },
      "outputs": [],
      "source": [
        "# Run this cell if data in Google Drive\n",
        "from google.colab import drive\n",
        "drive.mount('/content/drive')"
      ]
    },
    {
      "cell_type": "code",
      "execution_count": null,
      "metadata": {
        "colab": {
          "base_uri": "https://localhost:8080/"
        },
        "id": "8g_x_WvAy73A",
        "outputId": "66c23079-9e2b-46e3-d7b7-6c5f17256e71"
      },
      "outputs": [],
      "source": [
        "# Install ortools\n",
        "!pip3 install ortools"
      ]
    },
    {
      "cell_type": "code",
      "execution_count": null,
      "metadata": {
        "id": "b1aK90XOyDm7"
      },
      "outputs": [],
      "source": [
        "# Import library\n",
        "import numpy as np\n",
        "import pandas as pd\n",
        "from ortools.sat.python import cp_model\n",
        "import matplotlib.pyplot as plt\n",
        "import math"
      ]
    },
    {
      "cell_type": "markdown",
      "metadata": {
        "id": "uOY23lpxyqBA"
      },
      "source": [
        "# 1. Define the Data Structure"
      ]
    },
    {
      "cell_type": "code",
      "execution_count": null,
      "metadata": {
        "id": "cr6zrVCPyDm-"
      },
      "outputs": [],
      "source": [
        "# Data path\n",
        "new_employee_path = '/content/drive/MyDrive/Tadika Mesra Bunga Matahari/#1 Optimization Problem/project1_task-assignment/data/fixed/fixed_data_employee.csv'\n",
        "new_task_path = '/content/drive/MyDrive/Tadika Mesra Bunga Matahari/#1 Optimization Problem/project1_task-assignment/data/fixed/fixed_data_task.csv'"
      ]
    },
    {
      "cell_type": "markdown",
      "metadata": {
        "id": "rNB0brJSyvYG"
      },
      "source": [
        "## 1.1. Pre-Processing: Employee Data"
      ]
    },
    {
      "cell_type": "code",
      "execution_count": null,
      "metadata": {
        "colab": {
          "base_uri": "https://localhost:8080/",
          "height": 527
        },
        "id": "W-Z1vdwqyDm_",
        "outputId": "c8747e19-9ccb-43a4-ad96-033598e2bf3c"
      },
      "outputs": [],
      "source": [
        "# Read data\n",
        "employee_skills_df = pd.read_csv(new_employee_path, index_col='employee_id')\n",
        "employee_skills_df.drop(columns=['no', 'Role'], inplace=True, errors='ignore')\n",
        "\n",
        "employees = employee_skills_df.index.tolist()\n",
        "skills_name = employee_skills_df.columns[1:].tolist()\n",
        "\n",
        "employee_skills_df"
      ]
    },
    {
      "cell_type": "markdown",
      "metadata": {
        "id": "jPZzJsWLyx9Q"
      },
      "source": [
        "## 1.2. Pre-Processing: Task Data"
      ]
    },
    {
      "cell_type": "code",
      "execution_count": null,
      "metadata": {
        "colab": {
          "base_uri": "https://localhost:8080/",
          "height": 527
        },
        "id": "JnABPAglyDnA",
        "outputId": "9f3b38b2-452e-423c-9f1b-44e8048e07af"
      },
      "outputs": [],
      "source": [
        "task_df = pd.read_csv(new_task_path, index_col='task_id')\n",
        "\n",
        "tasks = task_df.index.tolist()\n",
        "company_names = list(set(task_df['project_id']))\n",
        "story_points = task_df['story_points'].to_dict()\n",
        "\n",
        "task_df"
      ]
    },
    {
      "cell_type": "code",
      "execution_count": null,
      "metadata": {
        "colab": {
          "base_uri": "https://localhost:8080/",
          "height": 236
        },
        "id": "bdKCZWClyDnA",
        "outputId": "e6abc3bf-329e-4f66-dec0-d60ac1bc961b"
      },
      "outputs": [],
      "source": [
        "# convert to dictionary each company and its task\n",
        "company_tasks = {}\n",
        "\n",
        "for company in company_names:\n",
        "  company_tasks[company] = task_df[task_df['project_id'] == company].index.tolist()\n",
        "\n",
        "# sort the company tasks from C1 to C5\n",
        "company_tasks = dict(sorted(company_tasks.items()))\n",
        "\n",
        "company_tasks_df = pd.DataFrame.from_dict(company_tasks, orient='index')\n",
        "company_tasks_df"
      ]
    },
    {
      "cell_type": "markdown",
      "metadata": {
        "id": "YGutS5EnyDnA"
      },
      "source": [
        "## 1.3. Pre-Processing: Calculate The Similarity Error"
      ]
    },
    {
      "cell_type": "code",
      "execution_count": null,
      "metadata": {
        "colab": {
          "base_uri": "https://localhost:8080/",
          "height": 339
        },
        "id": "cLnC99LKyDnC",
        "outputId": "c8e8f19d-04df-42f2-9ffb-2878e98166b3"
      },
      "outputs": [],
      "source": [
        "task_skills_df = task_df.drop(columns=['project_id', 'story_points'])\n",
        "task_skills_df.head()"
      ]
    },
    {
      "cell_type": "markdown",
      "metadata": {
        "id": "pRtBaGPHyDnD"
      },
      "source": [
        "### 1.3.1 Weighted Euclidean Method"
      ]
    },
    {
      "cell_type": "markdown",
      "metadata": {
        "id": "k7X2Jkx8-XMe"
      },
      "source": [
        "**Weight Formula**\n",
        "\n",
        "$$\n",
        "w_i = \\frac{1}{1 + a \\cdot max(0, v_{1i} - v_{2i})}\n",
        "$$\n",
        "\n",
        "Where:\n",
        "\n",
        "* $w_i$ is the weight for the *i*-th element.\n",
        "* $v_{1i}$ is the *i*-th element of the first vector.\n",
        "* $v_{2i}$ is the *i*-th element of the second vector.\n",
        "* $a$ is a weighting parameter\n",
        "\n",
        "<br>\n",
        "<br>\n",
        "\n",
        "**Weighted Euclidean Distance Formula**\n",
        "\n",
        "$$\n",
        "d(v_1, v_2) = \\sqrt{\\sum_{i=1}^n w_i (v_{1i} - v_{2i})^2}\n",
        "$$\n",
        "\n",
        "Where:\n",
        "* $d(v_1, v_2)$ is the weighted Euclidean distance between vectors $v_1$ and $v_2$.\n",
        "* $w_i$ is the weight for the *i*-th element.\n",
        "* $v_{1i}$ is the *i*-th element of the first vector.\n",
        "* $v_{2i}$ is the *i*-th element of the second vector.\n",
        "* $n$ is the dimensionality of the vectors."
      ]
    },
    {
      "cell_type": "code",
      "execution_count": null,
      "metadata": {
        "colab": {
          "base_uri": "https://localhost:8080/",
          "height": 441
        },
        "id": "r-TAwW-hyDnD",
        "outputId": "d8882493-1706-4dad-be84-66d306b78a50"
      },
      "outputs": [],
      "source": [
        "def custom_we(v1, v2, a=0.5):\n",
        "  # calculate differences\n",
        "  diff = v1 - v2\n",
        "\n",
        "  # adjust weight: over qualified only\n",
        "  w = 1 / (1 + a * np.maximum(0, diff))\n",
        "\n",
        "  return w\n",
        "\n",
        "def euclidean_similarity(emp, task):\n",
        "  sum = 0\n",
        "  for index, metric in enumerate(emp):\n",
        "    if task[index] > 0: # if the skill criteria is not 0\n",
        "      w = custom_we(emp[index], task[index]) # create weight\n",
        "      sum += w * ((emp[index] - task[index])**2)\n",
        "    elif task[index] == 0: # else it is, then we don't take account of this aspect\n",
        "      sum += 0\n",
        "\n",
        "  return math.sqrt(sum)\n"
      ]
    },
    {
      "cell_type": "code",
      "execution_count": null,
      "metadata": {
        "colab": {
          "base_uri": "https://localhost:8080/"
        },
        "id": "GgV6HS_pQg_a",
        "outputId": "2c3ffcb3-8406-436a-9fd9-0d95d7e95da0"
      },
      "outputs": [],
      "source": [
        "# Calculate the eucliean similarity\n",
        "highest_euclidean_score = 40.311288741492746\n",
        "euclidean_similarity_score = {}\n",
        "count_no_match = 0\n",
        "\n",
        "for i in tasks:\n",
        "  task_skills = task_skills_df.loc[i]\n",
        "\n",
        "  for j in employees:\n",
        "    employee_skills = employee_skills_df.loc[j]\n",
        "\n",
        "    # Filter skills to consider only those present in both project requirements and employee skills\n",
        "    common_skills = [skill for skill in employee_skills.index if skill in task_skills.index]\n",
        "\n",
        "    # check if there's at least one skill matching\n",
        "    if common_skills:\n",
        "      # calculate weighted euclidean distance for common skills\n",
        "      euclidean_similarity_score[(i, j)] = euclidean_similarity(employee_skills[common_skills], task_skills[common_skills]) # compute euclidean distance\n",
        "      euclidean_similarity_score[(i, j)] = euclidean_similarity_score[(i, j)] / highest_euclidean_score\n",
        "    else:\n",
        "      count_no_match += 1\n",
        "\n",
        "print(count_no_match)\n",
        "\n",
        "euclidean_similarity_score_df = pd.DataFrame.from_dict(euclidean_similarity_score, orient='index')\n",
        "euclidean_similarity_score_df"
      ]
    },
    {
      "cell_type": "markdown",
      "metadata": {
        "id": "IRfgAca5yDnE"
      },
      "source": [
        "# 2. Construct the Model"
      ]
    },
    {
      "cell_type": "code",
      "execution_count": null,
      "metadata": {
        "id": "9DNauASVyDnE"
      },
      "outputs": [],
      "source": [
        "model = cp_model.CpModel()"
      ]
    },
    {
      "cell_type": "markdown",
      "metadata": {
        "id": "u00i7ikYyDnE"
      },
      "source": [
        "# 3. Build the Decision Variable"
      ]
    },
    {
      "cell_type": "markdown",
      "metadata": {
        "id": "N1KvIzwtAnLB"
      },
      "source": [
        "We have 3 sets\n",
        "$$\n",
        "sets=\\begin{cases}I\\:&,\\:set\\:of\\:task\\\\ J&,\\:set\\:of\\:employee\\\\ K&,\\:set\\:of\\:project\\end{cases}\n",
        "$$\n",
        "\n",
        "then we have parameters, scalars, and data structures. so let:\n",
        "$$\n",
        "i=\\:task \\:i \\\\\n",
        "j=employee \\:j\\\\\n",
        "k=projects \\:k\\\\\n",
        "s_i=story\\:points\\:of\\:task \\:i \\\\\n",
        "e_{ij}=similarity\\:skills\\:of\\:employee\\:j\\:for\\:task\\:i \\\\\n",
        "$$\n",
        "\n",
        "\n",
        "\n",
        "Decision Variable\n",
        "\n",
        "$$\n",
        "x_{ijk}=Binary\\:variable\\:indicating\\:whether\\:employee\\:j\\:is\\:assigned\\:to\\:task\\:k\\:for\\:day\\:i\n",
        "$$\n",
        "$$\n",
        "y_{jk}=Binary\\:variable\\:indicating\\:whether\\:employee\\:j\\:is\\:assigned\\:to\\:any\\:task\\:from\\:company\\:k\n",
        "$$"
      ]
    },
    {
      "cell_type": "code",
      "execution_count": null,
      "metadata": {
        "id": "SJFFwAK0yDnF"
      },
      "outputs": [],
      "source": [
        "max_employee_workload = 20"
      ]
    },
    {
      "cell_type": "code",
      "execution_count": null,
      "metadata": {
        "id": "fxGFJM9byDnE"
      },
      "outputs": [],
      "source": [
        "# Create decision variables for x and y\n",
        "x = {}\n",
        "for k, task in company_tasks.items():\n",
        "    for i in task:\n",
        "        for j in employees:\n",
        "            x[(i, j, k)] = model.NewIntVar(0, 1, f'x_{i}_{j}_{k}')\n",
        "\n",
        "# decision variable y represent cardinility of each employee and company\n",
        "y = {}\n",
        "for j in employees:\n",
        "    for k in company_tasks.keys():\n",
        "        y[(j, k)] = model.NewIntVar(0, 1, f'y_{j}_{k}')\n",
        "\n",
        "# decision variables max_workload\n",
        "max_workload = model.NewIntVar(0, max_employee_workload, 'max_workload')"
      ]
    },
    {
      "cell_type": "code",
      "execution_count": null,
      "metadata": {
        "colab": {
          "base_uri": "https://localhost:8080/"
        },
        "id": "4go1tVTByDnE",
        "outputId": "a09a1b89-5eb4-465d-933d-fe9f92502e73"
      },
      "outputs": [],
      "source": [
        "print(x)\n",
        "print(y)"
      ]
    },
    {
      "cell_type": "markdown",
      "metadata": {
        "id": "jAt01TYnyDnF"
      },
      "source": [
        "# 4. Subject to the Constraint"
      ]
    },
    {
      "cell_type": "markdown",
      "metadata": {
        "id": "m_v75KW-K7Xl"
      },
      "source": [
        "## Constraint 1: Each task is assigned to one employee\n",
        "$$\n",
        "\\sum _{j\\in J}\\:x_{ijk}\\:=\\:1 \\quad \\forall i \\in k, j \\in J, k \\in K\n",
        "$$"
      ]
    },
    {
      "cell_type": "code",
      "execution_count": null,
      "metadata": {
        "id": "pspT6MuGyDnF"
      },
      "outputs": [],
      "source": [
        "# constraint 1: each task assigned to one talent\n",
        "for k, task in company_tasks.items():\n",
        "    for i in task:\n",
        "        model.Add(sum(x[(i, j, k)] for j in employees) == 1) "
      ]
    },
    {
      "cell_type": "markdown",
      "metadata": {
        "id": "aaajrgzlOH2N"
      },
      "source": [
        "## Constraint 2: Each employee works for one company at a time\n",
        "$$\n",
        "Pre-Constraint\\:2:\\sum _{i\\in I_k}x_{ijk}>0\\:\\rightarrow \\:y_{jk}=1\\:\\forall j\\in J,\\:\\forall k\\in K\\:\n",
        "$$"
      ]
    },
    {
      "cell_type": "code",
      "execution_count": null,
      "metadata": {
        "id": "YtrCeCIOyDnG"
      },
      "outputs": [],
      "source": [
        "# pre-processing constraint 2\n",
        "for j in employees:\n",
        "    for k, task in company_tasks.items():\n",
        "        # Create a temporary list to hold the sum of x[i][j][k] for all i\n",
        "        temp_sum = []\n",
        "        for i in task:\n",
        "            temp_sum.append(x[(i, j, k)])\n",
        "        # Add a constraint to the model: y[j][k] is 1 if the sum of x[i][j][k] for all i is > 0, and 0 otherwise\n",
        "        model.Add(sum(temp_sum) > 0).OnlyEnforceIf(y[(j, k)])\n",
        "        model.Add(sum(temp_sum) <= 0).OnlyEnforceIf(y[(j, k)].Not())"
      ]
    },
    {
      "cell_type": "markdown",
      "metadata": {
        "id": "3ZsTBCQfOXgA"
      },
      "source": [
        "$$\n",
        "Constraint\\:2:\\sum _{k\\in K}y_{jk}\\le 1\\:\\forall j\\in J,k\\in K\\:\n",
        "$$"
      ]
    },
    {
      "cell_type": "code",
      "execution_count": null,
      "metadata": {
        "id": "hfelnta4yDnG"
      },
      "outputs": [],
      "source": [
        "# create constraint 2: each employee can only work on one task\n",
        "for j in employees:\n",
        "    # The sum of y[j][k] for all companies (k) should be <= 1\n",
        "    model.Add(sum(y[(j, k)] for k in company_tasks.keys()) <= 1)"
      ]
    },
    {
      "cell_type": "markdown",
      "metadata": {
        "id": "GYDpJJE1PD8W"
      },
      "source": [
        "## Constraint 3: Employee workload doesn't exceed the capacity\n",
        "$$\n",
        "Constraint\\:3:\\:\\sum _{j\\in J}s_i\\cdot x_{ijk}\\le 20\\:\\forall i\\in k,j\\in J, k\\in K\\:\n",
        "$$"
      ]
    },
    {
      "cell_type": "code",
      "execution_count": null,
      "metadata": {
        "id": "mBAhQ2HRyDnF"
      },
      "outputs": [],
      "source": [
        "# constraint 3: employee workload doesn't exceed the capacity\n",
        "for j in employees:\n",
        "  model.Add(sum(story_points[i] * x[i, j, k] for k, tasks in company_tasks.items() for i in tasks) <= max_employee_workload)"
      ]
    },
    {
      "cell_type": "markdown",
      "metadata": {
        "id": "RoXQ6uaq89JC"
      },
      "source": [
        "## Constraint 4: Maximum workload is greater than or equal to the workload of each employee\n",
        "$$\n",
        "Constraint\\:4:\\:maxworkload\\ge \\sum _{i,\\:k}s_i\\cdot x_{i,j,k},\\:\\forall j\\in J\\:\\:\n",
        "$$"
      ]
    },
    {
      "cell_type": "code",
      "execution_count": null,
      "metadata": {
        "id": "X4Qs_AEOfLgd"
      },
      "outputs": [],
      "source": [
        "# constraint 4: max_workload is greater than or equal to the workload of each employee\n",
        "for j in employees:\n",
        "    model.Add(max_workload >= sum(story_points[i] * x[i, j, k] for k, tasks in company_tasks.items() for i in tasks))"
      ]
    },
    {
      "cell_type": "markdown",
      "metadata": {
        "id": "HmXD2-AfyDnG"
      },
      "source": [
        "# 5. Single Objective 1: Minimize the Idle Employee"
      ]
    },
    {
      "cell_type": "markdown",
      "metadata": {
        "id": "E386myMXyDnG"
      },
      "source": [
        "## 5.1. Set the Objective Model"
      ]
    },
    {
      "cell_type": "markdown",
      "metadata": {
        "id": "-WIuidhgPZtP"
      },
      "source": [
        "## Single Objective Minimize Idle Employee\n",
        "$$\n",
        "min.\\:I_j=\\sum _{j\\in \\:J}\\:\\left(1\\:-\\:\\sum _{k\\in \\:K}\\:y_{jk}\\right)\\quad \\: \\forall j\\in J, k\\in K\\quad \\tag{1}\n",
        "$$"
      ]
    },
    {
      "cell_type": "code",
      "execution_count": null,
      "metadata": {
        "id": "IyPdO354yDnG"
      },
      "outputs": [],
      "source": [
        "# objective 1\n",
        "I = []\n",
        "\n",
        "for j in employees:\n",
        "  obj1 = 1 - sum(y[j, k] for k in company_tasks.keys())\n",
        "  I.append(obj1)\n",
        "\n",
        "I_total_idle_employee = sum(I)\n",
        "\n",
        "# single objective 1\n",
        "model.Minimize(I_total_idle_employee)"
      ]
    },
    {
      "cell_type": "markdown",
      "metadata": {
        "id": "asXzP-0LyDnG"
      },
      "source": [
        "## 5.2. Solve the Model"
      ]
    },
    {
      "cell_type": "code",
      "execution_count": null,
      "metadata": {
        "id": "ENtyZCuvyDnG"
      },
      "outputs": [],
      "source": [
        "solver = cp_model.CpSolver()\n",
        "status = solver.Solve(model)"
      ]
    },
    {
      "cell_type": "code",
      "execution_count": null,
      "metadata": {
        "colab": {
          "base_uri": "https://localhost:8080/"
        },
        "id": "X-ttEPhOyDnH",
        "outputId": "80960b5c-17ee-43fb-cda4-82d7aa00c149"
      },
      "outputs": [],
      "source": [
        "if status == cp_model.OPTIMAL or status == cp_model.FEASIBLE:\n",
        "  print('Solution Found!')\n",
        "  print(f'Objective Value: {solver.ObjectiveValue()}\\n')\n",
        "\n",
        "  print(f'Total Idle Employees: {solver.Value(I_total_idle_employee)}')\n",
        "\n",
        "  x_hat = {}\n",
        "\n",
        "  for j in employees:\n",
        "    task = []\n",
        "    sim = []\n",
        "    sp = 0\n",
        "    wasted_sp = 0\n",
        "    comp = []\n",
        "\n",
        "    for k, tasks in company_tasks.items():\n",
        "      for i in tasks:\n",
        "        if solver.Value(x[i, j, k]) == 1:\n",
        "          print(f'Task {i} assigned to Employee {j}')\n",
        "          print(f'Company\\t\\t\\t: {k}')\n",
        "          print(f'Story Points\\t\\t: {story_points[i]}')\n",
        "          print(f\"Similarity score\\t: {euclidean_similarity_score[i, j]:.10f}\\n\")\n",
        "\n",
        "          task.append(i)\n",
        "          sim.append(euclidean_similarity_score[i, j])\n",
        "          comp.append(k)\n",
        "          sp += story_points[i]\n",
        "\n",
        "    if sp > 0:\n",
        "      wasted_sp = max_employee_workload - sp\n",
        "      x_hat[j] = comp, task, sp, wasted_sp, sim\n",
        "\n",
        "else:\n",
        "  print('No Solution Found!')\n",
        "  x_hat = {}"
      ]
    },
    {
      "cell_type": "markdown",
      "metadata": {
        "id": "dP8Pk5JbyDnH"
      },
      "source": [
        "## 5.3. Print the Result"
      ]
    },
    {
      "cell_type": "code",
      "execution_count": null,
      "metadata": {
        "colab": {
          "base_uri": "https://localhost:8080/",
          "height": 1000
        },
        "id": "FtyoIvlVyDnH",
        "outputId": "26c04771-3257-4153-ce0c-cd789db53836"
      },
      "outputs": [],
      "source": [
        "# Convert dictionary to DataFrame\n",
        "result1 = pd.DataFrame([(key, value[0], value[1], value[2], value[3], value[4]) for key, value in x_hat.items()],\n",
        "                      columns=['employee', 'company', 'assigned_task', 'sum_sp', 'wasted_sp', 'similarity_score'])\n",
        "\n",
        "# Set 'company' as index\n",
        "result1.set_index('employee', inplace=True)\n",
        "\n",
        "pd.set_option('display.max_rows', 500)\n",
        "pd.set_option('display.max_columns', 500)\n",
        "\n",
        "result1"
      ]
    },
    {
      "cell_type": "code",
      "execution_count": null,
      "metadata": {
        "colab": {
          "base_uri": "https://localhost:8080/"
        },
        "id": "KaQL-FxcyDnH",
        "outputId": "f60133b5-ea3a-4bb8-cf39-bd1506ba1746"
      },
      "outputs": [],
      "source": [
        "total_employee = len(employees)\n",
        "total_sp = sum(story_points.values())\n",
        "total_active_employee = len(set(employee for employee in x_hat.keys()))\n",
        "total_active_sp = sum(value[2] for value in x_hat.values())\n",
        "total_idle_employee = total_employee - total_active_employee\n",
        "total_wasted_sp = total_sp - total_active_sp\n",
        "\n",
        "print(f'Total Employee\\t\\t\\t: {total_employee}')\n",
        "print(f'Total Active Employee\\t\\t: {total_active_employee}\\t{(total_active_employee/total_employee)*100:.2f}%')\n",
        "print(f'Total Idle Employee\\t\\t: {total_idle_employee}\\t{(total_idle_employee/total_employee)*100:.2f}%\\n')\n",
        "print(f'Total Story Points\\t\\t: {total_sp}')\n",
        "print(f'Total Active Story Points\\t: {total_active_sp}\\t{(total_active_sp/total_sp)*100:.2f}%')\n",
        "print(f'Total Wasted Story Points\\t: {total_wasted_sp}\\t{(total_wasted_sp/total_sp)*100:.2f}%\\n')"
      ]
    },
    {
      "cell_type": "code",
      "execution_count": null,
      "metadata": {
        "colab": {
          "base_uri": "https://localhost:8080/",
          "height": 452
        },
        "id": "qUV7425mrIj8",
        "outputId": "539a18ad-09ce-4c6f-b272-f0dd930e807c"
      },
      "outputs": [],
      "source": [
        "# make boxplot for objective 1 variable from the similarity score\n",
        "similarity_score1 = result1['similarity_score'].explode().reset_index(drop=True)\n",
        "similarity_score1.plot(kind='box')\n",
        "plt.title('Similarity Score Boxplot')\n",
        "plt.show()"
      ]
    },
    {
      "cell_type": "markdown",
      "metadata": {
        "id": "iWhhoOjPyDnH"
      },
      "source": [
        "# 6. Single Objective 2: Maximize the Similarity Error"
      ]
    },
    {
      "cell_type": "markdown",
      "metadata": {
        "id": "c4fPWqplyDnI"
      },
      "source": [
        "## 6.1. Set the Objective Model"
      ]
    },
    {
      "cell_type": "markdown",
      "metadata": {
        "id": "cHHSkWFlQgXC"
      },
      "source": [
        "## Single Objective Maximize Similarity Score\n",
        "$$\n",
        "max.\\:E_{ij}=\\sum_{i\\in I}\\:\\sum _{j\\in J}\\:e_{ij}\\cdot x_{ijk}\\quad \\:\\:\\forall \\:i\\in k, \\:j \\in J, \\:k \\in K\\quad\\tag{2}\n",
        "$$"
      ]
    },
    {
      "cell_type": "code",
      "execution_count": null,
      "metadata": {
        "id": "87i-6T5cyDnI"
      },
      "outputs": [],
      "source": [
        "# objective 2\n",
        "# E_total_similarity_score = 0\n",
        "\n",
        "for k, tasks in company_tasks.items():\n",
        "  E_total_similarity_score = sum(euclidean_similarity_score[i, j] * x[i, j, k] for i in tasks for j in employees)\n",
        "\n",
        "\n",
        "model.Minimize(E_total_similarity_score)\n",
        "\n",
        "\n",
        "# E_total_similarity_score = []\n",
        "\n",
        "# for k, tasks in company_tasks.items():\n",
        "#   for j in employees:\n",
        "#     obj2 = sum(euclidean_similarity_score[i, j] * x[i, j, k] for i in tasks for j in employees)\n",
        "#     E_total_similarity_score.append(obj2)\n",
        "\n",
        "# model_2.Maximize(E_total_similarity_score)"
      ]
    },
    {
      "cell_type": "markdown",
      "metadata": {
        "id": "hePvkSjSyDnI"
      },
      "source": [
        "## 6.2. Solve the Model"
      ]
    },
    {
      "cell_type": "code",
      "execution_count": null,
      "metadata": {
        "id": "cf0mx_oryDnI"
      },
      "outputs": [],
      "source": [
        "solver = cp_model.CpSolver()\n",
        "status = solver.Solve(model)"
      ]
    },
    {
      "cell_type": "code",
      "execution_count": null,
      "metadata": {
        "colab": {
          "base_uri": "https://localhost:8080/"
        },
        "id": "o6MmjNYbyDnI",
        "outputId": "4a527744-1b3b-4f79-c764-d6d2cae217bb"
      },
      "outputs": [],
      "source": [
        "if status == cp_model.OPTIMAL or status == cp_model.FEASIBLE:\n",
        "  print('Solution Found!')\n",
        "  print(f'Objective Value: {solver.ObjectiveValue()}\\n')\n",
        "\n",
        "  print(f'Total Similarity Score: {solver.Value(E_total_similarity_score)}\\n')\n",
        "\n",
        "  x_hat = {}\n",
        "\n",
        "  for j in employees:\n",
        "    task = []\n",
        "    sim = []\n",
        "    sp = 0\n",
        "    wasted_sp = 0\n",
        "    comp = []\n",
        "\n",
        "    for k, tasks in company_tasks.items():\n",
        "      for i in tasks:\n",
        "        if solver.Value(x[i, j, k]) == 1:\n",
        "          print(f'Task {i} assigned to Employee {j}')\n",
        "          print(f'Company\\t\\t\\t: {k}')\n",
        "          print(f'Story Points\\t\\t: {story_points[i]}')\n",
        "          print(f\"Similarity score\\t: {euclidean_similarity_score[i, j]:.10f}\\n\")\n",
        "\n",
        "          task.append(i)\n",
        "          sim.append(euclidean_similarity_score[i, j])\n",
        "          comp.append(k)\n",
        "          sp += story_points[i]\n",
        "\n",
        "    if sp > 0:\n",
        "      wasted_sp = max_employee_workload - sp\n",
        "      x_hat[j] = comp, task, sp, wasted_sp, sim\n",
        "\n",
        "else:\n",
        "  print('No Solution Found!')\n",
        "  x_hat = {}"
      ]
    },
    {
      "cell_type": "markdown",
      "metadata": {
        "id": "XRB0culiyDnI"
      },
      "source": [
        "## 6.3. Print the Result"
      ]
    },
    {
      "cell_type": "code",
      "execution_count": null,
      "metadata": {
        "colab": {
          "base_uri": "https://localhost:8080/",
          "height": 1000
        },
        "id": "avQDy382yDnI",
        "outputId": "dcdd3750-996d-45e7-b9fd-d9137578f1ee"
      },
      "outputs": [],
      "source": [
        "# Convert dictionary to DataFrame\n",
        "result2 = pd.DataFrame([(key, value[0], value[1], value[2], value[3], value[4]) for key, value in x_hat.items()],\n",
        "                      columns=['employee', 'company', 'assigned_task', 'sum_sp', 'wasted_sp', 'similarity_score'])\n",
        "\n",
        "# Set 'company' as index\n",
        "result2.set_index('employee', inplace=True)\n",
        "\n",
        "pd.set_option('display.max_rows', 500)\n",
        "pd.set_option('display.max_columns', 500)\n",
        "\n",
        "result2"
      ]
    },
    {
      "cell_type": "code",
      "execution_count": null,
      "metadata": {
        "colab": {
          "base_uri": "https://localhost:8080/"
        },
        "id": "CxIJ0aZ8yDnN",
        "outputId": "64cbd30e-056a-4cad-c1c1-909f6495fdb9"
      },
      "outputs": [],
      "source": [
        "total_employee = len(employees)\n",
        "total_sp = sum(story_points.values())\n",
        "total_active_employee = len(set(employee for employee in x_hat.keys()))\n",
        "total_active_sp = sum(value[2] for value in x_hat.values())\n",
        "total_idle_employee = total_employee - total_active_employee\n",
        "total_wasted_sp = total_sp - total_active_sp\n",
        "\n",
        "print(f'Total Employee\\t\\t\\t: {total_employee}')\n",
        "print(f'Total Active Employee\\t\\t: {total_active_employee}\\t{(total_active_employee/total_employee)*100:.2f}%')\n",
        "print(f'Total Idle Employee\\t\\t: {total_idle_employee}\\t{(total_idle_employee/total_employee)*100:.2f}%\\n')\n",
        "print(f'Total Story Points\\t\\t: {total_sp}')\n",
        "print(f'Total Active Story Points\\t: {total_active_sp}\\t{(total_active_sp/total_sp)*100:.2f}%')\n",
        "print(f'Total Wasted Story Points\\t: {total_wasted_sp}\\t{(total_wasted_sp/total_sp)*100:.2f}%\\n')"
      ]
    },
    {
      "cell_type": "code",
      "execution_count": null,
      "metadata": {
        "colab": {
          "base_uri": "https://localhost:8080/",
          "height": 452
        },
        "id": "tNSZ4rrvrOms",
        "outputId": "2003f742-6b97-42e9-820d-36578866a2c7"
      },
      "outputs": [],
      "source": [
        "# make boxplot for objective 2 variable from the similarity score\n",
        "similarity_score2 = result2['similarity_score'].explode().reset_index(drop=True)\n",
        "similarity_score2.plot(kind='box')\n",
        "plt.title('Similarity Score Boxplot')\n",
        "plt.show()"
      ]
    },
    {
      "cell_type": "markdown",
      "metadata": {
        "id": "z5M9MLoYHkOp"
      },
      "source": [
        "# 7. Single Objective 3: Balancing Workload"
      ]
    },
    {
      "cell_type": "markdown",
      "metadata": {
        "id": "htD9BvIwK_rs"
      },
      "source": [
        "## 7.1 Set The Objective Model"
      ]
    },
    {
      "cell_type": "markdown",
      "metadata": {
        "id": "er40wqWcW91I"
      },
      "source": [
        "## Single Objective Balancing Workload Employee"
      ]
    },
    {
      "cell_type": "code",
      "execution_count": null,
      "metadata": {
        "id": "3DbR2OReK00w"
      },
      "outputs": [],
      "source": [
        "model.Minimize(max_workload)"
      ]
    },
    {
      "cell_type": "markdown",
      "metadata": {
        "id": "KVR9WNwmLQmW"
      },
      "source": [
        "## 7.2 Solve the Model"
      ]
    },
    {
      "cell_type": "code",
      "execution_count": null,
      "metadata": {
        "id": "RAz9m5l8LPVd"
      },
      "outputs": [],
      "source": [
        "solver = cp_model.CpSolver()\n",
        "status = solver.Solve(model)"
      ]
    },
    {
      "cell_type": "markdown",
      "metadata": {
        "id": "Ex3jLGZoLVzV"
      },
      "source": [
        "## 7.3 Print the Result"
      ]
    },
    {
      "cell_type": "code",
      "execution_count": null,
      "metadata": {
        "colab": {
          "base_uri": "https://localhost:8080/"
        },
        "id": "sAgk3gjoLYFH",
        "outputId": "18bf82b5-fd52-44b9-b502-4a19caee3a2a"
      },
      "outputs": [],
      "source": [
        "if status == cp_model.OPTIMAL or status == cp_model.FEASIBLE:\n",
        "  print('Solution Found!')\n",
        "  print(f'Objective Value: {solver.ObjectiveValue()}\\n')\n",
        "\n",
        "  print(f'Total Similarity Score: {solver.Value(E_total_similarity_score)}\\n')\n",
        "\n",
        "  x_hat = {}\n",
        "\n",
        "  for j in employees:\n",
        "    task = []\n",
        "    sim = []\n",
        "    sp = 0\n",
        "    wasted_sp = 0\n",
        "    comp = []\n",
        "\n",
        "    for k, tasks in company_tasks.items():\n",
        "      for i in tasks:\n",
        "        if solver.Value(x[i, j, k]) == 1:\n",
        "          print(f'Task {i} assigned to Employee {j}')\n",
        "          print(f'Company\\t\\t\\t: {k}')\n",
        "          print(f'Story Points\\t\\t: {story_points[i]}')\n",
        "          print(f\"Similarity score\\t: {euclidean_similarity_score[i, j]:.10f}\\n\")\n",
        "\n",
        "          task.append(i)\n",
        "          sim.append(euclidean_similarity_score[i, j])\n",
        "          comp.append(k)\n",
        "          sp += story_points[i]\n",
        "\n",
        "    if sp > 0:\n",
        "      wasted_sp = max_employee_workload - sp\n",
        "      x_hat[j] = comp, task, sp, wasted_sp, sim\n",
        "\n",
        "else:\n",
        "  print('No Solution Found!')\n",
        "  x_hat = {}"
      ]
    },
    {
      "cell_type": "code",
      "execution_count": null,
      "metadata": {
        "colab": {
          "base_uri": "https://localhost:8080/",
          "height": 1000
        },
        "id": "MoXM8WwlB9KW",
        "outputId": "7687d425-002c-4bef-c1a2-e34be19cb207"
      },
      "outputs": [],
      "source": [
        "# Convert dictionary to DataFrame\n",
        "result3 = pd.DataFrame([(key, value[0], value[1], value[2], value[3], value[4]) for key, value in x_hat.items()],\n",
        "                      columns=['employee', 'company', 'assigned_task', 'sum_sp', 'wasted_sp', 'similarity_score'])\n",
        "\n",
        "# Set 'company' as index\n",
        "result3.set_index('employee', inplace=True)\n",
        "\n",
        "pd.set_option('display.max_rows', 500)\n",
        "pd.set_option('display.max_columns', 500)\n",
        "\n",
        "result3"
      ]
    },
    {
      "cell_type": "code",
      "execution_count": null,
      "metadata": {
        "colab": {
          "base_uri": "https://localhost:8080/"
        },
        "id": "N24X4TvrLbga",
        "outputId": "f9658bfe-8c7f-4b06-93fa-a3bdbc21f55e"
      },
      "outputs": [],
      "source": [
        "total_employee = len(employees)\n",
        "total_sp = sum(story_points.values())\n",
        "total_active_employee = len(set(employee for employee in x_hat.keys()))\n",
        "total_active_sp = sum(value[2] for value in x_hat.values())\n",
        "total_idle_employee = total_employee - total_active_employee\n",
        "total_wasted_sp = total_sp - total_active_sp\n",
        "\n",
        "print(f'Total Employee\\t\\t\\t: {total_employee}')\n",
        "print(f'Total Active Employee\\t\\t: {total_active_employee}\\t{(total_active_employee/total_employee)*100:.2f}%')\n",
        "print(f'Total Idle Employee\\t\\t: {total_idle_employee}\\t{(total_idle_employee/total_employee)*100:.2f}%\\n')\n",
        "print(f'Total Story Points\\t\\t: {total_sp}')\n",
        "print(f'Total Active Story Points\\t: {total_active_sp}\\t{(total_active_sp/total_sp)*100:.2f}%')\n",
        "print(f'Total Wasted Story Points\\t: {total_wasted_sp}\\t{(total_wasted_sp/total_sp)*100:.2f}%\\n')"
      ]
    },
    {
      "cell_type": "code",
      "execution_count": null,
      "metadata": {
        "colab": {
          "base_uri": "https://localhost:8080/",
          "height": 452
        },
        "id": "EAUMEqy3rUkv",
        "outputId": "425d1452-e19b-4dbd-f10c-984a76e2ca10"
      },
      "outputs": [],
      "source": [
        "# make boxplot for objective 3 variable from the similarity score\n",
        "similarity_score3 = result3['similarity_score'].explode().reset_index(drop=True)\n",
        "similarity_score3.plot(kind='box')\n",
        "plt.title('Similarity Score Boxplot')\n",
        "plt.show()"
      ]
    },
    {
      "cell_type": "markdown",
      "metadata": {
        "id": "uDylurhvLfkT"
      },
      "source": [
        "# Boxplot Visualization 3 Single Objective"
      ]
    },
    {
      "cell_type": "code",
      "execution_count": null,
      "metadata": {
        "colab": {
          "base_uri": "https://localhost:8080/",
          "height": 468
        },
        "id": "GTIkb8kKLjVO",
        "outputId": "db7b9c6c-3120-4cd9-a487-3b25e45961b2"
      },
      "outputs": [],
      "source": [
        "# merge all boxplot in one graph\n",
        "plt.figure(figsize=(10, 5))\n",
        "plt.boxplot([similarity_score1, similarity_score2, similarity_score3], labels=['Objective 1', 'Objective 2', 'Objective 3'])\n",
        "plt.title('Similarity Score Boxplot')\n",
        "plt.show()"
      ]
    },
    {
      "cell_type": "markdown",
      "metadata": {
        "id": "cgvhew-TyDnO"
      },
      "source": [
        "# 8. Multi-Objective Approach"
      ]
    },
    {
      "cell_type": "markdown",
      "metadata": {
        "id": "h5VMohJnyDnO"
      },
      "source": [
        "## 8.1. Set The Objective Model"
      ]
    },
    {
      "cell_type": "markdown",
      "metadata": {
        "id": "iquUOFnYRPKY"
      },
      "source": [
        "## Multi Objective Approach\n",
        "\n",
        "$$\n",
        "min.\\:W=\\alpha \\cdot min.\\:I_j+\\beta \\cdot max.\\:E_{ij} \\quad \\tag{3}\n",
        "$$"
      ]
    },
    {
      "cell_type": "code",
      "execution_count": null,
      "metadata": {
        "id": "RGZqtOlTyDnO"
      },
      "outputs": [],
      "source": [
        "alpha = 0.1\n",
        "beta = 0.1\n",
        "theta = 0.8"
      ]
    },
    {
      "cell_type": "code",
      "execution_count": null,
      "metadata": {
        "id": "8bfAHCFkyDnO"
      },
      "outputs": [],
      "source": [
        "# objective 1\n",
        "# I = []\n",
        "\n",
        "# for j in employees:\n",
        "#   obj1 = 1 - sum(y[j, k] for k in company_tasks.keys())\n",
        "#   I.append(obj1)\n",
        "\n",
        "# I_total_idle_employee = sum(I)\n",
        "\n",
        "# # objective 2\n",
        "# for k, tasks in company_tasks.items():\n",
        "#   E_total_similarity_score = sum(euclidean_similarity_score[i, j] * x[i, j, k] for i in tasks for j in employees)\n",
        "\n",
        "model.Minimize((alpha * I_total_idle_employee) + (beta * E_total_similarity_score) + (theta * max_workload))"
      ]
    },
    {
      "cell_type": "markdown",
      "metadata": {
        "id": "mnQHoPrByDnO"
      },
      "source": [
        "## 8.2. Solve the Model"
      ]
    },
    {
      "cell_type": "code",
      "execution_count": null,
      "metadata": {
        "id": "_cipwZEDyDnO"
      },
      "outputs": [],
      "source": [
        "solver = cp_model.CpSolver()\n",
        "status = solver.Solve(model)"
      ]
    },
    {
      "cell_type": "code",
      "execution_count": null,
      "metadata": {
        "colab": {
          "base_uri": "https://localhost:8080/"
        },
        "id": "EoxR9VSbyDnO",
        "outputId": "8954d624-49b7-4b79-ce7c-985372fad375"
      },
      "outputs": [],
      "source": [
        "if status == cp_model.OPTIMAL or status == cp_model.FEASIBLE:\n",
        "  print('Solution Found!')\n",
        "  print(f'Objective Value: {solver.ObjectiveValue()}\\n')\n",
        "\n",
        "  print(f'Total Idle Employees: {solver.Value(I_total_idle_employee)}')\n",
        "  print(f'Total Similarity Score: {solver.Value(E_total_similarity_score)}\\n')\n",
        "\n",
        "  x_hat = {}\n",
        "\n",
        "  for j in employees:\n",
        "    task = []\n",
        "    sim = []\n",
        "    sp = 0\n",
        "    wasted_sp = 0\n",
        "    comp = []\n",
        "\n",
        "    for k, tasks in company_tasks.items():\n",
        "      for i in tasks:\n",
        "        if solver.Value(x[i, j, k]) == 1:\n",
        "          print(f'Task {i} assigned to Employee {j}')\n",
        "          print(f'Company\\t\\t\\t: {k}')\n",
        "          print(f'Story Points\\t\\t: {story_points[i]}')\n",
        "          print(f\"Similarity score\\t: {euclidean_similarity_score[i, j]:.10f}\\n\")\n",
        "\n",
        "          task.append(i)\n",
        "          sim.append(euclidean_similarity_score[i, j])\n",
        "          comp.append(k)\n",
        "          sp += story_points[i]\n",
        "\n",
        "    if sp > 0:\n",
        "      wasted_sp = max_employee_workload - sp\n",
        "      x_hat[j] = comp, task, sp, wasted_sp, sim\n",
        "\n",
        "else:\n",
        "  print('No Solution Found!')\n",
        "  x_hat = {}"
      ]
    },
    {
      "cell_type": "markdown",
      "metadata": {
        "id": "UddcUWYVyDnP"
      },
      "source": [
        "## 8.3. Print the Result"
      ]
    },
    {
      "cell_type": "code",
      "execution_count": null,
      "metadata": {
        "colab": {
          "base_uri": "https://localhost:8080/",
          "height": 1000
        },
        "id": "zWFioYb0yDnP",
        "outputId": "5860b15c-97b5-481e-fb04-3112a18bfdb5"
      },
      "outputs": [],
      "source": [
        "# Convert dictionary to DataFrame\n",
        "result4 = pd.DataFrame([(key, value[0], value[1], value[2], value[3], value[4]) for key, value in x_hat.items()],\n",
        "                      columns=['employee', 'company', 'assigned_task', 'sum_sp', 'wasted_sp', 'similarity_score'])\n",
        "\n",
        "# Set 'company' as index\n",
        "result4.set_index('employee', inplace=True)\n",
        "\n",
        "pd.set_option('display.max_rows', 500)\n",
        "pd.set_option('display.max_columns', 500)\n",
        "\n",
        "result4"
      ]
    },
    {
      "cell_type": "code",
      "execution_count": null,
      "metadata": {
        "colab": {
          "base_uri": "https://localhost:8080/"
        },
        "id": "bj4-zbxByDnP",
        "outputId": "245f0aea-61aa-47e6-b64f-d92b58b9456b"
      },
      "outputs": [],
      "source": [
        "total_employee = len(employees)\n",
        "total_sp = sum(story_points.values())\n",
        "total_active_employee = len(set(employee for employee in x_hat.keys()))\n",
        "total_active_sp = sum(value[2] for value in x_hat.values())\n",
        "total_idle_employee = total_employee - total_active_employee\n",
        "total_wasted_sp = total_sp - total_active_sp\n",
        "\n",
        "print(f'Total Employee\\t\\t\\t: {total_employee}')\n",
        "print(f'Total Active Employee\\t\\t: {total_active_employee}\\t{(total_active_employee/total_employee)*100:.2f}%')\n",
        "print(f'Total Idle Employee\\t\\t: {total_idle_employee}\\t{(total_idle_employee/total_employee)*100:.2f}%\\n')\n",
        "print(f'Total Story Points\\t\\t: {total_sp}')\n",
        "print(f'Total Active Story Points\\t: {total_active_sp}\\t{(total_active_sp/total_sp)*100:.2f}%')\n",
        "print(f'Total Wasted Story Points\\t: {total_wasted_sp}\\t{(total_wasted_sp/total_sp)*100:.2f}%\\n')"
      ]
    },
    {
      "cell_type": "code",
      "execution_count": null,
      "metadata": {
        "colab": {
          "base_uri": "https://localhost:8080/",
          "height": 526
        },
        "id": "SEaQ4QLJ85mS",
        "outputId": "d2574492-2e2e-481f-b14d-428f712c7d33"
      },
      "outputs": [],
      "source": [
        "# Data for employees\n",
        "employee_labels = ['Total Employees', 'Total Active Employees', 'Total Idle Employees']\n",
        "employee_values = [total_employee, total_active_employee, total_idle_employee]\n",
        "\n",
        "# Data for story points\n",
        "sp_labels = ['Total Story Points', 'Total Active Story Points', 'Total Wasted Story Points']\n",
        "sp_values = [total_sp, total_active_sp, total_wasted_sp]\n",
        "\n",
        "# Create subplots\n",
        "fig, (ax1, ax2) = plt.subplots(1, 2, figsize=(15, 6))\n",
        "\n",
        "# Plot for employees\n",
        "ax1.barh(employee_labels, employee_values, color='skyblue')\n",
        "ax1.set_xlabel('Count')\n",
        "ax1.set_title('Summary of Employees')\n",
        "ax1.grid(axis='x', linestyle='--', alpha=0.7)\n",
        "\n",
        "# Plot for story points\n",
        "ax2.barh(sp_labels, sp_values, color='lightgreen')\n",
        "ax2.set_xlabel('Count')\n",
        "ax2.set_title('Summary of Story Points')\n",
        "ax2.grid(axis='x', linestyle='--', alpha=0.7)\n",
        "\n",
        "# Show plot\n",
        "plt.tight_layout()\n",
        "plt.show()"
      ]
    },
    {
      "cell_type": "code",
      "execution_count": null,
      "metadata": {
        "colab": {
          "base_uri": "https://localhost:8080/",
          "height": 452
        },
        "id": "KZ4O15eareDQ",
        "outputId": "82ec37ae-98a7-4282-e369-875b7fd7f37b"
      },
      "outputs": [],
      "source": [
        "# make boxplot for multi objective variable from the similarity score\n",
        "similarity_score_multi = result4['similarity_score'].explode().reset_index(drop=True)\n",
        "similarity_score_multi.plot(kind='box')\n",
        "plt.title('Similarity Score Boxplot')\n",
        "plt.show()"
      ]
    },
    {
      "cell_type": "markdown",
      "metadata": {
        "id": "MvSNY3ulrizu"
      },
      "source": [
        "# Boxplot Visualization"
      ]
    },
    {
      "cell_type": "code",
      "execution_count": null,
      "metadata": {
        "colab": {
          "base_uri": "https://localhost:8080/",
          "height": 522
        },
        "id": "1pEI5a2NrlKd",
        "outputId": "cbc7cc82-8245-4699-c68d-33b4e525fda9"
      },
      "outputs": [],
      "source": [
        "# merge all boxplot in one graph\n",
        "plt.figure(figsize=(10, 5))\n",
        "plt.boxplot([similarity_score1, similarity_score2, similarity_score3, similarity_score_multi],\n",
        "            labels=['Obj 1: Min Idle Emp', 'Obj 2: Max Similarity Score', 'Obj 3: Balancing the Workload', 'Multi Objective'])\n",
        "plt.title('Similarity Score Boxplot')\n",
        "plt.xticks(rotation=15)\n",
        "plt.show()"
      ]
    },
    {
      "cell_type": "markdown",
      "metadata": {
        "id": "PIkGf1wB_wAm"
      },
      "source": [
        "# 9. Strategic Analysis"
      ]
    }
  ],
  "metadata": {
    "colab": {
      "provenance": []
    },
    "kernelspec": {
      "display_name": "Python 3",
      "name": "python3"
    },
    "language_info": {
      "codemirror_mode": {
        "name": "ipython",
        "version": 3
      },
      "file_extension": ".py",
      "mimetype": "text/x-python",
      "name": "python",
      "nbconvert_exporter": "python",
      "pygments_lexer": "ipython3",
      "version": "3.11.5"
    }
  },
  "nbformat": 4,
  "nbformat_minor": 0
}
