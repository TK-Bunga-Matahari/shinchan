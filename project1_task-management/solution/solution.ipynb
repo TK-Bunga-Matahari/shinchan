{
 "cells": [
  {
   "cell_type": "markdown",
   "metadata": {},
   "source": [
    "# Task Assignment Optimization Problem with Gurobi Framework\n",
    "\n",
    "Module Name: solution.py\n",
    "Obective: Task Assignment Optimization Problem Solution\n",
    "\n",
    "Description:\n",
    "This module contains the solution for the Task Assignment Optimization Problem.\n",
    "The solution is divided into several sections, each responsible for a specific task:\n",
    "\n",
    "1. Data Input: Functions to read and validate input data for the task assignment problem.\n",
    "2. Optimization Model: Implementation of the optimization model using appropriate algorithms.\n",
    "3. Constraints and Objectives: Definition of constraints and objective functions used in the optimization.\n",
    "4. Solution Execution: Functions to execute the optimization model and obtain results.\n",
    "5. Output Processing: Functions to format and output the results in a user-friendly manner.\n",
    "\n",
    "Functions:\n",
    "\n",
    "- s1_data_structure(employee_path, task_path): Pre-process and structure employee and task data.\n",
    "- s2_construct_model(license_path): Construct the optimization model with specified parameters.\n",
    "- s3_decision_variable(model, tasks, employees, company_tasks): Define decision variables for the model.\n",
    "- s4_constraint(model, x, y, z, employees, company_tasks, story_points, max_workload): Set constraints for the optimization model.\n",
    "- s5_objective1(model, employees, company_tasks, y, score, story_points, max_employee_workload, mu_Z_star): Minimize the idle employee.\n",
    "- s6_objective2(model, employees, company_tasks, z, score, story_points, max_employee_workload, mu_Z_star): Maximize the assessment score.\n",
    "- s7_objective3(model, employees, company_tasks, score, story_points, max_employee_workload, max_workload, mu_Z_star): Balance the workload for each employee.\n",
    "- s8_MOO(model, employees, company_tasks, score, story_points, max_employee_workload, mu_Z_1, mu_Z_2, mu_Z_3, mu_Z_star, assessment_score_1, assessment_score_2, assessment_score_3): Multi-Objective Optimization using Goal Programming.\n",
    "\n",
    "Classes:\n",
    "\n",
    "- GapCallback: A callback class to report optimization progress and gap.\n",
    "\n",
    "Usage:\n",
    "Import the module in requirement file and yippy file to process the assessment.\n",
    "The solution can be executed by running the main() function, which orchestrates\n",
    "the entire workflow from data input to output processing.\n",
    "\n",
    "Example:\n",
    "from task_assignment_optimization import main\n",
    "\n",
    "    if __name__ == \"__main__\":\n",
    "        main()\n",
    "\n",
    "Author:\n",
    "TK Bunga Matahari Team\n",
    "N. Muafi, I.G.P. Wisnu N., F. Zaid N., Fauzi I.S., Joseph C.L., S. Alisya\n",
    "\n",
    "Last Modified:\n",
    "June 2024\n",
    "\n",
    "---\n",
    "\n",
    "# 0. The Obligatory Part\n",
    "\n",
    "### Import The Important Library\n"
   ]
  },
  {
   "cell_type": "code",
   "execution_count": 1,
   "metadata": {},
   "outputs": [],
   "source": [
    "# Import library\n",
    "import os\n",
    "import pandas as pd\n",
    "import gurobipy as gp\n",
    "import matplotlib.pyplot as plt\n",
    "\n",
    "from dotenv import load_dotenv\n",
    "from typing import Dict, List, Tuple, Any\n",
    "from gurobipy import GRB, Model, quicksum\n",
    "from yippy import CompetencyAssessment, WeightedEuclideanDistance"
   ]
  },
  {
   "cell_type": "markdown",
   "metadata": {},
   "source": [
    "### User Arguments\n"
   ]
  },
  {
   "cell_type": "code",
   "execution_count": 2,
   "metadata": {},
   "outputs": [
    {
     "data": {
      "text/plain": [
       "True"
      ]
     },
     "execution_count": 2,
     "metadata": {},
     "output_type": "execute_result"
    }
   ],
   "source": [
    "# Load environment variables from .env file\n",
    "load_dotenv()"
   ]
  },
  {
   "cell_type": "code",
   "execution_count": 3,
   "metadata": {},
   "outputs": [],
   "source": [
    "# Convert string to boolean\n",
    "def str_to_bool(value: str) -> bool:\n",
    "    \"\"\"\n",
    "    Convert a string representation of truth to a boolean value.\n",
    "\n",
    "    This function takes a string and converts it to a boolean. The conversion\n",
    "    is case-insensitive and considers the strings \"true\", \"1\", and \"yes\" as\n",
    "    True, and all other strings as False.\n",
    "\n",
    "    Args:\n",
    "        value (str): The string to be converted to a boolean. Expected values are\n",
    "                     case-insensitive \"true\", \"1\", \"yes\" for True, and anything else for False.\n",
    "\n",
    "    Returns:\n",
    "        bool: The boolean value corresponding to the string representation.\n",
    "              Returns True for \"true\", \"1\", \"yes\" (case-insensitive), and False otherwise.\n",
    "\n",
    "    Examples:\n",
    "        >>> str_to_bool(\"true\")\n",
    "        True\n",
    "        >>> str_to_bool(\"False\")\n",
    "        False\n",
    "        >>> str_to_bool(\"YES\")\n",
    "        True\n",
    "        >>> str_to_bool(\"no\")\n",
    "        False\n",
    "    \"\"\"\n",
    "    return value.lower() in (\"true\", \"1\", \"yes\")"
   ]
  },
  {
   "cell_type": "code",
   "execution_count": 4,
   "metadata": {},
   "outputs": [],
   "source": [
    "# Get License Information from Environment Variables\n",
    "wls_access_id = os.getenv(\"WLSACCESSID\")\n",
    "wls_secret = os.getenv(\"WLSSECRET\")\n",
    "license_id = os.getenv(\"LICENSEID\")\n",
    "\n",
    "if wls_access_id is None or wls_secret is None or license_id is None:\n",
    "    license_params = {}\n",
    "else:\n",
    "    license_params = {\n",
    "        \"WLSACCESSID\": wls_access_id,\n",
    "        \"WLSSECRET\": wls_secret,\n",
    "        \"LICENSEID\": int(license_id),\n",
    "    }\n",
    "\n",
    "# Optimization Parameters from Environment Variables\n",
    "presolve = int(os.getenv(\"PRESOLVE\", 2))\n",
    "MIPFocus = int(os.getenv(\"MIPFOCUS\", 1))\n",
    "MIPGap = float(os.getenv(\"MIPGAP\", 0.01))\n",
    "heuristics = float(os.getenv(\"HEURISTICS\", 0.8))\n",
    "threads = int(os.getenv(\"THREADS\", 2))\n",
    "MIPGap_moo = float(os.getenv(\"MIPGAP_MOO\", 0.05))\n",
    "\n",
    "# Objective Weights from Environment Variables\n",
    "weight_obj1 = float(os.getenv(\"WEIGHT_OBJ1\", 0.03))\n",
    "weight_obj2 = float(os.getenv(\"WEIGHT_OBJ2\", 0.9))\n",
    "weight_obj3 = float(os.getenv(\"WEIGHT_OBJ3\", 0.07))\n",
    "\n",
    "# Methodology from Environment Variables\n",
    "overqualification = str_to_bool(os.getenv(\"OVERQUALIFICATION\", \"True\"))\n",
    "\n",
    "# File Paths from Environment Variables\n",
    "employee_path = os.getenv(\"EMPLOYEE_PATH\", \"./data/employees_data.csv\")\n",
    "task_path = os.getenv(\"TASK_PATH\", \"./data/tasks_data.csv\")\n",
    "\n",
    "# Maximum Workload from Environment Variables\n",
    "max_employee_workload = int(os.getenv(\"MAX_EMPLOYEE_WORKLOAD\", 20))"
   ]
  },
  {
   "cell_type": "markdown",
   "metadata": {},
   "source": [
    "# 1. Set Up The Data Structure\n",
    "\n",
    "Sets up the data structure by processing employee, task data, and calculate skills metric score.\n",
    "\n",
    "**Args:**\n",
    "\n",
    "- employee_path (str): The path to the employee data CSV file.\n",
    "- task_path (str): The path to the task data CSV file.\n",
    "- overqualification (bool): Flag to choice skills metric methodhology.\n",
    "\n",
    "**Returns:**\n",
    "\n",
    "Tuple: Contains employees, tasks, story_points, company_tasks, score, and info.\n",
    "\n",
    "**Dataset Structure:**\n",
    "\n",
    "The following are examples of how the employee and task datasets must be created:\n",
    "\n",
    "**Employee Data:**\n",
    "\n",
    "```python\n",
    ">>> import pandas as pd\n",
    ">>> employee_skills_df = pd.DataFrame({\n",
    "...     'math': [5, 3, 4, 4, 2],\n",
    "...     'python': [5, 4, 4, 4, 3],\n",
    "...     'sql': [3, 5, 4, 5, 2],\n",
    "...     'cloud': [2, 4, 3, 5, 4],\n",
    "...     'database': [2, 3, 4, 5, 4],\n",
    "...     'optimization': [5, 5, 3, 4, 1]\n",
    "... }, index=['Talent 1', 'Talent 2', 'Talent 3', 'Talent 4', 'Talent 5'])\n",
    ">>> employee_skills_df\n",
    "\t\tmath  python  sql  cloud  database  optimization\n",
    "Talent 1     5       5    3      2         2             5\n",
    "Talent 2     3       4    5      4         3             5\n",
    "Talent 3     4       4    4      3         4             3\n",
    "Talent 4     4       4    5      5         5             4\n",
    "Talent 5     2       3    2      4         4             1\n",
    "```\n",
    "\n",
    "**Task Data:**\n",
    "\n",
    "```python\n",
    ">>> task_df = pd.DataFrame({\n",
    "...     'project_id': ['P2', 'P2', 'P3', 'P3', 'P2', 'P2', 'P3', 'P1', 'P1', 'P3'],\n",
    "...     'story_points': [1, 2, 3, 4, 0, 0, 0, 5, 2, 5],\n",
    "...     'math': [0, 3, 5, 4, 0, 4, 3, 3, 0, 5],\n",
    "...     'python': [5, 3, 4, 3, 2, 1, 3, 4, 3, 5],\n",
    "...     'sql': [3, 5, 4, 3, 1, 5, 4, 5, 2, 5],\n",
    "...     'cloud': [4, 4, 5, 3, 0, 5, 4, 5, 0, 5],\n",
    "...     'database': [4, 3, 5, 3, 1, 0, 3, 5, 2, 0],\n",
    "...     'optimization': [0, 1, 5, 0, 5, 0, 4, 2, 2, 5]\n",
    "... }, index=['T1', 'T2', 'T3', 'T4', 'T5', 'T6', 'T7', 'T8', 'T9', 'T10'])\n",
    ">>> task_df\n",
    "\t\tproject_id  story_points  math  python  sql  cloud  database  optimization\n",
    "T1              P2             1     0       5    3      4         4             0\n",
    "T2              P2             2     3       3    5      4         3             1\n",
    "T3              P3             3     5       4    4      5         5             5\n",
    "T4              P3             4     4       3    3      3         3             0\n",
    "T5              P2             0     0       2    1      0         1             5\n",
    "T6              P2             0     4       1    5      5         0             0\n",
    "T7              P3             0     3       3    4      4         3             4\n",
    "T8              P1             5     3       4    5      5         5             2\n",
    "T9              P1             2     0       3    2      0         2             2\n",
    "T10             P3             5     5       5    5      5         0             5\n",
    "```\n",
    "\n",
    "**Example:**\n",
    "\n",
    "```python\n",
    "employees, tasks, story_points, company_tasks, score, info = s1_data_structure('employees.csv', 'tasks.csv')\n",
    "```\n",
    "\n",
    "## 1.1. Pre-Processing: Employee Data\n"
   ]
  },
  {
   "cell_type": "code",
   "execution_count": 5,
   "metadata": {},
   "outputs": [
    {
     "data": {
      "text/html": [
       "<div>\n",
       "<style scoped>\n",
       "    .dataframe tbody tr th:only-of-type {\n",
       "        vertical-align: middle;\n",
       "    }\n",
       "\n",
       "    .dataframe tbody tr th {\n",
       "        vertical-align: top;\n",
       "    }\n",
       "\n",
       "    .dataframe thead th {\n",
       "        text-align: right;\n",
       "    }\n",
       "</style>\n",
       "<table border=\"1\" class=\"dataframe\">\n",
       "  <thead>\n",
       "    <tr style=\"text-align: right;\">\n",
       "      <th></th>\n",
       "      <th>math</th>\n",
       "      <th>python</th>\n",
       "      <th>sql</th>\n",
       "      <th>cloud</th>\n",
       "      <th>database</th>\n",
       "      <th>optimization</th>\n",
       "    </tr>\n",
       "    <tr>\n",
       "      <th>employee_id</th>\n",
       "      <th></th>\n",
       "      <th></th>\n",
       "      <th></th>\n",
       "      <th></th>\n",
       "      <th></th>\n",
       "      <th></th>\n",
       "    </tr>\n",
       "  </thead>\n",
       "  <tbody>\n",
       "    <tr>\n",
       "      <th>Talent 1</th>\n",
       "      <td>5</td>\n",
       "      <td>5</td>\n",
       "      <td>3</td>\n",
       "      <td>2</td>\n",
       "      <td>2</td>\n",
       "      <td>5</td>\n",
       "    </tr>\n",
       "    <tr>\n",
       "      <th>Talent 2</th>\n",
       "      <td>2</td>\n",
       "      <td>5</td>\n",
       "      <td>4</td>\n",
       "      <td>3</td>\n",
       "      <td>3</td>\n",
       "      <td>1</td>\n",
       "    </tr>\n",
       "    <tr>\n",
       "      <th>Talent 3</th>\n",
       "      <td>4</td>\n",
       "      <td>4</td>\n",
       "      <td>5</td>\n",
       "      <td>3</td>\n",
       "      <td>4</td>\n",
       "      <td>3</td>\n",
       "    </tr>\n",
       "    <tr>\n",
       "      <th>Talent 4</th>\n",
       "      <td>3</td>\n",
       "      <td>4</td>\n",
       "      <td>5</td>\n",
       "      <td>5</td>\n",
       "      <td>4</td>\n",
       "      <td>2</td>\n",
       "    </tr>\n",
       "    <tr>\n",
       "      <th>Talent 5</th>\n",
       "      <td>2</td>\n",
       "      <td>3</td>\n",
       "      <td>2</td>\n",
       "      <td>4</td>\n",
       "      <td>5</td>\n",
       "      <td>1</td>\n",
       "    </tr>\n",
       "  </tbody>\n",
       "</table>\n",
       "</div>"
      ],
      "text/plain": [
       "             math  python  sql  cloud  database  optimization\n",
       "employee_id                                                  \n",
       "Talent 1        5       5    3      2         2             5\n",
       "Talent 2        2       5    4      3         3             1\n",
       "Talent 3        4       4    5      3         4             3\n",
       "Talent 4        3       4    5      5         4             2\n",
       "Talent 5        2       3    2      4         5             1"
      ]
     },
     "execution_count": 5,
     "metadata": {},
     "output_type": "execute_result"
    }
   ],
   "source": [
    "# Read data of Employee Data\n",
    "employee_skills_df = pd.read_csv(employee_path, index_col=\"employee_id\")\n",
    "employee_skills_df.drop(columns=[\"No\", \"Role\"], inplace=True, errors=\"ignore\")\n",
    "\n",
    "employees = employee_skills_df.index.tolist()\n",
    "skills_name = employee_skills_df.columns[1:].tolist()\n",
    "\n",
    "employee_skills_df"
   ]
  },
  {
   "cell_type": "markdown",
   "metadata": {},
   "source": [
    "## 1.2. Pre-Processing: Task Data\n"
   ]
  },
  {
   "cell_type": "code",
   "execution_count": 6,
   "metadata": {},
   "outputs": [
    {
     "data": {
      "text/html": [
       "<div>\n",
       "<style scoped>\n",
       "    .dataframe tbody tr th:only-of-type {\n",
       "        vertical-align: middle;\n",
       "    }\n",
       "\n",
       "    .dataframe tbody tr th {\n",
       "        vertical-align: top;\n",
       "    }\n",
       "\n",
       "    .dataframe thead th {\n",
       "        text-align: right;\n",
       "    }\n",
       "</style>\n",
       "<table border=\"1\" class=\"dataframe\">\n",
       "  <thead>\n",
       "    <tr style=\"text-align: right;\">\n",
       "      <th></th>\n",
       "      <th>project_id</th>\n",
       "      <th>story_points</th>\n",
       "      <th>math</th>\n",
       "      <th>python</th>\n",
       "      <th>sql</th>\n",
       "      <th>cloud</th>\n",
       "      <th>database</th>\n",
       "      <th>optimization</th>\n",
       "    </tr>\n",
       "    <tr>\n",
       "      <th>task_id</th>\n",
       "      <th></th>\n",
       "      <th></th>\n",
       "      <th></th>\n",
       "      <th></th>\n",
       "      <th></th>\n",
       "      <th></th>\n",
       "      <th></th>\n",
       "      <th></th>\n",
       "    </tr>\n",
       "  </thead>\n",
       "  <tbody>\n",
       "    <tr>\n",
       "      <th>T1</th>\n",
       "      <td>P2</td>\n",
       "      <td>1</td>\n",
       "      <td>0</td>\n",
       "      <td>5</td>\n",
       "      <td>3</td>\n",
       "      <td>4</td>\n",
       "      <td>4</td>\n",
       "      <td>0</td>\n",
       "    </tr>\n",
       "    <tr>\n",
       "      <th>T2</th>\n",
       "      <td>P1</td>\n",
       "      <td>2</td>\n",
       "      <td>3</td>\n",
       "      <td>5</td>\n",
       "      <td>4</td>\n",
       "      <td>5</td>\n",
       "      <td>3</td>\n",
       "      <td>1</td>\n",
       "    </tr>\n",
       "    <tr>\n",
       "      <th>T3</th>\n",
       "      <td>P2</td>\n",
       "      <td>3</td>\n",
       "      <td>5</td>\n",
       "      <td>4</td>\n",
       "      <td>2</td>\n",
       "      <td>0</td>\n",
       "      <td>0</td>\n",
       "      <td>5</td>\n",
       "    </tr>\n",
       "    <tr>\n",
       "      <th>T4</th>\n",
       "      <td>P3</td>\n",
       "      <td>5</td>\n",
       "      <td>2</td>\n",
       "      <td>4</td>\n",
       "      <td>0</td>\n",
       "      <td>3</td>\n",
       "      <td>0</td>\n",
       "      <td>4</td>\n",
       "    </tr>\n",
       "    <tr>\n",
       "      <th>T5</th>\n",
       "      <td>P3</td>\n",
       "      <td>1</td>\n",
       "      <td>0</td>\n",
       "      <td>3</td>\n",
       "      <td>5</td>\n",
       "      <td>1</td>\n",
       "      <td>5</td>\n",
       "      <td>0</td>\n",
       "    </tr>\n",
       "    <tr>\n",
       "      <th>T6</th>\n",
       "      <td>P1</td>\n",
       "      <td>1</td>\n",
       "      <td>0</td>\n",
       "      <td>1</td>\n",
       "      <td>4</td>\n",
       "      <td>5</td>\n",
       "      <td>5</td>\n",
       "      <td>0</td>\n",
       "    </tr>\n",
       "    <tr>\n",
       "      <th>T7</th>\n",
       "      <td>P3</td>\n",
       "      <td>2</td>\n",
       "      <td>4</td>\n",
       "      <td>4</td>\n",
       "      <td>1</td>\n",
       "      <td>1</td>\n",
       "      <td>2</td>\n",
       "      <td>3</td>\n",
       "    </tr>\n",
       "    <tr>\n",
       "      <th>T8</th>\n",
       "      <td>P1</td>\n",
       "      <td>3</td>\n",
       "      <td>1</td>\n",
       "      <td>0</td>\n",
       "      <td>5</td>\n",
       "      <td>5</td>\n",
       "      <td>3</td>\n",
       "      <td>0</td>\n",
       "    </tr>\n",
       "    <tr>\n",
       "      <th>T9</th>\n",
       "      <td>P2</td>\n",
       "      <td>1</td>\n",
       "      <td>3</td>\n",
       "      <td>4</td>\n",
       "      <td>3</td>\n",
       "      <td>0</td>\n",
       "      <td>0</td>\n",
       "      <td>2</td>\n",
       "    </tr>\n",
       "    <tr>\n",
       "      <th>T10</th>\n",
       "      <td>P1</td>\n",
       "      <td>3</td>\n",
       "      <td>5</td>\n",
       "      <td>5</td>\n",
       "      <td>0</td>\n",
       "      <td>0</td>\n",
       "      <td>0</td>\n",
       "      <td>5</td>\n",
       "    </tr>\n",
       "  </tbody>\n",
       "</table>\n",
       "</div>"
      ],
      "text/plain": [
       "        project_id  story_points  math  python  sql  cloud  database  \\\n",
       "task_id                                                                \n",
       "T1              P2             1     0       5    3      4         4   \n",
       "T2              P1             2     3       5    4      5         3   \n",
       "T3              P2             3     5       4    2      0         0   \n",
       "T4              P3             5     2       4    0      3         0   \n",
       "T5              P3             1     0       3    5      1         5   \n",
       "T6              P1             1     0       1    4      5         5   \n",
       "T7              P3             2     4       4    1      1         2   \n",
       "T8              P1             3     1       0    5      5         3   \n",
       "T9              P2             1     3       4    3      0         0   \n",
       "T10             P1             3     5       5    0      0         0   \n",
       "\n",
       "         optimization  \n",
       "task_id                \n",
       "T1                  0  \n",
       "T2                  1  \n",
       "T3                  5  \n",
       "T4                  4  \n",
       "T5                  0  \n",
       "T6                  0  \n",
       "T7                  3  \n",
       "T8                  0  \n",
       "T9                  2  \n",
       "T10                 5  "
      ]
     },
     "execution_count": 6,
     "metadata": {},
     "output_type": "execute_result"
    }
   ],
   "source": [
    "# Read data of Task Data\n",
    "task_df = pd.read_csv(task_path, index_col=\"task_id\")\n",
    "\n",
    "tasks = task_df.index.tolist()\n",
    "company_names = list(set(task_df[\"project_id\"]))\n",
    "story_points = task_df[\"story_points\"].to_dict()\n",
    "\n",
    "task_df"
   ]
  },
  {
   "cell_type": "markdown",
   "metadata": {},
   "source": [
    "## 1.3. Group the task data by company/project\n"
   ]
  },
  {
   "cell_type": "code",
   "execution_count": 7,
   "metadata": {},
   "outputs": [
    {
     "data": {
      "text/html": [
       "<div>\n",
       "<style scoped>\n",
       "    .dataframe tbody tr th:only-of-type {\n",
       "        vertical-align: middle;\n",
       "    }\n",
       "\n",
       "    .dataframe tbody tr th {\n",
       "        vertical-align: top;\n",
       "    }\n",
       "\n",
       "    .dataframe thead th {\n",
       "        text-align: right;\n",
       "    }\n",
       "</style>\n",
       "<table border=\"1\" class=\"dataframe\">\n",
       "  <thead>\n",
       "    <tr style=\"text-align: right;\">\n",
       "      <th></th>\n",
       "      <th>0</th>\n",
       "      <th>1</th>\n",
       "      <th>2</th>\n",
       "      <th>3</th>\n",
       "    </tr>\n",
       "  </thead>\n",
       "  <tbody>\n",
       "    <tr>\n",
       "      <th>P1</th>\n",
       "      <td>T2</td>\n",
       "      <td>T6</td>\n",
       "      <td>T8</td>\n",
       "      <td>T10</td>\n",
       "    </tr>\n",
       "    <tr>\n",
       "      <th>P2</th>\n",
       "      <td>T1</td>\n",
       "      <td>T3</td>\n",
       "      <td>T9</td>\n",
       "      <td>None</td>\n",
       "    </tr>\n",
       "    <tr>\n",
       "      <th>P3</th>\n",
       "      <td>T4</td>\n",
       "      <td>T5</td>\n",
       "      <td>T7</td>\n",
       "      <td>None</td>\n",
       "    </tr>\n",
       "  </tbody>\n",
       "</table>\n",
       "</div>"
      ],
      "text/plain": [
       "     0   1   2     3\n",
       "P1  T2  T6  T8   T10\n",
       "P2  T1  T3  T9  None\n",
       "P3  T4  T5  T7  None"
      ]
     },
     "execution_count": 7,
     "metadata": {},
     "output_type": "execute_result"
    }
   ],
   "source": [
    "# convert to dictionary each company and its task\n",
    "company_tasks = {}\n",
    "\n",
    "for company in company_names:\n",
    "\tcompany_tasks[company] = task_df[\n",
    "\t\ttask_df[\"project_id\"] == company\n",
    "\t].index.tolist()\n",
    "\n",
    "# sort the company tasks from C1 to C5\n",
    "company_tasks = dict(sorted(company_tasks.items()))\n",
    "\n",
    "company_tasks_df = pd.DataFrame.from_dict(company_tasks, orient=\"index\")\n",
    "company_tasks_df"
   ]
  },
  {
   "cell_type": "markdown",
   "metadata": {},
   "source": [
    "## 1.4. Pre-Processing: Skill Metric Score Calculation\n",
    "\n",
    "First, create RCD-ACD Dataframe that we get from Task Dataframe for RCD and from Employee Dataframe for ACD.\n",
    "\n",
    "### 1.4.1 Required Competence Data"
   ]
  },
  {
   "cell_type": "code",
   "execution_count": 8,
   "metadata": {},
   "outputs": [
    {
     "data": {
      "text/html": [
       "<div>\n",
       "<style scoped>\n",
       "    .dataframe tbody tr th:only-of-type {\n",
       "        vertical-align: middle;\n",
       "    }\n",
       "\n",
       "    .dataframe tbody tr th {\n",
       "        vertical-align: top;\n",
       "    }\n",
       "\n",
       "    .dataframe thead th {\n",
       "        text-align: right;\n",
       "    }\n",
       "</style>\n",
       "<table border=\"1\" class=\"dataframe\">\n",
       "  <thead>\n",
       "    <tr style=\"text-align: right;\">\n",
       "      <th></th>\n",
       "      <th>math</th>\n",
       "      <th>python</th>\n",
       "      <th>sql</th>\n",
       "      <th>cloud</th>\n",
       "      <th>database</th>\n",
       "      <th>optimization</th>\n",
       "    </tr>\n",
       "    <tr>\n",
       "      <th>task_id</th>\n",
       "      <th></th>\n",
       "      <th></th>\n",
       "      <th></th>\n",
       "      <th></th>\n",
       "      <th></th>\n",
       "      <th></th>\n",
       "    </tr>\n",
       "  </thead>\n",
       "  <tbody>\n",
       "    <tr>\n",
       "      <th>T1</th>\n",
       "      <td>0</td>\n",
       "      <td>5</td>\n",
       "      <td>3</td>\n",
       "      <td>4</td>\n",
       "      <td>4</td>\n",
       "      <td>0</td>\n",
       "    </tr>\n",
       "    <tr>\n",
       "      <th>T2</th>\n",
       "      <td>3</td>\n",
       "      <td>5</td>\n",
       "      <td>4</td>\n",
       "      <td>5</td>\n",
       "      <td>3</td>\n",
       "      <td>1</td>\n",
       "    </tr>\n",
       "    <tr>\n",
       "      <th>T3</th>\n",
       "      <td>5</td>\n",
       "      <td>4</td>\n",
       "      <td>2</td>\n",
       "      <td>0</td>\n",
       "      <td>0</td>\n",
       "      <td>5</td>\n",
       "    </tr>\n",
       "    <tr>\n",
       "      <th>T4</th>\n",
       "      <td>2</td>\n",
       "      <td>4</td>\n",
       "      <td>0</td>\n",
       "      <td>3</td>\n",
       "      <td>0</td>\n",
       "      <td>4</td>\n",
       "    </tr>\n",
       "    <tr>\n",
       "      <th>T5</th>\n",
       "      <td>0</td>\n",
       "      <td>3</td>\n",
       "      <td>5</td>\n",
       "      <td>1</td>\n",
       "      <td>5</td>\n",
       "      <td>0</td>\n",
       "    </tr>\n",
       "    <tr>\n",
       "      <th>T6</th>\n",
       "      <td>0</td>\n",
       "      <td>1</td>\n",
       "      <td>4</td>\n",
       "      <td>5</td>\n",
       "      <td>5</td>\n",
       "      <td>0</td>\n",
       "    </tr>\n",
       "    <tr>\n",
       "      <th>T7</th>\n",
       "      <td>4</td>\n",
       "      <td>4</td>\n",
       "      <td>1</td>\n",
       "      <td>1</td>\n",
       "      <td>2</td>\n",
       "      <td>3</td>\n",
       "    </tr>\n",
       "    <tr>\n",
       "      <th>T8</th>\n",
       "      <td>1</td>\n",
       "      <td>0</td>\n",
       "      <td>5</td>\n",
       "      <td>5</td>\n",
       "      <td>3</td>\n",
       "      <td>0</td>\n",
       "    </tr>\n",
       "    <tr>\n",
       "      <th>T9</th>\n",
       "      <td>3</td>\n",
       "      <td>4</td>\n",
       "      <td>3</td>\n",
       "      <td>0</td>\n",
       "      <td>0</td>\n",
       "      <td>2</td>\n",
       "    </tr>\n",
       "    <tr>\n",
       "      <th>T10</th>\n",
       "      <td>5</td>\n",
       "      <td>5</td>\n",
       "      <td>0</td>\n",
       "      <td>0</td>\n",
       "      <td>0</td>\n",
       "      <td>5</td>\n",
       "    </tr>\n",
       "  </tbody>\n",
       "</table>\n",
       "</div>"
      ],
      "text/plain": [
       "         math  python  sql  cloud  database  optimization\n",
       "task_id                                                  \n",
       "T1          0       5    3      4         4             0\n",
       "T2          3       5    4      5         3             1\n",
       "T3          5       4    2      0         0             5\n",
       "T4          2       4    0      3         0             4\n",
       "T5          0       3    5      1         5             0\n",
       "T6          0       1    4      5         5             0\n",
       "T7          4       4    1      1         2             3\n",
       "T8          1       0    5      5         3             0\n",
       "T9          3       4    3      0         0             2\n",
       "T10         5       5    0      0         0             5"
      ]
     },
     "execution_count": 8,
     "metadata": {},
     "output_type": "execute_result"
    }
   ],
   "source": [
    "rcd_df = task_df.drop(columns=[\"project_id\", \"story_points\"])\n",
    "rcd_df = rcd_df.fillna(0)\n",
    "rcd_df"
   ]
  },
  {
   "cell_type": "markdown",
   "metadata": {},
   "source": [
    "### 1.4.2 Acquired Competence Data\n"
   ]
  },
  {
   "cell_type": "code",
   "execution_count": 9,
   "metadata": {},
   "outputs": [
    {
     "data": {
      "text/html": [
       "<div>\n",
       "<style scoped>\n",
       "    .dataframe tbody tr th:only-of-type {\n",
       "        vertical-align: middle;\n",
       "    }\n",
       "\n",
       "    .dataframe tbody tr th {\n",
       "        vertical-align: top;\n",
       "    }\n",
       "\n",
       "    .dataframe thead th {\n",
       "        text-align: right;\n",
       "    }\n",
       "</style>\n",
       "<table border=\"1\" class=\"dataframe\">\n",
       "  <thead>\n",
       "    <tr style=\"text-align: right;\">\n",
       "      <th></th>\n",
       "      <th>math</th>\n",
       "      <th>python</th>\n",
       "      <th>sql</th>\n",
       "      <th>cloud</th>\n",
       "      <th>database</th>\n",
       "      <th>optimization</th>\n",
       "    </tr>\n",
       "    <tr>\n",
       "      <th>employee_id</th>\n",
       "      <th></th>\n",
       "      <th></th>\n",
       "      <th></th>\n",
       "      <th></th>\n",
       "      <th></th>\n",
       "      <th></th>\n",
       "    </tr>\n",
       "  </thead>\n",
       "  <tbody>\n",
       "    <tr>\n",
       "      <th>Talent 1</th>\n",
       "      <td>5</td>\n",
       "      <td>5</td>\n",
       "      <td>3</td>\n",
       "      <td>2</td>\n",
       "      <td>2</td>\n",
       "      <td>5</td>\n",
       "    </tr>\n",
       "    <tr>\n",
       "      <th>Talent 2</th>\n",
       "      <td>2</td>\n",
       "      <td>5</td>\n",
       "      <td>4</td>\n",
       "      <td>3</td>\n",
       "      <td>3</td>\n",
       "      <td>1</td>\n",
       "    </tr>\n",
       "    <tr>\n",
       "      <th>Talent 3</th>\n",
       "      <td>4</td>\n",
       "      <td>4</td>\n",
       "      <td>5</td>\n",
       "      <td>3</td>\n",
       "      <td>4</td>\n",
       "      <td>3</td>\n",
       "    </tr>\n",
       "    <tr>\n",
       "      <th>Talent 4</th>\n",
       "      <td>3</td>\n",
       "      <td>4</td>\n",
       "      <td>5</td>\n",
       "      <td>5</td>\n",
       "      <td>4</td>\n",
       "      <td>2</td>\n",
       "    </tr>\n",
       "    <tr>\n",
       "      <th>Talent 5</th>\n",
       "      <td>2</td>\n",
       "      <td>3</td>\n",
       "      <td>2</td>\n",
       "      <td>4</td>\n",
       "      <td>5</td>\n",
       "      <td>1</td>\n",
       "    </tr>\n",
       "  </tbody>\n",
       "</table>\n",
       "</div>"
      ],
      "text/plain": [
       "             math  python  sql  cloud  database  optimization\n",
       "employee_id                                                  \n",
       "Talent 1        5       5    3      2         2             5\n",
       "Talent 2        2       5    4      3         3             1\n",
       "Talent 3        4       4    5      3         4             3\n",
       "Talent 4        3       4    5      5         4             2\n",
       "Talent 5        2       3    2      4         5             1"
      ]
     },
     "execution_count": 9,
     "metadata": {},
     "output_type": "execute_result"
    }
   ],
   "source": [
    "# create a copy of the original DataFrame\n",
    "acd_df = employee_skills_df.copy()\n",
    "acd_df = acd_df.fillna(0)\n",
    "acd_df"
   ]
  },
  {
   "cell_type": "markdown",
   "metadata": {},
   "source": [
    "### 1.4.3 Calculate Skills Metric"
   ]
  },
  {
   "cell_type": "code",
   "execution_count": 10,
   "metadata": {},
   "outputs": [],
   "source": [
    "if overqualification:\t\n",
    "\t# Calculate with Competency Assessment\n",
    "\tca = CompetencyAssessment(rcd_df, acd_df)\n",
    "\tscore, info = ca.fit()\n",
    "else:\n",
    "\t# Calculate with Weighted Euclidean Distance\n",
    "    wed = WeightedEuclideanDistance(acd_df, rcd_df)\n",
    "    score, info = wed.fit()"
   ]
  },
  {
   "cell_type": "code",
   "execution_count": 11,
   "metadata": {},
   "outputs": [
    {
     "data": {
      "text/plain": [
       "{'Talent 1': {'T10': 1.0,\n",
       "  'T3': 0.4641016151377546,\n",
       "  'T4': 0.2910493488228408,\n",
       "  'T7': 0.28989794855663564,\n",
       "  'T9': 0.28544261659540726,\n",
       "  'T1': 0.2612038749637414,\n",
       "  'T5': 0.20168959288722538,\n",
       "  'T2': 0.18933139574356017,\n",
       "  'T8': 0.1852891992413258,\n",
       "  'T6': 0.16855212267069633},\n",
       " 'Talent 2': {'T1': 0.3797958971132712,\n",
       "  'T9': 0.353889367864523,\n",
       "  'T2': 0.3090169943749474,\n",
       "  'T8': 0.2958163163244893,\n",
       "  'T5': 0.25,\n",
       "  'T4': 0.24336073281110826,\n",
       "  'T6': 0.21498516621900873,\n",
       "  'T7': 0.20557658844381702,\n",
       "  'T10': 0.16666666666666666,\n",
       "  'T3': 0.15974667297574377},\n",
       " 'Talent 3': {'T4': 0.36602540378443865,\n",
       "  'T9': 0.353889367864523,\n",
       "  'T5': 0.3430703308172536,\n",
       "  'T1': 0.3333333333333333,\n",
       "  'T10': 0.28989794855663564,\n",
       "  'T8': 0.25805245234583163,\n",
       "  'T3': 0.25428627101618895,\n",
       "  'T2': 0.25,\n",
       "  'T6': 0.24727258247841533,\n",
       "  'T7': 0.24660605559646726},\n",
       " 'Talent 4': {'T9': 0.4142135623730951,\n",
       "  'T8': 0.3797958971132712,\n",
       "  'T2': 0.36602540378443865,\n",
       "  'T1': 0.3430703308172536,\n",
       "  'T6': 0.30349732743932833,\n",
       "  'T4': 0.2791745113185196,\n",
       "  'T5': 0.27429188517743175,\n",
       "  'T10': 0.21089672205953397,\n",
       "  'T7': 0.2070518364164892,\n",
       "  'T3': 0.19707113830081235},\n",
       " 'Talent 5': {'T9': 0.3333333333333333,\n",
       "  'T1': 0.2958163163244893,\n",
       "  'T6': 0.27429188517743175,\n",
       "  'T4': 0.23441237831492112,\n",
       "  'T2': 0.2240092377397959,\n",
       "  'T5': 0.21979723016032493,\n",
       "  'T8': 0.2193450929151803,\n",
       "  'T7': 0.19581332489515024,\n",
       "  'T3': 0.1639607805437114,\n",
       "  'T10': 0.1566130288262323}}"
      ]
     },
     "execution_count": 11,
     "metadata": {},
     "output_type": "execute_result"
    }
   ],
   "source": [
    "score"
   ]
  },
  {
   "cell_type": "markdown",
   "metadata": {},
   "source": [
    "# 2. Construct the Model\n",
    "\n",
    "## 2.1 Get The License of Gurobi\n"
   ]
  },
  {
   "cell_type": "code",
   "execution_count": 12,
   "metadata": {},
   "outputs": [],
   "source": [
    "# get the license file\n",
    "def read_license_file(filepath):\n",
    "    params = {}\n",
    "    with open(filepath, \"r\") as file:\n",
    "        for line in file:\n",
    "            if line.startswith(\"WLSACCESSID\"):\n",
    "                params[\"WLSACCESSID\"] = line.split(\"=\")[1].strip()\n",
    "            elif line.startswith(\"WLSSECRET\"):\n",
    "                params[\"WLSSECRET\"] = line.split(\"=\")[1].strip()\n",
    "            elif line.startswith(\"LICENSEID\"):\n",
    "                params[\"LICENSEID\"] = int(line.split(\"=\")[1].strip())\n",
    "    return params"
   ]
  },
  {
   "cell_type": "markdown",
   "metadata": {},
   "source": [
    "## 2.2. Instance the Model\n"
   ]
  },
  {
   "cell_type": "code",
   "execution_count": 13,
   "metadata": {},
   "outputs": [
    {
     "name": "stdout",
     "output_type": "stream",
     "text": [
      "Set parameter WLSAccessID\n",
      "Set parameter WLSSecret\n",
      "Set parameter LicenseID to value 2521640\n",
      "Academic license 2521640 - for non-commercial use only - registered to na___@mail.ugm.ac.id\n"
     ]
    }
   ],
   "source": [
    "# Create an environment with WLS license\n",
    "env = gp.Env(params=license_params) if license_params else None\n",
    "\n",
    "# Create the model within the Gurobi environment\n",
    "model = Model(name=\"task_assignment\", env=env)"
   ]
  },
  {
   "cell_type": "markdown",
   "metadata": {},
   "source": [
    "## 2.3. Set Tune Parameters\n"
   ]
  },
  {
   "cell_type": "code",
   "execution_count": 14,
   "metadata": {},
   "outputs": [
    {
     "name": "stdout",
     "output_type": "stream",
     "text": [
      "Set parameter Presolve to value 2\n",
      "Set parameter MIPFocus to value 1\n",
      "Set parameter MIPGap to value 0.01\n",
      "Set parameter Heuristics to value 0.8\n",
      "Set parameter Threads to value 2\n"
     ]
    }
   ],
   "source": [
    "# Set Gurobi parameters to improve performance\n",
    "model.setParam(\"Presolve\", presolve)  # Aggressive presolve\n",
    "model.setParam(\"MIPFocus\", MIPFocus)  # Focus on improving the best bound\n",
    "model.setParam(\"MIPGap\", MIPGap)  # 1% optimality gap\n",
    "model.setParam(\"Heuristics\", heuristics)  # Increase heuristics effort\n",
    "model.setParam(\"Threads\", threads)  # Use 8 threads, adjust based on your CPU"
   ]
  },
  {
   "cell_type": "markdown",
   "metadata": {},
   "source": [
    "## 2.4. Create a Callback\n",
    "\n",
    "Create a Callback for get the gap information\n"
   ]
  },
  {
   "cell_type": "code",
   "execution_count": 15,
   "metadata": {},
   "outputs": [],
   "source": [
    "class GapCallback:\n",
    "    \"\"\"\n",
    "    A callback class for monitoring and reporting the optimization gap during the Mixed Integer Programming (MIP) solving process.\n",
    "\n",
    "    Attributes:\n",
    "        reported_gaps (set): A set to keep track of the reported gaps to avoid duplicate notifications.\n",
    "    \"\"\"\n",
    "\n",
    "    def __init__(self) -> None:\n",
    "        \"\"\"\n",
    "        Initializes the GapCallback instance with an empty set for reported gaps.\n",
    "\n",
    "        Example:\n",
    "            callback = GapCallback()\n",
    "        \"\"\"\n",
    "        self.reported_gaps = set()\n",
    "\n",
    "    def __call__(self, model: Model, where: int) -> None:\n",
    "        \"\"\"\n",
    "        The callback function that gets called during the MIP solving process. It monitors the optimization gap and sends notifications when certain conditions are met.\n",
    "\n",
    "        Args:\n",
    "            model (gurobipy.Model): The optimization model being solved.\n",
    "            where (int): An integer code indicating the point in the solving process when the callback is called.\n",
    "\n",
    "        Example:\n",
    "            model = Model()\n",
    "            callback = GapCallback()\n",
    "            model.optimize(callback)\n",
    "        \"\"\"\n",
    "        if where == GRB.Callback.MIP:\n",
    "            nodecount = model.cbGet(GRB.Callback.MIP_NODCNT)\n",
    "            if (\n",
    "                nodecount % 100 == 0\n",
    "            ):  # Adjust the frequency of the callback call if needed\n",
    "                obj_best = model.cbGet(GRB.Callback.MIP_OBJBST)\n",
    "                obj_bound = model.cbGet(GRB.Callback.MIP_OBJBND)\n",
    "                if obj_best < GRB.INFINITY and obj_bound > -GRB.INFINITY:\n",
    "                    gap = abs((obj_bound - obj_best) / obj_best) * 100\n",
    "                    percentage_gap = gap\n",
    "\n",
    "                    # Report gap for multiples of 5\n",
    "                    if percentage_gap > 10 and int(percentage_gap) % 5 == 0:\n",
    "                        if int(percentage_gap) not in self.reported_gaps:\n",
    "                            print(f\"Model reached {int(percentage_gap)}% gap.\")\n",
    "                            self.reported_gaps.add(int(percentage_gap))\n",
    "\n",
    "                    # Report gap for each integer when gap <= 10\n",
    "                    elif percentage_gap <= 10:\n",
    "                        if int(percentage_gap) not in self.reported_gaps:\n",
    "                            print(f\"Model reached {percentage_gap}% gap.\")\n",
    "                            self.reported_gaps.add(int(percentage_gap))"
   ]
  },
  {
   "cell_type": "markdown",
   "metadata": {},
   "source": [
    "# 3. Build the Decision Variable\n",
    "\n",
    "We have 3 sets:\n",
    "\n",
    "$$\n",
    "\\text{sets} = \\begin{cases}\n",
    "I &: \\text{set of tasks} \\\\\n",
    "J &: \\text{set of employees} \\\\\n",
    "K &: \\text{set of projects}\n",
    "\\end{cases}\n",
    "$$\n",
    "\n",
    "Next, we define parameters, scalars, and data structures. Let:\n",
    "\n",
    "$$\n",
    "\\begin{align*}\n",
    "i & = \\text{task } i \\\\\n",
    "j & = \\text{employee } j \\\\\n",
    "k & = \\text{project } k \\\\\n",
    "s_i & = \\text{story points of task } i \\\\\n",
    "e_{ij} & = \\text{similarity skills of employee } j \\text{ for task } i \\\\\n",
    "\\mu_{Z_n} & = \\text{Objective} n {Function}\\\\\n",
    "\\mu_{Z_n^{\\ast}} & = \\text{Goal of each Objective Function} \\\\\n",
    "d_{n}^+ & = \\text{Overachievement of each objective} \\\\\n",
    "d_{n}^- & = \\text{Underachievement of each objective} \\\\\n",
    "W & = \\text{Weight priority of each objective}\n",
    "\\end{align*}\n",
    "$$\n",
    "\n",
    "**Decision Variables:**\n",
    "\n",
    "$$\n",
    "\\begin{align*}\n",
    "x_{ijk} & = \\text{Binary variable indicate the employee } j \\text{ is assigned to task } i \\text{ in project } k \\\\\n",
    "y_{jk} & = \\text{Binary variable indicate the employee } j \\text{ is assigned to project } k \\\\\n",
    "z_{ij} & = \\text{Binary variable indicate the task } i \\text{ is assigned to employee } j \\\\\n",
    "max\\_workload & = \\text{Integer variable indicate the maximum workload that can be assigned}\n",
    "\\end{align*}\n",
    "$$\n"
   ]
  },
  {
   "cell_type": "code",
   "execution_count": 16,
   "metadata": {},
   "outputs": [],
   "source": [
    "# Create decision variables for x and y\n",
    "\n",
    "# Decision variable x to represent employee j is assigned to task i in project k\n",
    "x = {}\n",
    "for k, task in company_tasks.items():\n",
    "    for i in task:\n",
    "        for j in employees:\n",
    "            x[(i, j, k)] = model.addVar(vtype=GRB.BINARY, name=f\"x_{i}_{j}_{k}\")\n",
    "\n",
    "# Decision variable y to represent employee j is assigned to project k\n",
    "y = {}\n",
    "for j in employees:\n",
    "    for k in company_tasks.keys():\n",
    "        y[(j, k)] = model.addVar(vtype=GRB.BINARY, name=f\"y_{j}_{k}\")\n",
    "\n",
    "# Decision variable z to represent task i is assigned to employee j\n",
    "z = {}\n",
    "for i in tasks:\n",
    "    for j in employees:\n",
    "        z[(i, j)] = model.addVar(vtype=GRB.BINARY, name=f\"z_{i}_{j}\")\n",
    "\n",
    "# Decision variable for max workload that can be assigned\n",
    "max_workload = model.addVar(\n",
    "    vtype=GRB.INTEGER, lb=0, ub=max_employee_workload, name=\"max_workload\"\n",
    ")\n",
    "\n",
    "# Integrate new variables\n",
    "model.update()"
   ]
  },
  {
   "cell_type": "code",
   "execution_count": 17,
   "metadata": {},
   "outputs": [
    {
     "name": "stdout",
     "output_type": "stream",
     "text": [
      "{('T2', 'Talent 1', 'P1'): <gurobi.Var x_T2_Talent 1_P1>, ('T2', 'Talent 2', 'P1'): <gurobi.Var x_T2_Talent 2_P1>, ('T2', 'Talent 3', 'P1'): <gurobi.Var x_T2_Talent 3_P1>, ('T2', 'Talent 4', 'P1'): <gurobi.Var x_T2_Talent 4_P1>, ('T2', 'Talent 5', 'P1'): <gurobi.Var x_T2_Talent 5_P1>, ('T6', 'Talent 1', 'P1'): <gurobi.Var x_T6_Talent 1_P1>, ('T6', 'Talent 2', 'P1'): <gurobi.Var x_T6_Talent 2_P1>, ('T6', 'Talent 3', 'P1'): <gurobi.Var x_T6_Talent 3_P1>, ('T6', 'Talent 4', 'P1'): <gurobi.Var x_T6_Talent 4_P1>, ('T6', 'Talent 5', 'P1'): <gurobi.Var x_T6_Talent 5_P1>, ('T8', 'Talent 1', 'P1'): <gurobi.Var x_T8_Talent 1_P1>, ('T8', 'Talent 2', 'P1'): <gurobi.Var x_T8_Talent 2_P1>, ('T8', 'Talent 3', 'P1'): <gurobi.Var x_T8_Talent 3_P1>, ('T8', 'Talent 4', 'P1'): <gurobi.Var x_T8_Talent 4_P1>, ('T8', 'Talent 5', 'P1'): <gurobi.Var x_T8_Talent 5_P1>, ('T10', 'Talent 1', 'P1'): <gurobi.Var x_T10_Talent 1_P1>, ('T10', 'Talent 2', 'P1'): <gurobi.Var x_T10_Talent 2_P1>, ('T10', 'Talent 3', 'P1'): <gurobi.Var x_T10_Talent 3_P1>, ('T10', 'Talent 4', 'P1'): <gurobi.Var x_T10_Talent 4_P1>, ('T10', 'Talent 5', 'P1'): <gurobi.Var x_T10_Talent 5_P1>, ('T1', 'Talent 1', 'P2'): <gurobi.Var x_T1_Talent 1_P2>, ('T1', 'Talent 2', 'P2'): <gurobi.Var x_T1_Talent 2_P2>, ('T1', 'Talent 3', 'P2'): <gurobi.Var x_T1_Talent 3_P2>, ('T1', 'Talent 4', 'P2'): <gurobi.Var x_T1_Talent 4_P2>, ('T1', 'Talent 5', 'P2'): <gurobi.Var x_T1_Talent 5_P2>, ('T3', 'Talent 1', 'P2'): <gurobi.Var x_T3_Talent 1_P2>, ('T3', 'Talent 2', 'P2'): <gurobi.Var x_T3_Talent 2_P2>, ('T3', 'Talent 3', 'P2'): <gurobi.Var x_T3_Talent 3_P2>, ('T3', 'Talent 4', 'P2'): <gurobi.Var x_T3_Talent 4_P2>, ('T3', 'Talent 5', 'P2'): <gurobi.Var x_T3_Talent 5_P2>, ('T9', 'Talent 1', 'P2'): <gurobi.Var x_T9_Talent 1_P2>, ('T9', 'Talent 2', 'P2'): <gurobi.Var x_T9_Talent 2_P2>, ('T9', 'Talent 3', 'P2'): <gurobi.Var x_T9_Talent 3_P2>, ('T9', 'Talent 4', 'P2'): <gurobi.Var x_T9_Talent 4_P2>, ('T9', 'Talent 5', 'P2'): <gurobi.Var x_T9_Talent 5_P2>, ('T4', 'Talent 1', 'P3'): <gurobi.Var x_T4_Talent 1_P3>, ('T4', 'Talent 2', 'P3'): <gurobi.Var x_T4_Talent 2_P3>, ('T4', 'Talent 3', 'P3'): <gurobi.Var x_T4_Talent 3_P3>, ('T4', 'Talent 4', 'P3'): <gurobi.Var x_T4_Talent 4_P3>, ('T4', 'Talent 5', 'P3'): <gurobi.Var x_T4_Talent 5_P3>, ('T5', 'Talent 1', 'P3'): <gurobi.Var x_T5_Talent 1_P3>, ('T5', 'Talent 2', 'P3'): <gurobi.Var x_T5_Talent 2_P3>, ('T5', 'Talent 3', 'P3'): <gurobi.Var x_T5_Talent 3_P3>, ('T5', 'Talent 4', 'P3'): <gurobi.Var x_T5_Talent 4_P3>, ('T5', 'Talent 5', 'P3'): <gurobi.Var x_T5_Talent 5_P3>, ('T7', 'Talent 1', 'P3'): <gurobi.Var x_T7_Talent 1_P3>, ('T7', 'Talent 2', 'P3'): <gurobi.Var x_T7_Talent 2_P3>, ('T7', 'Talent 3', 'P3'): <gurobi.Var x_T7_Talent 3_P3>, ('T7', 'Talent 4', 'P3'): <gurobi.Var x_T7_Talent 4_P3>, ('T7', 'Talent 5', 'P3'): <gurobi.Var x_T7_Talent 5_P3>}\n",
      "{('Talent 1', 'P1'): <gurobi.Var y_Talent 1_P1>, ('Talent 1', 'P2'): <gurobi.Var y_Talent 1_P2>, ('Talent 1', 'P3'): <gurobi.Var y_Talent 1_P3>, ('Talent 2', 'P1'): <gurobi.Var y_Talent 2_P1>, ('Talent 2', 'P2'): <gurobi.Var y_Talent 2_P2>, ('Talent 2', 'P3'): <gurobi.Var y_Talent 2_P3>, ('Talent 3', 'P1'): <gurobi.Var y_Talent 3_P1>, ('Talent 3', 'P2'): <gurobi.Var y_Talent 3_P2>, ('Talent 3', 'P3'): <gurobi.Var y_Talent 3_P3>, ('Talent 4', 'P1'): <gurobi.Var y_Talent 4_P1>, ('Talent 4', 'P2'): <gurobi.Var y_Talent 4_P2>, ('Talent 4', 'P3'): <gurobi.Var y_Talent 4_P3>, ('Talent 5', 'P1'): <gurobi.Var y_Talent 5_P1>, ('Talent 5', 'P2'): <gurobi.Var y_Talent 5_P2>, ('Talent 5', 'P3'): <gurobi.Var y_Talent 5_P3>}\n"
     ]
    }
   ],
   "source": [
    "# print he decision variables\n",
    "print(x)\n",
    "print(y)"
   ]
  },
  {
   "cell_type": "markdown",
   "metadata": {},
   "source": [
    "# 4. Subject to the Constraint\n",
    "\n",
    "## 4.1. Constraint 1: Each task is assigned to one employee\n",
    "\n",
    "$$\n",
    "\\sum _{j\\in J}\\:x_{ijk}\\:=\\:1 \\quad \\forall i \\in I_k, \\: k \\in K\n",
    "$$\n"
   ]
  },
  {
   "cell_type": "code",
   "execution_count": 18,
   "metadata": {},
   "outputs": [],
   "source": [
    "# constraint 1: each task assigned to one talent\n",
    "for k, task in company_tasks.items():\n",
    "    for i in task:\n",
    "        model.addConstr(quicksum(x[(i, j, k)] for j in employees) == 1)"
   ]
  },
  {
   "cell_type": "markdown",
   "metadata": {},
   "source": [
    "## 4.2. Constraint 2: Each employee works for one company at a time\n",
    "\n",
    "Pre-Processing for Constraint 2:\n",
    "\n",
    "$$\n",
    "\\sum _{i\\in I_k}x_{ijk} > 0 \\: \\rightarrow \\: y_{jk}=1 \\quad \\forall j\\in J, \\: k\\in K\\:\n",
    "$$\n"
   ]
  },
  {
   "cell_type": "code",
   "execution_count": 19,
   "metadata": {},
   "outputs": [],
   "source": [
    "# pre-processing constraint 2\n",
    "for j in employees:\n",
    "    for k, task in company_tasks.items():\n",
    "        # Use quicksum to sum up x[i][j][k] for all i\n",
    "        temp_sum = quicksum(x[i, j, k] for i in task)\n",
    "\n",
    "        # Add a constraint to the model: y[j][k] is 1 if the sum of x[i][j][k] for all i is > 0, and 0 otherwise\n",
    "        model.addGenConstrIndicator(y[j, k], True, temp_sum, GRB.GREATER_EQUAL, 1)\n",
    "        model.addGenConstrIndicator(y[j, k], False, temp_sum, GRB.LESS_EQUAL, 0)"
   ]
  },
  {
   "cell_type": "markdown",
   "metadata": {},
   "source": [
    "Main Constraint:\n",
    "\n",
    "$$\n",
    "\\sum _{k\\in K}y_{jk}\\le 1 \\quad \\forall j\\in J\n",
    "$$\n"
   ]
  },
  {
   "cell_type": "code",
   "execution_count": 20,
   "metadata": {},
   "outputs": [],
   "source": [
    "# create constraint 2: each employee can only work on one task\n",
    "for j in employees:\n",
    "    # The sum of y[j][k] for all companies (k) should be <= 1\n",
    "    model.addConstr(quicksum(y[(j, k)] for k in company_tasks.keys()) <= 1)"
   ]
  },
  {
   "cell_type": "markdown",
   "metadata": {},
   "source": [
    "## 4.3. Constraint 3: Employee workload doesn't exceed the capacity\n",
    "\n",
    "Balance the workload, so the capacity of each employee is the sum of their story points, which is story points20.\n",
    "\n",
    "$$\n",
    "\\sum _{i \\in I_k} s_i \\cdot x_{ijk} \\le max\\_employee\\_workload \\quad \\forall j\\in J, \\: k\\in K\n",
    "$$\n"
   ]
  },
  {
   "cell_type": "code",
   "execution_count": 21,
   "metadata": {},
   "outputs": [],
   "source": [
    "# constraint 3: employee workload should not exceed the maximum workload\n",
    "for j in employees:\n",
    "    for k, tasks in company_tasks.items():\n",
    "        model.addConstr(\n",
    "            quicksum(story_points[i] * x[(i, j, k)] for i in tasks)\n",
    "            <= max_employee_workload\n",
    "        )"
   ]
  },
  {
   "cell_type": "markdown",
   "metadata": {},
   "source": [
    "## 4.4. Constraint 4: To achieve the balance workload, set the maximum workload to be greater than or equal to the workload for each employee\n",
    "\n",
    "$$\n",
    "\\text{max\\_workload} \\ge \\sum_{i \\in I_k} \\sum_{k \\in K} s_i\\cdot x_{ijk}, \\quad \\forall j\\in J\\:\\:\n",
    "$$\n"
   ]
  },
  {
   "cell_type": "code",
   "execution_count": 22,
   "metadata": {},
   "outputs": [],
   "source": [
    "# constraint 4: max_workload is greater than or equal to the workload of each employee\n",
    "for j in employees:\n",
    "    model.addConstr(\n",
    "        max_workload\n",
    "        >= quicksum(\n",
    "            story_points[i] * x[i, j, k]\n",
    "            for k, tasks in company_tasks.items()\n",
    "            for i in tasks\n",
    "        )\n",
    "    )"
   ]
  },
  {
   "cell_type": "markdown",
   "metadata": {},
   "source": [
    "## 4.5. Constraint 5: Implication Constraint for Minimizing Iterations: Ensure Valid Task Assignment and Employee Availability Across Companies\n",
    "\n",
    "$$\n",
    "x_{ijk}=1\\:\\rightarrow \\:y_{jk}=1\\:\\rightarrow \\:z_{ij}=1  \\quad \\forall i \\in I_k, \\: j \\in J, \\: k \\in K\n",
    "$$\n"
   ]
  },
  {
   "cell_type": "code",
   "execution_count": 23,
   "metadata": {},
   "outputs": [],
   "source": [
    "# pre-processing for contraint 5 to ensure that the value of z is <= 1\n",
    "for i in tasks:\n",
    "    model.addConstr(quicksum(z[(i, j)] for j in employees) <= 1)"
   ]
  },
  {
   "cell_type": "code",
   "execution_count": 24,
   "metadata": {},
   "outputs": [],
   "source": [
    "# constraint 5: if employee j is assigned to project k, then z[i, j] and x[i, j, k] is 1\n",
    "for k, tasks in company_tasks.items():\n",
    "    for i in tasks:\n",
    "        for j in employees:\n",
    "            model.addGenConstrIndicator(x[i, j, k], True, z[i, j], GRB.EQUAL, 1)\n",
    "            model.addGenConstrIndicator(z[i, j], True, y[j, k], GRB.EQUAL, 1)"
   ]
  },
  {
   "cell_type": "markdown",
   "metadata": {},
   "source": [
    "# 5. Single Objective Approach: 1) Minimize The Idle Employee\n",
    "\n",
    "## 5.1. Set The Objective Model\n",
    "\n",
    "$$\n",
    "\\mu _{Z_1} = min.\\:\\sum _{j\\in \\:J}\\:\\left(1\\:-\\:\\sum _{k\\in \\:K}\\:y_{jk}\\right) \\quad \\tag{1}\n",
    "$$\n"
   ]
  },
  {
   "cell_type": "code",
   "execution_count": 25,
   "metadata": {},
   "outputs": [],
   "source": [
    "# objective 1\n",
    "idle = []\n",
    "\n",
    "for j in employees:\n",
    "    idle.append(1 - quicksum(y[j, k] for k in company_tasks.keys()))\n",
    "\n",
    "mu_Z_1 = quicksum(idle)\n",
    "\n",
    "# single objective 1\n",
    "model.setObjective(mu_Z_1, GRB.MINIMIZE)"
   ]
  },
  {
   "cell_type": "markdown",
   "metadata": {},
   "source": [
    "## 5.2. Solve The Model of Objective $(1)$\n"
   ]
  },
  {
   "cell_type": "code",
   "execution_count": 26,
   "metadata": {},
   "outputs": [
    {
     "name": "stdout",
     "output_type": "stream",
     "text": [
      "Gurobi Optimizer version 11.0.2 build v11.0.2rc0 (linux64 - \"Ubuntu 20.04.6 LTS\")\n",
      "\n",
      "CPU model: AMD EPYC 7763 64-Core Processor, instruction set [SSE2|AVX|AVX2]\n",
      "Thread count: 2 physical cores, 4 logical processors, using up to 2 threads\n",
      "\n",
      "Academic license 2521640 - for non-commercial use only - registered to na___@mail.ugm.ac.id\n",
      "Optimize a model with 38 rows, 116 columns and 185 nonzeros\n",
      "Model fingerprint: 0x4ed118a1\n",
      "Model has 130 general constraints\n",
      "Variable types: 0 continuous, 116 integer (115 binary)\n",
      "Coefficient statistics:\n",
      "  Matrix range     [1e+00, 5e+00]\n",
      "  Objective range  [1e+00, 1e+00]\n",
      "  Bounds range     [1e+00, 1e+01]\n",
      "  RHS range        [1e+00, 1e+01]\n",
      "  GenCon rhs range [1e+00, 1e+00]\n",
      "  GenCon coe range [1e+00, 1e+00]\n",
      "Presolve added 47 rows and 0 columns\n",
      "Presolve removed 0 rows and 51 columns\n",
      "Presolve time: 0.00s\n",
      "Presolved: 85 rows, 65 columns, 295 nonzeros\n",
      "Variable types: 0 continuous, 65 integer (65 binary)\n",
      "Found heuristic solution: objective 0.0000000\n",
      "Root relaxation presolved: 85 rows, 65 columns, 295 nonzeros\n",
      "\n",
      "\n",
      "Root relaxation: cutoff, 0 iterations, 0.00 seconds (0.00 work units)\n",
      "\n",
      "Explored 1 nodes (0 simplex iterations) in 0.02 seconds (0.00 work units)\n",
      "Thread count was 2 (of 4 available processors)\n",
      "\n",
      "Solution count 1: 0 \n",
      "\n",
      "Optimal solution found (tolerance 1.00e-02)\n",
      "Best objective 0.000000000000e+00, best bound 0.000000000000e+00, gap 0.0000%\n"
     ]
    }
   ],
   "source": [
    "# solve the model\n",
    "model.optimize()"
   ]
  },
  {
   "cell_type": "markdown",
   "metadata": {},
   "source": [
    "#### Generic Function\n"
   ]
  },
  {
   "cell_type": "code",
   "execution_count": 27,
   "metadata": {},
   "outputs": [],
   "source": [
    "mu_Z_star = {i: 0.00 for i in range(1, 4)}\n",
    "\n",
    "\n",
    "# Extracting and printing the results\n",
    "def get_employee_tasks(\n",
    "    j, company_tasks, model, score, story_points, max_employee_workload\n",
    "):\n",
    "    task = []\n",
    "    sim = []\n",
    "    comp = []\n",
    "    sp = 0\n",
    "\n",
    "    for k, tasks in company_tasks.items():\n",
    "        for i in tasks:\n",
    "            if x[i, j, k].X == 1:\n",
    "                print(f\"Task {i} assigned to Employee {j}\")\n",
    "                print(f\"Company\\t\\t\\t: {k}\")\n",
    "                print(f\"Story Points\\t\\t: {story_points[i]}\")\n",
    "                print(f\"Metrics score\\t: {score[j][i]:.10f}\\n\")\n",
    "\n",
    "                task.append(i)\n",
    "                sim.append(score[j][i])\n",
    "                comp.append(k)\n",
    "                sp += story_points[i]\n",
    "\n",
    "    wasted_sp = max_employee_workload - sp if sp > 0 else 0\n",
    "    return comp, task, sp, wasted_sp, sim"
   ]
  },
  {
   "cell_type": "markdown",
   "metadata": {},
   "source": [
    "### 5.2.1 Print The Solver Results\n"
   ]
  },
  {
   "cell_type": "code",
   "execution_count": 28,
   "metadata": {},
   "outputs": [
    {
     "name": "stdout",
     "output_type": "stream",
     "text": [
      "Solution Found!\n",
      "Obj. Value 1 i.e. Total Idle Employees: 0.0\n",
      "\n",
      "Task T1 assigned to Employee Talent 1\n",
      "Company\t\t\t: P2\n",
      "Story Points\t\t: 1\n",
      "Metrics score\t: 0.2612038750\n",
      "\n",
      "Task T3 assigned to Employee Talent 1\n",
      "Company\t\t\t: P2\n",
      "Story Points\t\t: 3\n",
      "Metrics score\t: 0.4641016151\n",
      "\n",
      "Task T9 assigned to Employee Talent 1\n",
      "Company\t\t\t: P2\n",
      "Story Points\t\t: 1\n",
      "Metrics score\t: 0.2854426166\n",
      "\n",
      "Task T2 assigned to Employee Talent 2\n",
      "Company\t\t\t: P1\n",
      "Story Points\t\t: 2\n",
      "Metrics score\t: 0.3090169944\n",
      "\n",
      "Task T4 assigned to Employee Talent 3\n",
      "Company\t\t\t: P3\n",
      "Story Points\t\t: 5\n",
      "Metrics score\t: 0.3660254038\n",
      "\n",
      "Task T5 assigned to Employee Talent 3\n",
      "Company\t\t\t: P3\n",
      "Story Points\t\t: 1\n",
      "Metrics score\t: 0.3430703308\n",
      "\n",
      "Task T7 assigned to Employee Talent 3\n",
      "Company\t\t\t: P3\n",
      "Story Points\t\t: 2\n",
      "Metrics score\t: 0.2466060556\n",
      "\n",
      "Task T10 assigned to Employee Talent 4\n",
      "Company\t\t\t: P1\n",
      "Story Points\t\t: 3\n",
      "Metrics score\t: 0.2108967221\n",
      "\n",
      "Task T6 assigned to Employee Talent 5\n",
      "Company\t\t\t: P1\n",
      "Story Points\t\t: 1\n",
      "Metrics score\t: 0.2742918852\n",
      "\n",
      "Task T8 assigned to Employee Talent 5\n",
      "Company\t\t\t: P1\n",
      "Story Points\t\t: 3\n",
      "Metrics score\t: 0.2193450929\n",
      "\n"
     ]
    }
   ],
   "source": [
    "# Check and process the solution\n",
    "if model.status == GRB.OPTIMAL:\n",
    "    print(\"Solution Found!\")\n",
    "    print(f\"Obj. Value 1 i.e. Total Idle Employees: {model.ObjVal}\\n\")\n",
    "    mu_Z_star[1] = model.ObjVal\n",
    "\n",
    "    x_hat_1 = {}\n",
    "    for j in employees:\n",
    "        result = get_employee_tasks(\n",
    "            j, company_tasks, model, score, story_points, max_employee_workload\n",
    "        )\n",
    "        if len(result[1]) > 0:\n",
    "            x_hat_1[j] = result\n",
    "else:\n",
    "    print(\"No Solution Found!\")\n",
    "    x_hat_1 = {}"
   ]
  },
  {
   "cell_type": "markdown",
   "metadata": {},
   "source": [
    "## 5.3. Show the Solver's Result\n"
   ]
  },
  {
   "cell_type": "code",
   "execution_count": 29,
   "metadata": {},
   "outputs": [
    {
     "data": {
      "text/html": [
       "<div>\n",
       "<style scoped>\n",
       "    .dataframe tbody tr th:only-of-type {\n",
       "        vertical-align: middle;\n",
       "    }\n",
       "\n",
       "    .dataframe tbody tr th {\n",
       "        vertical-align: top;\n",
       "    }\n",
       "\n",
       "    .dataframe thead th {\n",
       "        text-align: right;\n",
       "    }\n",
       "</style>\n",
       "<table border=\"1\" class=\"dataframe\">\n",
       "  <thead>\n",
       "    <tr style=\"text-align: right;\">\n",
       "      <th></th>\n",
       "      <th>company</th>\n",
       "      <th>assigned_task</th>\n",
       "      <th>sum_sp</th>\n",
       "      <th>wasted_sp</th>\n",
       "      <th>assessment_score</th>\n",
       "    </tr>\n",
       "    <tr>\n",
       "      <th>employee</th>\n",
       "      <th></th>\n",
       "      <th></th>\n",
       "      <th></th>\n",
       "      <th></th>\n",
       "      <th></th>\n",
       "    </tr>\n",
       "  </thead>\n",
       "  <tbody>\n",
       "    <tr>\n",
       "      <th>Talent 1</th>\n",
       "      <td>[P2, P2, P2]</td>\n",
       "      <td>[T1, T3, T9]</td>\n",
       "      <td>5</td>\n",
       "      <td>5</td>\n",
       "      <td>[0.2612038749637414, 0.4641016151377546, 0.285...</td>\n",
       "    </tr>\n",
       "    <tr>\n",
       "      <th>Talent 2</th>\n",
       "      <td>[P1]</td>\n",
       "      <td>[T2]</td>\n",
       "      <td>2</td>\n",
       "      <td>8</td>\n",
       "      <td>[0.3090169943749474]</td>\n",
       "    </tr>\n",
       "    <tr>\n",
       "      <th>Talent 3</th>\n",
       "      <td>[P3, P3, P3]</td>\n",
       "      <td>[T4, T5, T7]</td>\n",
       "      <td>8</td>\n",
       "      <td>2</td>\n",
       "      <td>[0.36602540378443865, 0.3430703308172536, 0.24...</td>\n",
       "    </tr>\n",
       "    <tr>\n",
       "      <th>Talent 4</th>\n",
       "      <td>[P1]</td>\n",
       "      <td>[T10]</td>\n",
       "      <td>3</td>\n",
       "      <td>7</td>\n",
       "      <td>[0.21089672205953397]</td>\n",
       "    </tr>\n",
       "    <tr>\n",
       "      <th>Talent 5</th>\n",
       "      <td>[P1, P1]</td>\n",
       "      <td>[T6, T8]</td>\n",
       "      <td>4</td>\n",
       "      <td>6</td>\n",
       "      <td>[0.27429188517743175, 0.2193450929151803]</td>\n",
       "    </tr>\n",
       "  </tbody>\n",
       "</table>\n",
       "</div>"
      ],
      "text/plain": [
       "               company assigned_task  sum_sp  wasted_sp  \\\n",
       "employee                                                  \n",
       "Talent 1  [P2, P2, P2]  [T1, T3, T9]       5          5   \n",
       "Talent 2          [P1]          [T2]       2          8   \n",
       "Talent 3  [P3, P3, P3]  [T4, T5, T7]       8          2   \n",
       "Talent 4          [P1]         [T10]       3          7   \n",
       "Talent 5      [P1, P1]      [T6, T8]       4          6   \n",
       "\n",
       "                                           assessment_score  \n",
       "employee                                                     \n",
       "Talent 1  [0.2612038749637414, 0.4641016151377546, 0.285...  \n",
       "Talent 2                               [0.3090169943749474]  \n",
       "Talent 3  [0.36602540378443865, 0.3430703308172536, 0.24...  \n",
       "Talent 4                              [0.21089672205953397]  \n",
       "Talent 5          [0.27429188517743175, 0.2193450929151803]  "
      ]
     },
     "execution_count": 29,
     "metadata": {},
     "output_type": "execute_result"
    }
   ],
   "source": [
    "# Set display options\n",
    "pd.set_option(\"display.max_rows\", 500)\n",
    "pd.set_option(\"display.max_columns\", 500)\n",
    "\n",
    "# Convert dictionary to DataFrame and set 'employee' as index\n",
    "result_1 = pd.DataFrame.from_dict(\n",
    "    x_hat_1,\n",
    "    orient=\"index\",\n",
    "    columns=[\"company\", \"assigned_task\", \"sum_sp\", \"wasted_sp\", \"assessment_score\"],\n",
    ")\n",
    "result_1.index.name = \"employee\"\n",
    "\n",
    "result_1"
   ]
  },
  {
   "cell_type": "markdown",
   "metadata": {},
   "source": [
    "### 5.3.1 Statistics of The Objective\n"
   ]
  },
  {
   "cell_type": "code",
   "execution_count": 30,
   "metadata": {},
   "outputs": [
    {
     "name": "stdout",
     "output_type": "stream",
     "text": [
      "Total Employee\t\t\t: 5\n",
      "Total Active Employee\t\t: 5\t100.00%\n",
      "Total Idle Employee\t\t: 0\t0.00%\n",
      "\n",
      "Total Story Points\t\t: 22\n",
      "Total Active Story Points\t: 22\t100.00%\n",
      "Total Wasted Story Points\t: 0\t0.00%\n",
      "\n"
     ]
    }
   ],
   "source": [
    "total_employee = len(employees)\n",
    "total_sp = sum(story_points.values())\n",
    "total_active_employee = len(set(employee for employee in x_hat_1.keys()))\n",
    "total_active_sp = sum(value[2] for value in x_hat_1.values())\n",
    "total_idle_employee = total_employee - total_active_employee\n",
    "total_wasted_sp = total_sp - total_active_sp\n",
    "\n",
    "print(f\"Total Employee\\t\\t\\t: {total_employee}\")\n",
    "print(\n",
    "    f\"Total Active Employee\\t\\t: {total_active_employee}\\t{(total_active_employee/total_employee)*100:.2f}%\"\n",
    ")\n",
    "print(\n",
    "    f\"Total Idle Employee\\t\\t: {total_idle_employee}\\t{(total_idle_employee/total_employee)*100:.2f}%\\n\"\n",
    ")\n",
    "print(f\"Total Story Points\\t\\t: {total_sp}\")\n",
    "print(\n",
    "    f\"Total Active Story Points\\t: {total_active_sp}\\t{(total_active_sp/total_sp)*100:.2f}%\"\n",
    ")\n",
    "print(\n",
    "    f\"Total Wasted Story Points\\t: {total_wasted_sp}\\t{(total_wasted_sp/total_sp)*100:.2f}%\\n\"\n",
    ")"
   ]
  },
  {
   "cell_type": "markdown",
   "metadata": {},
   "source": [
    "### 5.3.2. Distribution With Respect to the Assessment Score\n"
   ]
  },
  {
   "cell_type": "code",
   "execution_count": 31,
   "metadata": {},
   "outputs": [
    {
     "data": {
      "image/png": "[encoded data removed]",
      "text/plain": [
       "<Figure size 640x480 with 1 Axes>"
      ]
     },
     "metadata": {},
     "output_type": "display_data"
    }
   ],
   "source": [
    "# make boxplot for objective 1 with respect to the assessment score\n",
    "assessment_score_1 = result_1[\"assessment_score\"].explode().reset_index(drop=True)\n",
    "\n",
    "if len(assessment_score_1) != 0:\n",
    "    assessment_score_1.plot(kind=\"box\")\n",
    "    plt.title(\"Assessment Score Boxplot of Objective 1\")\n",
    "    plt.show()\n",
    "else:\n",
    "    print(\"No data to show\")"
   ]
  },
  {
   "cell_type": "markdown",
   "metadata": {},
   "source": [
    "# 6. Single Objective Approach: 2) Maximize The Assessment Score\n",
    "\n",
    "## 6.1. Set The Objective Model\n",
    "\n",
    "$$\n",
    "\\mu _{Z_2} = max.\\: \\sum _{i\\in \\:I_k} \\sum _{j\\in \\:J} \\sum _{k\\in \\:K} \\: e_{ij} \\cdot z_{ij} \\quad \\tag{2}\n",
    "$$\n"
   ]
  },
  {
   "cell_type": "code",
   "execution_count": 32,
   "metadata": {},
   "outputs": [],
   "source": [
    "# objective 2\n",
    "mu_Z_2 = quicksum(\n",
    "    score[j][i] * z[i, j]\n",
    "    for k, tasks in company_tasks.items()\n",
    "    for i in tasks\n",
    "    for j in employees\n",
    ")\n",
    "\n",
    "# single objective 2\n",
    "model.setObjective(mu_Z_2, GRB.MAXIMIZE)"
   ]
  },
  {
   "cell_type": "markdown",
   "metadata": {},
   "source": [
    "## 6.2. Solve The Model of Objective $(2)$\n"
   ]
  },
  {
   "cell_type": "code",
   "execution_count": 33,
   "metadata": {},
   "outputs": [
    {
     "name": "stdout",
     "output_type": "stream",
     "text": [
      "Gurobi Optimizer version 11.0.2 build v11.0.2rc0 (linux64 - \"Ubuntu 20.04.6 LTS\")\n",
      "\n",
      "CPU model: AMD EPYC 7763 64-Core Processor, instruction set [SSE2|AVX|AVX2]\n",
      "Thread count: 2 physical cores, 4 logical processors, using up to 2 threads\n",
      "\n",
      "Academic license 2521640 - for non-commercial use only - registered to na___@mail.ugm.ac.id\n",
      "Optimize a model with 38 rows, 116 columns and 185 nonzeros\n",
      "Model fingerprint: 0xcc62a9e1\n",
      "Model has 130 general constraints\n",
      "Variable types: 0 continuous, 116 integer (115 binary)\n",
      "Coefficient statistics:\n",
      "  Matrix range     [1e+00, 5e+00]\n",
      "  Objective range  [2e-01, 1e+00]\n",
      "  Bounds range     [1e+00, 1e+01]\n",
      "  RHS range        [1e+00, 1e+01]\n",
      "  GenCon rhs range [1e+00, 1e+00]\n",
      "  GenCon coe range [1e+00, 1e+00]\n",
      "\n",
      "Loaded MIP start from previous solve with objective 3.57478\n",
      "\n",
      "Presolve added 47 rows and 0 columns\n",
      "Presolve removed 0 rows and 51 columns\n",
      "Presolve time: 0.00s\n",
      "Presolved: 85 rows, 65 columns, 295 nonzeros\n",
      "Found heuristic solution: objective 5.0874096\n",
      "Variable types: 0 continuous, 65 integer (65 binary)\n",
      "Root relaxation presolved: 85 rows, 65 columns, 295 nonzeros\n",
      "\n",
      "\n",
      "Root relaxation: objective 5.538685e+00, 37 iterations, 0.00 seconds (0.00 work units)\n",
      "\n",
      "    Nodes    |    Current Node    |     Objective Bounds      |     Work\n",
      " Expl Unexpl |  Obj  Depth IntInf | Incumbent    BestBd   Gap | It/Node Time\n",
      "\n",
      "*    0     0               0       5.5386854    5.53869  0.00%     -    0s\n",
      "\n",
      "Explored 1 nodes (37 simplex iterations) in 0.04 seconds (0.00 work units)\n",
      "Thread count was 2 (of 4 available processors)\n",
      "\n",
      "Solution count 3: 5.53869 5.08741 3.57478 \n",
      "\n",
      "Optimal solution found (tolerance 1.00e-02)\n",
      "Best objective 5.538685432037e+00, best bound 5.538685432037e+00, gap 0.0000%\n"
     ]
    }
   ],
   "source": [
    "# solve the model\n",
    "model.optimize()"
   ]
  },
  {
   "cell_type": "markdown",
   "metadata": {},
   "source": [
    "### 6.2.1 Print The Solver Results\n"
   ]
  },
  {
   "cell_type": "code",
   "execution_count": 34,
   "metadata": {},
   "outputs": [
    {
     "name": "stdout",
     "output_type": "stream",
     "text": [
      "Solution Found!\n",
      "Obj. Value 2 i.e. Total Score: 5.53868543203696\n",
      "\n",
      "Task T6 assigned to Employee Talent 1\n",
      "Company\t\t\t: P1\n",
      "Story Points\t\t: 1\n",
      "Metrics score\t: 0.1685521227\n",
      "\n",
      "Task T8 assigned to Employee Talent 1\n",
      "Company\t\t\t: P1\n",
      "Story Points\t\t: 3\n",
      "Metrics score\t: 0.1852891992\n",
      "\n",
      "Task T10 assigned to Employee Talent 2\n",
      "Company\t\t\t: P1\n",
      "Story Points\t\t: 3\n",
      "Metrics score\t: 0.1666666667\n",
      "\n",
      "Task T4 assigned to Employee Talent 3\n",
      "Company\t\t\t: P3\n",
      "Story Points\t\t: 5\n",
      "Metrics score\t: 0.3660254038\n",
      "\n",
      "Task T5 assigned to Employee Talent 3\n",
      "Company\t\t\t: P3\n",
      "Story Points\t\t: 1\n",
      "Metrics score\t: 0.3430703308\n",
      "\n",
      "Task T7 assigned to Employee Talent 3\n",
      "Company\t\t\t: P3\n",
      "Story Points\t\t: 2\n",
      "Metrics score\t: 0.2466060556\n",
      "\n",
      "Task T2 assigned to Employee Talent 4\n",
      "Company\t\t\t: P1\n",
      "Story Points\t\t: 2\n",
      "Metrics score\t: 0.3660254038\n",
      "\n",
      "Task T1 assigned to Employee Talent 5\n",
      "Company\t\t\t: P2\n",
      "Story Points\t\t: 1\n",
      "Metrics score\t: 0.2958163163\n",
      "\n",
      "Task T3 assigned to Employee Talent 5\n",
      "Company\t\t\t: P2\n",
      "Story Points\t\t: 3\n",
      "Metrics score\t: 0.1639607805\n",
      "\n",
      "Task T9 assigned to Employee Talent 5\n",
      "Company\t\t\t: P2\n",
      "Story Points\t\t: 1\n",
      "Metrics score\t: 0.3333333333\n",
      "\n"
     ]
    }
   ],
   "source": [
    "# Check and process the solution\n",
    "if model.status == GRB.OPTIMAL:\n",
    "    print(\"Solution Found!\")\n",
    "    print(f\"Obj. Value 2 i.e. Total Score: {model.ObjVal}\\n\")\n",
    "    mu_Z_star[2] = model.ObjVal\n",
    "\n",
    "    x_hat_2 = {}\n",
    "    for j in employees:\n",
    "        result = get_employee_tasks(\n",
    "            j, company_tasks, model, score, story_points, max_employee_workload\n",
    "        )\n",
    "        if len(result[1]) > 0:\n",
    "            x_hat_2[j] = result\n",
    "else:\n",
    "    print(\"No Solution Found!\")\n",
    "    x_hat_2 = {}"
   ]
  },
  {
   "cell_type": "markdown",
   "metadata": {},
   "source": [
    "## 6.3. Show the Solver's Result\n"
   ]
  },
  {
   "cell_type": "code",
   "execution_count": 35,
   "metadata": {},
   "outputs": [
    {
     "data": {
      "text/html": [
       "<div>\n",
       "<style scoped>\n",
       "    .dataframe tbody tr th:only-of-type {\n",
       "        vertical-align: middle;\n",
       "    }\n",
       "\n",
       "    .dataframe tbody tr th {\n",
       "        vertical-align: top;\n",
       "    }\n",
       "\n",
       "    .dataframe thead th {\n",
       "        text-align: right;\n",
       "    }\n",
       "</style>\n",
       "<table border=\"1\" class=\"dataframe\">\n",
       "  <thead>\n",
       "    <tr style=\"text-align: right;\">\n",
       "      <th></th>\n",
       "      <th>company</th>\n",
       "      <th>assigned_task</th>\n",
       "      <th>sum_sp</th>\n",
       "      <th>wasted_sp</th>\n",
       "      <th>assessment_score</th>\n",
       "    </tr>\n",
       "    <tr>\n",
       "      <th>employee</th>\n",
       "      <th></th>\n",
       "      <th></th>\n",
       "      <th></th>\n",
       "      <th></th>\n",
       "      <th></th>\n",
       "    </tr>\n",
       "  </thead>\n",
       "  <tbody>\n",
       "    <tr>\n",
       "      <th>Talent 1</th>\n",
       "      <td>[P1, P1]</td>\n",
       "      <td>[T6, T8]</td>\n",
       "      <td>4</td>\n",
       "      <td>6</td>\n",
       "      <td>[0.16855212267069633, 0.1852891992413258]</td>\n",
       "    </tr>\n",
       "    <tr>\n",
       "      <th>Talent 2</th>\n",
       "      <td>[P1]</td>\n",
       "      <td>[T10]</td>\n",
       "      <td>3</td>\n",
       "      <td>7</td>\n",
       "      <td>[0.16666666666666666]</td>\n",
       "    </tr>\n",
       "    <tr>\n",
       "      <th>Talent 3</th>\n",
       "      <td>[P3, P3, P3]</td>\n",
       "      <td>[T4, T5, T7]</td>\n",
       "      <td>8</td>\n",
       "      <td>2</td>\n",
       "      <td>[0.36602540378443865, 0.3430703308172536, 0.24...</td>\n",
       "    </tr>\n",
       "    <tr>\n",
       "      <th>Talent 4</th>\n",
       "      <td>[P1]</td>\n",
       "      <td>[T2]</td>\n",
       "      <td>2</td>\n",
       "      <td>8</td>\n",
       "      <td>[0.36602540378443865]</td>\n",
       "    </tr>\n",
       "    <tr>\n",
       "      <th>Talent 5</th>\n",
       "      <td>[P2, P2, P2]</td>\n",
       "      <td>[T1, T3, T9]</td>\n",
       "      <td>5</td>\n",
       "      <td>5</td>\n",
       "      <td>[0.2958163163244893, 0.1639607805437114, 0.333...</td>\n",
       "    </tr>\n",
       "  </tbody>\n",
       "</table>\n",
       "</div>"
      ],
      "text/plain": [
       "               company assigned_task  sum_sp  wasted_sp  \\\n",
       "employee                                                  \n",
       "Talent 1      [P1, P1]      [T6, T8]       4          6   \n",
       "Talent 2          [P1]         [T10]       3          7   \n",
       "Talent 3  [P3, P3, P3]  [T4, T5, T7]       8          2   \n",
       "Talent 4          [P1]          [T2]       2          8   \n",
       "Talent 5  [P2, P2, P2]  [T1, T3, T9]       5          5   \n",
       "\n",
       "                                           assessment_score  \n",
       "employee                                                     \n",
       "Talent 1          [0.16855212267069633, 0.1852891992413258]  \n",
       "Talent 2                              [0.16666666666666666]  \n",
       "Talent 3  [0.36602540378443865, 0.3430703308172536, 0.24...  \n",
       "Talent 4                              [0.36602540378443865]  \n",
       "Talent 5  [0.2958163163244893, 0.1639607805437114, 0.333...  "
      ]
     },
     "execution_count": 35,
     "metadata": {},
     "output_type": "execute_result"
    }
   ],
   "source": [
    "# Set display options\n",
    "pd.set_option(\"display.max_rows\", 500)\n",
    "pd.set_option(\"display.max_columns\", 500)\n",
    "\n",
    "# Convert dictionary to DataFrame and set 'employee' as index\n",
    "result_2 = pd.DataFrame.from_dict(\n",
    "    x_hat_2,\n",
    "    orient=\"index\",\n",
    "    columns=[\"company\", \"assigned_task\", \"sum_sp\", \"wasted_sp\", \"assessment_score\"],\n",
    ")\n",
    "result_2.index.name = \"employee\"\n",
    "\n",
    "result_2"
   ]
  },
  {
   "cell_type": "markdown",
   "metadata": {},
   "source": [
    "### 6.3.1 Statistics of The Objective\n"
   ]
  },
  {
   "cell_type": "code",
   "execution_count": 36,
   "metadata": {},
   "outputs": [
    {
     "name": "stdout",
     "output_type": "stream",
     "text": [
      "Total Employee\t\t\t: 5\n",
      "Total Active Employee\t\t: 5\t100.00%\n",
      "Total Idle Employee\t\t: 0\t0.00%\n",
      "\n",
      "Total Story Points\t\t: 22\n",
      "Total Active Story Points\t: 22\t100.00%\n",
      "Total Wasted Story Points\t: 0\t0.00%\n",
      "\n"
     ]
    }
   ],
   "source": [
    "total_employee = len(employees)\n",
    "total_sp = sum(story_points.values())\n",
    "total_active_employee = len(set(employee for employee in x_hat_2.keys()))\n",
    "total_active_sp = sum(value[2] for value in x_hat_2.values())\n",
    "total_idle_employee = total_employee - total_active_employee\n",
    "total_wasted_sp = total_sp - total_active_sp\n",
    "\n",
    "print(f\"Total Employee\\t\\t\\t: {total_employee}\")\n",
    "print(\n",
    "    f\"Total Active Employee\\t\\t: {total_active_employee}\\t{(total_active_employee/total_employee)*100:.2f}%\"\n",
    ")\n",
    "print(\n",
    "    f\"Total Idle Employee\\t\\t: {total_idle_employee}\\t{(total_idle_employee/total_employee)*100:.2f}%\\n\"\n",
    ")\n",
    "print(f\"Total Story Points\\t\\t: {total_sp}\")\n",
    "print(\n",
    "    f\"Total Active Story Points\\t: {total_active_sp}\\t{(total_active_sp/total_sp)*100:.2f}%\"\n",
    ")\n",
    "print(\n",
    "    f\"Total Wasted Story Points\\t: {total_wasted_sp}\\t{(total_wasted_sp/total_sp)*100:.2f}%\\n\"\n",
    ")"
   ]
  },
  {
   "cell_type": "markdown",
   "metadata": {},
   "source": [
    "### 6.3.2. Distribution With Respect to the Assessment Score\n"
   ]
  },
  {
   "cell_type": "code",
   "execution_count": 37,
   "metadata": {},
   "outputs": [
    {
     "data": {
      "image/png": "[encoded data removed]",
      "text/plain": [
       "<Figure size 640x480 with 1 Axes>"
      ]
     },
     "metadata": {},
     "output_type": "display_data"
    }
   ],
   "source": [
    "# make boxplot for objective 1 with respect to the assessment score\n",
    "assessment_score_2 = result_2[\"assessment_score\"].explode().reset_index(drop=True)\n",
    "\n",
    "if len(assessment_score_2) != 0:\n",
    "    assessment_score_2.plot(kind=\"box\")\n",
    "    plt.title(\"Assessment Score Boxplot of Objective 2\")\n",
    "    plt.show()\n",
    "else:\n",
    "    print(\"No data to show\")"
   ]
  },
  {
   "cell_type": "markdown",
   "metadata": {},
   "source": [
    "# 7. Single Objective Approach: 3) Balancing Workload For Each Employee\n",
    "\n",
    "## 7.1. Set The Objective Model\n",
    "\n",
    "$$\n",
    "\\mu_{Z_3} = min.\\: \\text{max\\_workload} \\quad \\tag{3}\n",
    "$$\n"
   ]
  },
  {
   "cell_type": "code",
   "execution_count": 38,
   "metadata": {},
   "outputs": [],
   "source": [
    "# single objective 3\n",
    "mu_Z_3 = max_workload\n",
    "model.setObjective(mu_Z_3, GRB.MINIMIZE)"
   ]
  },
  {
   "cell_type": "markdown",
   "metadata": {},
   "source": [
    "## 7.2. Solve The Model of Objective $(3)$\n"
   ]
  },
  {
   "cell_type": "code",
   "execution_count": 39,
   "metadata": {},
   "outputs": [
    {
     "name": "stdout",
     "output_type": "stream",
     "text": [
      "Gurobi Optimizer version 11.0.2 build v11.0.2rc0 (linux64 - \"Ubuntu 20.04.6 LTS\")\n",
      "\n",
      "CPU model: AMD EPYC 7763 64-Core Processor, instruction set [SSE2|AVX|AVX2]\n",
      "Thread count: 2 physical cores, 4 logical processors, using up to 2 threads\n",
      "\n",
      "Academic license 2521640 - for non-commercial use only - registered to na___@mail.ugm.ac.id\n",
      "Optimize a model with 38 rows, 116 columns and 185 nonzeros\n",
      "Model fingerprint: 0x206164c8\n",
      "Model has 130 general constraints\n",
      "Variable types: 0 continuous, 116 integer (115 binary)\n",
      "Coefficient statistics:\n",
      "  Matrix range     [1e+00, 5e+00]\n",
      "  Objective range  [1e+00, 1e+00]\n",
      "  Bounds range     [1e+00, 1e+01]\n",
      "  RHS range        [1e+00, 1e+01]\n",
      "  GenCon rhs range [1e+00, 1e+00]\n",
      "  GenCon coe range [1e+00, 1e+00]\n",
      "\n",
      "Loaded MIP start from previous solve with objective 10\n",
      "\n",
      "Presolve added 47 rows and 0 columns\n",
      "Presolve removed 0 rows and 50 columns\n",
      "Presolve time: 0.00s\n",
      "Presolved: 85 rows, 66 columns, 285 nonzeros\n",
      "Variable types: 0 continuous, 66 integer (65 binary)\n",
      "Found heuristic solution: objective 9.0000000\n",
      "Root relaxation presolved: 85 rows, 66 columns, 285 nonzeros\n",
      "\n",
      "\n",
      "Root relaxation: objective 4.400000e+00, 53 iterations, 0.00 seconds (0.00 work units)\n",
      "\n",
      "    Nodes    |    Current Node    |     Objective Bounds      |     Work\n",
      " Expl Unexpl |  Obj  Depth IntInf | Incumbent    BestBd   Gap | It/Node Time\n",
      "\n",
      "     0     0    4.40000    0   11    9.00000    4.40000  51.1%     -    0s\n",
      "H    0     0                       5.0000000    4.40000  12.0%     -    0s\n",
      "     0     0    4.40000    0   11    5.00000    4.40000  12.0%     -    0s\n",
      "\n",
      "Explored 1 nodes (86 simplex iterations) in 0.03 seconds (0.00 work units)\n",
      "Thread count was 2 (of 4 available processors)\n",
      "\n",
      "Solution count 3: 5 9 10 \n",
      "\n",
      "Optimal solution found (tolerance 1.00e-02)\n",
      "Best objective 5.000000000000e+00, best bound 5.000000000000e+00, gap 0.0000%\n"
     ]
    }
   ],
   "source": [
    "# solve the model\n",
    "model.optimize()"
   ]
  },
  {
   "cell_type": "markdown",
   "metadata": {},
   "source": [
    "### 7.2.1 Print The Solver Results\n"
   ]
  },
  {
   "cell_type": "code",
   "execution_count": 40,
   "metadata": {},
   "outputs": [
    {
     "name": "stdout",
     "output_type": "stream",
     "text": [
      "Solution Found!\n",
      "Obj. Value 3 i.e. Maximum Story Points Each Employee: 5.0\n",
      "\n",
      "Task T1 assigned to Employee Talent 1\n",
      "Company\t\t\t: P2\n",
      "Story Points\t\t: 1\n",
      "Metrics score\t: 0.2612038750\n",
      "\n",
      "Task T3 assigned to Employee Talent 1\n",
      "Company\t\t\t: P2\n",
      "Story Points\t\t: 3\n",
      "Metrics score\t: 0.4641016151\n",
      "\n",
      "Task T9 assigned to Employee Talent 1\n",
      "Company\t\t\t: P2\n",
      "Story Points\t\t: 1\n",
      "Metrics score\t: 0.2854426166\n",
      "\n",
      "Task T5 assigned to Employee Talent 2\n",
      "Company\t\t\t: P3\n",
      "Story Points\t\t: 1\n",
      "Metrics score\t: 0.2500000000\n",
      "\n",
      "Task T7 assigned to Employee Talent 2\n",
      "Company\t\t\t: P3\n",
      "Story Points\t\t: 2\n",
      "Metrics score\t: 0.2055765884\n",
      "\n",
      "Task T4 assigned to Employee Talent 3\n",
      "Company\t\t\t: P3\n",
      "Story Points\t\t: 5\n",
      "Metrics score\t: 0.3660254038\n",
      "\n",
      "Task T6 assigned to Employee Talent 4\n",
      "Company\t\t\t: P1\n",
      "Story Points\t\t: 1\n",
      "Metrics score\t: 0.3034973274\n",
      "\n",
      "Task T10 assigned to Employee Talent 4\n",
      "Company\t\t\t: P1\n",
      "Story Points\t\t: 3\n",
      "Metrics score\t: 0.2108967221\n",
      "\n",
      "Task T2 assigned to Employee Talent 5\n",
      "Company\t\t\t: P1\n",
      "Story Points\t\t: 2\n",
      "Metrics score\t: 0.2240092377\n",
      "\n",
      "Task T8 assigned to Employee Talent 5\n",
      "Company\t\t\t: P1\n",
      "Story Points\t\t: 3\n",
      "Metrics score\t: 0.2193450929\n",
      "\n"
     ]
    }
   ],
   "source": [
    "# Check and process the solution\n",
    "if model.status == GRB.OPTIMAL:\n",
    "    print(\"Solution Found!\")\n",
    "    print(f\"Obj. Value 3 i.e. Maximum Story Points Each Employee: {model.ObjVal}\\n\")\n",
    "    mu_Z_star[3] = model.ObjVal\n",
    "\n",
    "    x_hat_3 = {}\n",
    "    for j in employees:\n",
    "        result = get_employee_tasks(\n",
    "            j, company_tasks, model, score, story_points, max_employee_workload\n",
    "        )\n",
    "        if len(result[1]) > 0:\n",
    "            x_hat_3[j] = result\n",
    "else:\n",
    "    print(\"No Solution Found!\")\n",
    "    x_hat_3 = {}"
   ]
  },
  {
   "cell_type": "markdown",
   "metadata": {},
   "source": [
    "## 7.3. Show the Solver's Result\n"
   ]
  },
  {
   "cell_type": "code",
   "execution_count": 41,
   "metadata": {},
   "outputs": [
    {
     "data": {
      "text/html": [
       "<div>\n",
       "<style scoped>\n",
       "    .dataframe tbody tr th:only-of-type {\n",
       "        vertical-align: middle;\n",
       "    }\n",
       "\n",
       "    .dataframe tbody tr th {\n",
       "        vertical-align: top;\n",
       "    }\n",
       "\n",
       "    .dataframe thead th {\n",
       "        text-align: right;\n",
       "    }\n",
       "</style>\n",
       "<table border=\"1\" class=\"dataframe\">\n",
       "  <thead>\n",
       "    <tr style=\"text-align: right;\">\n",
       "      <th></th>\n",
       "      <th>company</th>\n",
       "      <th>assigned_task</th>\n",
       "      <th>sum_sp</th>\n",
       "      <th>wasted_sp</th>\n",
       "      <th>assessment_score</th>\n",
       "    </tr>\n",
       "    <tr>\n",
       "      <th>employee</th>\n",
       "      <th></th>\n",
       "      <th></th>\n",
       "      <th></th>\n",
       "      <th></th>\n",
       "      <th></th>\n",
       "    </tr>\n",
       "  </thead>\n",
       "  <tbody>\n",
       "    <tr>\n",
       "      <th>Talent 1</th>\n",
       "      <td>[P2, P2, P2]</td>\n",
       "      <td>[T1, T3, T9]</td>\n",
       "      <td>5</td>\n",
       "      <td>5</td>\n",
       "      <td>[0.2612038749637414, 0.4641016151377546, 0.285...</td>\n",
       "    </tr>\n",
       "    <tr>\n",
       "      <th>Talent 2</th>\n",
       "      <td>[P3, P3]</td>\n",
       "      <td>[T5, T7]</td>\n",
       "      <td>3</td>\n",
       "      <td>7</td>\n",
       "      <td>[0.25, 0.20557658844381702]</td>\n",
       "    </tr>\n",
       "    <tr>\n",
       "      <th>Talent 3</th>\n",
       "      <td>[P3]</td>\n",
       "      <td>[T4]</td>\n",
       "      <td>5</td>\n",
       "      <td>5</td>\n",
       "      <td>[0.36602540378443865]</td>\n",
       "    </tr>\n",
       "    <tr>\n",
       "      <th>Talent 4</th>\n",
       "      <td>[P1, P1]</td>\n",
       "      <td>[T6, T10]</td>\n",
       "      <td>4</td>\n",
       "      <td>6</td>\n",
       "      <td>[0.30349732743932833, 0.21089672205953397]</td>\n",
       "    </tr>\n",
       "    <tr>\n",
       "      <th>Talent 5</th>\n",
       "      <td>[P1, P1]</td>\n",
       "      <td>[T2, T8]</td>\n",
       "      <td>5</td>\n",
       "      <td>5</td>\n",
       "      <td>[0.2240092377397959, 0.2193450929151803]</td>\n",
       "    </tr>\n",
       "  </tbody>\n",
       "</table>\n",
       "</div>"
      ],
      "text/plain": [
       "               company assigned_task  sum_sp  wasted_sp  \\\n",
       "employee                                                  \n",
       "Talent 1  [P2, P2, P2]  [T1, T3, T9]       5          5   \n",
       "Talent 2      [P3, P3]      [T5, T7]       3          7   \n",
       "Talent 3          [P3]          [T4]       5          5   \n",
       "Talent 4      [P1, P1]     [T6, T10]       4          6   \n",
       "Talent 5      [P1, P1]      [T2, T8]       5          5   \n",
       "\n",
       "                                           assessment_score  \n",
       "employee                                                     \n",
       "Talent 1  [0.2612038749637414, 0.4641016151377546, 0.285...  \n",
       "Talent 2                        [0.25, 0.20557658844381702]  \n",
       "Talent 3                              [0.36602540378443865]  \n",
       "Talent 4         [0.30349732743932833, 0.21089672205953397]  \n",
       "Talent 5           [0.2240092377397959, 0.2193450929151803]  "
      ]
     },
     "execution_count": 41,
     "metadata": {},
     "output_type": "execute_result"
    }
   ],
   "source": [
    "# Set display options\n",
    "pd.set_option(\"display.max_rows\", 500)\n",
    "pd.set_option(\"display.max_columns\", 500)\n",
    "\n",
    "# Convert dictionary to DataFrame and set 'employee' as index\n",
    "result_3 = pd.DataFrame.from_dict(\n",
    "    x_hat_3,\n",
    "    orient=\"index\",\n",
    "    columns=[\"company\", \"assigned_task\", \"sum_sp\", \"wasted_sp\", \"assessment_score\"],\n",
    ")\n",
    "result_3.index.name = \"employee\"\n",
    "\n",
    "result_3"
   ]
  },
  {
   "cell_type": "markdown",
   "metadata": {},
   "source": [
    "### 7.3.1 Statistics of The Objective\n"
   ]
  },
  {
   "cell_type": "code",
   "execution_count": 42,
   "metadata": {},
   "outputs": [
    {
     "name": "stdout",
     "output_type": "stream",
     "text": [
      "Total Employee\t\t\t: 5\n",
      "Total Active Employee\t\t: 5\t100.00%\n",
      "Total Idle Employee\t\t: 0\t0.00%\n",
      "\n",
      "Total Story Points\t\t: 22\n",
      "Total Active Story Points\t: 22\t100.00%\n",
      "Total Wasted Story Points\t: 0\t0.00%\n",
      "\n"
     ]
    }
   ],
   "source": [
    "total_employee = len(employees)\n",
    "total_sp = sum(story_points.values())\n",
    "total_active_employee = len(set(employee for employee in x_hat_3.keys()))\n",
    "total_active_sp = sum(value[2] for value in x_hat_3.values())\n",
    "total_idle_employee = total_employee - total_active_employee\n",
    "total_wasted_sp = total_sp - total_active_sp\n",
    "\n",
    "print(f\"Total Employee\\t\\t\\t: {total_employee}\")\n",
    "print(\n",
    "    f\"Total Active Employee\\t\\t: {total_active_employee}\\t{(total_active_employee/total_employee)*100:.2f}%\"\n",
    ")\n",
    "print(\n",
    "    f\"Total Idle Employee\\t\\t: {total_idle_employee}\\t{(total_idle_employee/total_employee)*100:.2f}%\\n\"\n",
    ")\n",
    "print(f\"Total Story Points\\t\\t: {total_sp}\")\n",
    "print(\n",
    "    f\"Total Active Story Points\\t: {total_active_sp}\\t{(total_active_sp/total_sp)*100:.2f}%\"\n",
    ")\n",
    "print(\n",
    "    f\"Total Wasted Story Points\\t: {total_wasted_sp}\\t{(total_wasted_sp/total_sp)*100:.2f}%\\n\"\n",
    ")"
   ]
  },
  {
   "cell_type": "markdown",
   "metadata": {},
   "source": [
    "### 7.3.2. Distribution With Respect to the Assessment Score\n"
   ]
  },
  {
   "cell_type": "code",
   "execution_count": 43,
   "metadata": {},
   "outputs": [
    {
     "data": {
      "image/png": "[encoded data removed]",
      "text/plain": [
       "<Figure size 640x480 with 1 Axes>"
      ]
     },
     "metadata": {},
     "output_type": "display_data"
    }
   ],
   "source": [
    "# make boxplot for objective 1 with respect to the assessment score\n",
    "assessment_score_3 = result_3[\"assessment_score\"].explode().reset_index(drop=True)\n",
    "\n",
    "if len(assessment_score_3) != 0:\n",
    "    assessment_score_3.plot(kind=\"box\")\n",
    "    plt.title(\"Assessment Score Boxplot of Objective 3\")\n",
    "    plt.show()\n",
    "else:\n",
    "    print(\"No data to show\")"
   ]
  },
  {
   "cell_type": "markdown",
   "metadata": {},
   "source": [
    "# 8. Multi-Objective Approach: 2) Goal Programming Optimization Method\n",
    "\n",
    "## 8.1. Create Variables for Goal Programming Optimization Method\n",
    "\n",
    "Let list down the Goals:\n",
    "\n",
    "- Goal 1 = To minimize the idle employee\n",
    "- Goal 2 = To maximize the skills score between tasks and employees\n",
    "- Goal 3 = To balance the workload for each employee\n",
    "\n",
    "Next, setting up the deviational variables:\n",
    "\n",
    "$$\n",
    "\\begin{align*}\n",
    "d^+_1 & : \\text{Overachievement of the employee target} \\\\\n",
    "d^-_1 & : \\text{Underachievement of the employee target} \\\\\n",
    "d^+_2 & : \\text{Overachievement of the score target} \\\\\n",
    "d^-_2 & : \\text{Underachievement of the score target} \\\\\n",
    "d^+_3 & : \\text{Overachievement of the max\\_workload target} \\\\\n",
    "d^-_3 & : \\text{Underachievement of the max\\_workload target} \\\\\n",
    "\\end{align*}\n",
    "$$\n",
    "\n",
    "Denote that the deviational variables is non-negative value. Then, setting up Goal Priority as per relevance to the Business and Management:\n",
    "\n",
    "| Goal                                                        | Priority         |\n",
    "| ----------------------------------------------------------- | ---------------- |\n",
    "| 1) To minimize the idle employee                            | $P_3$ with $W_1$ |\n",
    "| 2) To maximize the skills score between tasks and employees | $P_1$ with $W_2$ |\n",
    "| 3) To balance the workload for each employee                | $P_2$ with $W_3$ |\n",
    "\n",
    "We can say that our ideal conditon for each Goal is:\n",
    "\n",
    "$$\n",
    "\\begin{align*}\n",
    "goal_1 &= 0 \\quad \\tag{5} \\\\\n",
    "goal_2 &= \\text{optimal} \\: \\sum \\text{score} \\quad \\tag{6} \\\\\n",
    "goal_3 &\\leq \\text{max\\_workload} \\quad \\tag{7}\n",
    "\\end{align*}\n",
    "$$\n",
    "\n",
    "Let's consider Underachievement of the $goal_1$ doesn't give any impact because the minimum value of deviation varable is 0, and 0 is our ideal condition. Then, consider Overachievement of the $goal_3$ doesn't give any impact because the maximum value is $\\text{max\\_workload}$, so the value that greater than $\\text{max\\_workload}$ can be ignored.\n",
    "\n",
    "Hence, $d^-_1$ and $d^+_3$ can be omitted from the objective function. So for the final formation of Objective Function and Constraint is:\n",
    "\n",
    "$$\n",
    "\\mu_{Z_4} = \\text{min.} \\: \\sum_{n=1}^3\\left[\\frac{W_n \\cdot \\left(d_n^+ + d_n^-\\right)}{\\mu_{Z_n^{\\ast}}}\\right] \\quad \\tag{8}\n",
    "$$\n",
    "\n",
    "subject to:\n",
    "\n",
    "$$\n",
    "\\mu Z_n-d^+_n+d^-_n=\\mu Z_n^{\\ast }\\quad \\forall \\:n\\in Goal \\quad \\tag{9}\n",
    "$$\n"
   ]
  },
  {
   "cell_type": "markdown",
   "metadata": {},
   "source": [
    "### 8.1.1 Weight for Priority\n"
   ]
  },
  {
   "cell_type": "code",
   "execution_count": 44,
   "metadata": {},
   "outputs": [],
   "source": [
    "# define weight dictionary for each objective\n",
    "Weight = {\n",
    "    1: weight_obj1,\n",
    "    2: weight_obj2,\n",
    "    3: weight_obj3,\n",
    "}"
   ]
  },
  {
   "cell_type": "markdown",
   "metadata": {},
   "source": [
    "### 8.1.2 Deviation Variables\n"
   ]
  },
  {
   "cell_type": "code",
   "execution_count": 45,
   "metadata": {},
   "outputs": [],
   "source": [
    "# Define the deviation plus and minus variables\n",
    "d_plus = {}\n",
    "d_minus = {}\n",
    "\n",
    "# Add variables for d_plus and d_minus with specific conditions\n",
    "for i in range(1, 4):\n",
    "    if i != 3:\n",
    "        d_plus[i] = model.addVar(vtype=GRB.CONTINUOUS, lb=0, name=f\"d_plus_{i}\")\n",
    "    if i != 1:\n",
    "        d_minus[i] = model.addVar(vtype=GRB.CONTINUOUS, lb=0, name=f\"d_minus_{i}\")\n",
    "\n",
    "# Set specific variables to zero\n",
    "d_minus[1] = 0\n",
    "d_plus[3] = 0"
   ]
  },
  {
   "cell_type": "markdown",
   "metadata": {},
   "source": [
    "### 8.1.3 Get the Objectives and Goal for Each Objetives\n"
   ]
  },
  {
   "cell_type": "code",
   "execution_count": 46,
   "metadata": {},
   "outputs": [
    {
     "name": "stdout",
     "output_type": "stream",
     "text": [
      "0.0\n",
      "5.53868543203696\n",
      "5.0\n"
     ]
    },
    {
     "data": {
      "text/plain": [
       "{1: 0, 2: 0.18054825685094567, 3: 0.2}"
      ]
     },
     "execution_count": 46,
     "metadata": {},
     "output_type": "execute_result"
    }
   ],
   "source": [
    "mu_Z = {1: mu_Z_1, 2: mu_Z_2, 3: mu_Z_3}\n",
    "\n",
    "mu_Z_star_obj = mu_Z_star.copy()\n",
    "for i, value in mu_Z_star_obj.items():\n",
    "    print(value)\n",
    "    mu_Z_star_obj[i] = 1 / value if value != 0 else 0\n",
    "\n",
    "mu_Z_star_obj"
   ]
  },
  {
   "cell_type": "markdown",
   "metadata": {},
   "source": [
    "## 8.2 Set Additional Constraint $(9)$ for Multi-Objective\n"
   ]
  },
  {
   "cell_type": "code",
   "execution_count": 47,
   "metadata": {},
   "outputs": [
    {
     "name": "stdout",
     "output_type": "stream",
     "text": [
      "Constraint for Goal 1 Active.\n",
      "Constraint for Goal 2 Active.\n",
      "Constraint for Goal 3 Active.\n"
     ]
    }
   ],
   "source": [
    "# This constraint is bound for each objective can connected with each other\n",
    "for k, w in Weight.items():\n",
    "    if w != 0:\n",
    "        print(f\"Constraint for Goal {k} Active.\")\n",
    "        model.addConstr(mu_Z[k] - d_plus[k] + d_minus[k] == mu_Z_star[k])"
   ]
  },
  {
   "cell_type": "markdown",
   "metadata": {},
   "source": [
    "## 8.3 Set The Objective Model\n"
   ]
  },
  {
   "cell_type": "code",
   "execution_count": 48,
   "metadata": {},
   "outputs": [],
   "source": [
    "# define D = sum k=1 to 3 ((W_plus_k * d_plus_k) + (W_minus_k * d_minus_k)) / mu_Z_star iterate\n",
    "D = quicksum(\n",
    "    ((Weight[i] * (d_plus[i] + d_minus[i])) * mu_Z_star_obj[i] for i in range(1, 4))\n",
    ")"
   ]
  },
  {
   "cell_type": "code",
   "execution_count": 49,
   "metadata": {},
   "outputs": [],
   "source": [
    "# Minimize D\n",
    "model.setObjective(D, GRB.MINIMIZE)"
   ]
  },
  {
   "cell_type": "markdown",
   "metadata": {},
   "source": [
    "## 8.4 Solve The Model of Objective $(8)$\n"
   ]
  },
  {
   "cell_type": "code",
   "execution_count": 50,
   "metadata": {},
   "outputs": [
    {
     "name": "stdout",
     "output_type": "stream",
     "text": [
      "Set parameter MIPGap to value 0.05\n",
      "Gurobi Optimizer version 11.0.2 build v11.0.2rc0 (linux64 - \"Ubuntu 20.04.6 LTS\")\n",
      "\n",
      "CPU model: AMD EPYC 7763 64-Core Processor, instruction set [SSE2|AVX|AVX2]\n",
      "Thread count: 2 physical cores, 4 logical processors, using up to 2 threads\n",
      "\n",
      "Academic license 2521640 - for non-commercial use only - registered to na___@mail.ugm.ac.id\n",
      "Optimize a model with 41 rows, 120 columns and 255 nonzeros\n",
      "Model fingerprint: 0x23b10193\n",
      "Model has 130 general constraints\n",
      "Variable types: 4 continuous, 116 integer (115 binary)\n",
      "Coefficient statistics:\n",
      "  Matrix range     [2e-01, 5e+00]\n",
      "  Objective range  [1e-02, 2e-01]\n",
      "  Bounds range     [1e+00, 1e+01]\n",
      "  RHS range        [1e+00, 1e+01]\n",
      "  GenCon rhs range [1e+00, 1e+00]\n",
      "  GenCon coe range [1e+00, 1e+00]\n",
      "\n",
      "MIP start from previous solve produced solution with objective 0.384913 (0.01s)\n",
      "Loaded MIP start from previous solve with objective 0.384913\n",
      "\n",
      "Presolve added 85 rows and 0 columns\n",
      "Presolve removed 0 rows and 18 columns\n",
      "Presolve time: 0.01s\n",
      "Presolved: 126 rows, 102 columns, 444 nonzeros\n",
      "Variable types: 2 continuous, 100 integer (100 binary)\n",
      "Model reached 100% gap.\n",
      "Root relaxation presolved: 126 rows, 102 columns, 444 nonzeros\n",
      "\n",
      "\n",
      "Root relaxation: objective 1.653820e-01, 113 iterations, 0.00 seconds (0.00 work units)\n",
      "Model reached 0.0% gap.\n",
      "\n",
      "    Nodes    |    Current Node    |     Objective Bounds      |     Work\n",
      " Expl Unexpl |  Obj  Depth IntInf | Incumbent    BestBd   Gap | It/Node Time\n",
      "\n",
      "*    0     0               0       0.1653820    0.16538  0.00%     -    0s\n",
      "\n",
      "Explored 1 nodes (113 simplex iterations) in 0.03 seconds (0.00 work units)\n",
      "Thread count was 2 (of 4 available processors)\n",
      "\n",
      "Solution count 2: 0.165382 0.384913 \n",
      "\n",
      "Optimal solution found (tolerance 5.00e-02)\n",
      "Best objective 1.653820218556e-01, best bound 1.653820218556e-01, gap 0.0000%\n",
      "\n",
      "User-callback calls 561, time in user-callback 0.00 sec\n"
     ]
    }
   ],
   "source": [
    "gap_callback = GapCallback()\n",
    "model.setParam(\"MIPGap\", MIPGap_moo)\n",
    "\n",
    "# Solve the model\n",
    "model.optimize(gap_callback)"
   ]
  },
  {
   "cell_type": "markdown",
   "metadata": {},
   "source": [
    "### 8.2.1 Print The Solver Results\n"
   ]
  },
  {
   "cell_type": "code",
   "execution_count": 51,
   "metadata": {},
   "outputs": [
    {
     "name": "stdout",
     "output_type": "stream",
     "text": [
      "0.0 0.0 0\n",
      "0 1.0177766613026233 0.0\n"
     ]
    }
   ],
   "source": [
    "if model.status == GRB.OPTIMAL:\n",
    "    print(d_plus[1].X, d_plus[2].X, d_plus[3])\n",
    "    print(d_minus[1], d_minus[2].X, d_minus[3].X)"
   ]
  },
  {
   "cell_type": "code",
   "execution_count": 52,
   "metadata": {},
   "outputs": [
    {
     "name": "stdout",
     "output_type": "stream",
     "text": [
      "Objective 1: 5.0 + -1.0 y_Talent 1_P1 + -1.0 y_Talent 1_P2 + -1.0 y_Talent 1_P3 + -1.0 y_Talent 2_P1 + -1.0 y_Talent 2_P2 + -1.0 y_Talent 2_P3 + -1.0 y_Talent 3_P1 + -1.0 y_Talent 3_P2 + -1.0 y_Talent 3_P3 + -1.0 y_Talent 4_P1 + -1.0 y_Talent 4_P2 + -1.0 y_Talent 4_P3 + -1.0 y_Talent 5_P1 + -1.0 y_Talent 5_P2 + -1.0 y_Talent 5_P3\n",
      "Objective 2: 0.18933139574356017 z_T2_Talent 1 + 0.3090169943749474 z_T2_Talent 2 + 0.25 z_T2_Talent 3 + 0.36602540378443865 z_T2_Talent 4 + 0.2240092377397959 z_T2_Talent 5 + 0.16855212267069633 z_T6_Talent 1 + 0.21498516621900873 z_T6_Talent 2 + 0.24727258247841533 z_T6_Talent 3 + 0.30349732743932833 z_T6_Talent 4 + 0.27429188517743175 z_T6_Talent 5 + 0.1852891992413258 z_T8_Talent 1 + 0.2958163163244893 z_T8_Talent 2 + 0.25805245234583163 z_T8_Talent 3 + 0.3797958971132712 z_T8_Talent 4 + 0.2193450929151803 z_T8_Talent 5 + z_T10_Talent 1 + 0.16666666666666666 z_T10_Talent 2 + 0.28989794855663564 z_T10_Talent 3 + 0.21089672205953397 z_T10_Talent 4 + 0.1566130288262323 z_T10_Talent 5 + 0.2612038749637414 z_T1_Talent 1 + 0.3797958971132712 z_T1_Talent 2 + 0.3333333333333333 z_T1_Talent 3 + 0.3430703308172536 z_T1_Talent 4 + 0.2958163163244893 z_T1_Talent 5 + 0.4641016151377546 z_T3_Talent 1 + 0.15974667297574377 z_T3_Talent 2 + 0.25428627101618895 z_T3_Talent 3 + 0.19707113830081235 z_T3_Talent 4 + 0.1639607805437114 z_T3_Talent 5 + 0.28544261659540726 z_T9_Talent 1 + 0.353889367864523 z_T9_Talent 2 + 0.353889367864523 z_T9_Talent 3 + 0.4142135623730951 z_T9_Talent 4 + 0.3333333333333333 z_T9_Talent 5 + 0.2910493488228408 z_T4_Talent 1 + 0.24336073281110826 z_T4_Talent 2 + 0.36602540378443865 z_T4_Talent 3 + 0.2791745113185196 z_T4_Talent 4 + 0.23441237831492112 z_T4_Talent 5 + 0.20168959288722538 z_T5_Talent 1 + 0.25 z_T5_Talent 2 + 0.3430703308172536 z_T5_Talent 3 + 0.27429188517743175 z_T5_Talent 4 + 0.21979723016032493 z_T5_Talent 5 + 0.28989794855663564 z_T7_Talent 1 + 0.20557658844381702 z_T7_Talent 2 + 0.24660605559646726 z_T7_Talent 3 + 0.2070518364164892 z_T7_Talent 4 + 0.19581332489515024 z_T7_Talent 5\n",
      "Objective 3: <gurobi.Var max_workload (value 5.0)>\n"
     ]
    }
   ],
   "source": [
    "for i in range(1, 4):\n",
    "    print(f\"Objective {i}: {mu_Z[i]}\")"
   ]
  },
  {
   "cell_type": "code",
   "execution_count": 53,
   "metadata": {},
   "outputs": [
    {
     "name": "stdout",
     "output_type": "stream",
     "text": [
      "Solution Found!\n",
      "Obj. Value of MOO i.e. Deviation: 0.1653820218555876\n",
      "\n",
      "Task T6 assigned to Employee Talent 1\n",
      "Company\t\t\t: P1\n",
      "Story Points\t\t: 1\n",
      "Metrics score\t: 0.1685521227\n",
      "\n",
      "Task T10 assigned to Employee Talent 1\n",
      "Company\t\t\t: P1\n",
      "Story Points\t\t: 3\n",
      "Metrics score\t: 1.0000000000\n",
      "\n",
      "Task T1 assigned to Employee Talent 2\n",
      "Company\t\t\t: P2\n",
      "Story Points\t\t: 1\n",
      "Metrics score\t: 0.3797958971\n",
      "\n",
      "Task T3 assigned to Employee Talent 2\n",
      "Company\t\t\t: P2\n",
      "Story Points\t\t: 3\n",
      "Metrics score\t: 0.1597466730\n",
      "\n",
      "Task T9 assigned to Employee Talent 2\n",
      "Company\t\t\t: P2\n",
      "Story Points\t\t: 1\n",
      "Metrics score\t: 0.3538893679\n",
      "\n",
      "Task T5 assigned to Employee Talent 3\n",
      "Company\t\t\t: P3\n",
      "Story Points\t\t: 1\n",
      "Metrics score\t: 0.3430703308\n",
      "\n",
      "Task T7 assigned to Employee Talent 3\n",
      "Company\t\t\t: P3\n",
      "Story Points\t\t: 2\n",
      "Metrics score\t: 0.2466060556\n",
      "\n",
      "Task T2 assigned to Employee Talent 4\n",
      "Company\t\t\t: P1\n",
      "Story Points\t\t: 2\n",
      "Metrics score\t: 0.3660254038\n",
      "\n",
      "Task T8 assigned to Employee Talent 4\n",
      "Company\t\t\t: P1\n",
      "Story Points\t\t: 3\n",
      "Metrics score\t: 0.3797958971\n",
      "\n",
      "Task T4 assigned to Employee Talent 5\n",
      "Company\t\t\t: P3\n",
      "Story Points\t\t: 5\n",
      "Metrics score\t: 0.2344123783\n",
      "\n"
     ]
    }
   ],
   "source": [
    "# print the result\n",
    "if model.status == GRB.OPTIMAL:\n",
    "    print(\"Solution Found!\")\n",
    "    print(f\"Obj. Value of MOO i.e. Deviation: {model.ObjVal}\\n\")\n",
    "\n",
    "    x_hat_4 = {}\n",
    "    for j in employees:\n",
    "        result = get_employee_tasks(\n",
    "            j, company_tasks, model, score, story_points, max_employee_workload\n",
    "        )\n",
    "        if len(result[1]) > 0:\n",
    "            x_hat_4[j] = result\n",
    "else:\n",
    "    print(\"No Solution Found!\")\n",
    "    x_hat_4 = {}"
   ]
  },
  {
   "cell_type": "markdown",
   "metadata": {},
   "source": [
    "## 8.5 Show the Solver's Result\n"
   ]
  },
  {
   "cell_type": "code",
   "execution_count": 54,
   "metadata": {},
   "outputs": [
    {
     "data": {
      "text/html": [
       "<div>\n",
       "<style scoped>\n",
       "    .dataframe tbody tr th:only-of-type {\n",
       "        vertical-align: middle;\n",
       "    }\n",
       "\n",
       "    .dataframe tbody tr th {\n",
       "        vertical-align: top;\n",
       "    }\n",
       "\n",
       "    .dataframe thead th {\n",
       "        text-align: right;\n",
       "    }\n",
       "</style>\n",
       "<table border=\"1\" class=\"dataframe\">\n",
       "  <thead>\n",
       "    <tr style=\"text-align: right;\">\n",
       "      <th></th>\n",
       "      <th>company</th>\n",
       "      <th>assigned_task</th>\n",
       "      <th>sum_sp</th>\n",
       "      <th>wasted_sp</th>\n",
       "      <th>assessment_score</th>\n",
       "    </tr>\n",
       "    <tr>\n",
       "      <th>employee</th>\n",
       "      <th></th>\n",
       "      <th></th>\n",
       "      <th></th>\n",
       "      <th></th>\n",
       "      <th></th>\n",
       "    </tr>\n",
       "  </thead>\n",
       "  <tbody>\n",
       "    <tr>\n",
       "      <th>Talent 1</th>\n",
       "      <td>[P1, P1]</td>\n",
       "      <td>[T6, T10]</td>\n",
       "      <td>4</td>\n",
       "      <td>6</td>\n",
       "      <td>[0.16855212267069633, 1.0]</td>\n",
       "    </tr>\n",
       "    <tr>\n",
       "      <th>Talent 2</th>\n",
       "      <td>[P2, P2, P2]</td>\n",
       "      <td>[T1, T3, T9]</td>\n",
       "      <td>5</td>\n",
       "      <td>5</td>\n",
       "      <td>[0.3797958971132712, 0.15974667297574377, 0.35...</td>\n",
       "    </tr>\n",
       "    <tr>\n",
       "      <th>Talent 3</th>\n",
       "      <td>[P3, P3]</td>\n",
       "      <td>[T5, T7]</td>\n",
       "      <td>3</td>\n",
       "      <td>7</td>\n",
       "      <td>[0.3430703308172536, 0.24660605559646726]</td>\n",
       "    </tr>\n",
       "    <tr>\n",
       "      <th>Talent 4</th>\n",
       "      <td>[P1, P1]</td>\n",
       "      <td>[T2, T8]</td>\n",
       "      <td>5</td>\n",
       "      <td>5</td>\n",
       "      <td>[0.36602540378443865, 0.3797958971132712]</td>\n",
       "    </tr>\n",
       "    <tr>\n",
       "      <th>Talent 5</th>\n",
       "      <td>[P3]</td>\n",
       "      <td>[T4]</td>\n",
       "      <td>5</td>\n",
       "      <td>5</td>\n",
       "      <td>[0.23441237831492112]</td>\n",
       "    </tr>\n",
       "  </tbody>\n",
       "</table>\n",
       "</div>"
      ],
      "text/plain": [
       "               company assigned_task  sum_sp  wasted_sp  \\\n",
       "employee                                                  \n",
       "Talent 1      [P1, P1]     [T6, T10]       4          6   \n",
       "Talent 2  [P2, P2, P2]  [T1, T3, T9]       5          5   \n",
       "Talent 3      [P3, P3]      [T5, T7]       3          7   \n",
       "Talent 4      [P1, P1]      [T2, T8]       5          5   \n",
       "Talent 5          [P3]          [T4]       5          5   \n",
       "\n",
       "                                           assessment_score  \n",
       "employee                                                     \n",
       "Talent 1                         [0.16855212267069633, 1.0]  \n",
       "Talent 2  [0.3797958971132712, 0.15974667297574377, 0.35...  \n",
       "Talent 3          [0.3430703308172536, 0.24660605559646726]  \n",
       "Talent 4          [0.36602540378443865, 0.3797958971132712]  \n",
       "Talent 5                              [0.23441237831492112]  "
      ]
     },
     "execution_count": 54,
     "metadata": {},
     "output_type": "execute_result"
    }
   ],
   "source": [
    "# Set display options\n",
    "pd.set_option(\"display.max_rows\", 500)\n",
    "pd.set_option(\"display.max_columns\", 500)\n",
    "\n",
    "# show data that has positive metrics score\n",
    "\n",
    "result_4 = pd.DataFrame.from_dict(\n",
    "    x_hat_4,\n",
    "    orient=\"index\",\n",
    "    columns=[\"company\", \"assigned_task\", \"sum_sp\", \"wasted_sp\", \"assessment_score\"],\n",
    ")\n",
    "\n",
    "result_4.index.name = \"employee\"\n",
    "result_4"
   ]
  },
  {
   "cell_type": "markdown",
   "metadata": {},
   "source": [
    "### 8.5.1 Statistics of The Objective\n"
   ]
  },
  {
   "cell_type": "code",
   "execution_count": 55,
   "metadata": {},
   "outputs": [
    {
     "name": "stdout",
     "output_type": "stream",
     "text": [
      "Total Employee\t\t\t: 5\n",
      "Total Active Employee\t\t: 5\t100.00%\n",
      "Total Idle Employee\t\t: 0\t0.00%\n",
      "\n",
      "Total Story Points\t\t: 22\n",
      "Total Active Story Points\t: 22\t100.00%\n",
      "Total Wasted Story Points\t: 0\t0.00%\n",
      "\n"
     ]
    }
   ],
   "source": [
    "total_employee = len(employees)\n",
    "total_sp = sum(story_points.values())\n",
    "total_active_employee = len(set(employee for employee in x_hat_4.keys()))\n",
    "total_active_sp = sum(value[2] for value in x_hat_4.values())\n",
    "total_idle_employee = total_employee - total_active_employee\n",
    "total_wasted_sp = total_sp - total_active_sp\n",
    "\n",
    "print(f\"Total Employee\\t\\t\\t: {total_employee}\")\n",
    "print(\n",
    "    f\"Total Active Employee\\t\\t: {total_active_employee}\\t{(total_active_employee/total_employee)*100:.2f}%\"\n",
    ")\n",
    "print(\n",
    "    f\"Total Idle Employee\\t\\t: {total_idle_employee}\\t{(total_idle_employee/total_employee)*100:.2f}%\\n\"\n",
    ")\n",
    "print(f\"Total Story Points\\t\\t: {total_sp}\")\n",
    "print(\n",
    "    f\"Total Active Story Points\\t: {total_active_sp}\\t{(total_active_sp/total_sp)*100:.2f}%\"\n",
    ")\n",
    "print(\n",
    "    f\"Total Wasted Story Points\\t: {total_wasted_sp}\\t{(total_wasted_sp/total_sp)*100:.2f}%\\n\"\n",
    ")"
   ]
  },
  {
   "cell_type": "markdown",
   "metadata": {},
   "source": [
    "### 8.5.2. Distribution With Respect to the Assessment Score\n"
   ]
  },
  {
   "cell_type": "code",
   "execution_count": 56,
   "metadata": {},
   "outputs": [
    {
     "data": {
      "image/png": "[encoded data removed]",
      "text/plain": [
       "<Figure size 640x480 with 1 Axes>"
      ]
     },
     "metadata": {},
     "output_type": "display_data"
    }
   ],
   "source": [
    "# make boxplot for x_hat_5\n",
    "assessment_score_4 = result_4[\"assessment_score\"].explode().reset_index(drop=True)\n",
    "\n",
    "if len(assessment_score_4) != 0:\n",
    "    assessment_score_4.plot(kind=\"box\")\n",
    "    plt.title(\"Assessment Score Boxplot of MOO with Goal Programming\")\n",
    "    plt.show()\n",
    "else:\n",
    "    print(\"No data to show\")"
   ]
  },
  {
   "cell_type": "markdown",
   "metadata": {},
   "source": [
    "## 8.6 Comparing MOO with Goal Programming to Single Objective\n"
   ]
  },
  {
   "cell_type": "code",
   "execution_count": 57,
   "metadata": {},
   "outputs": [
    {
     "data": {
      "image/png": "[encoded data removed]",
      "text/plain": [
       "<Figure size 1000x500 with 1 Axes>"
      ]
     },
     "metadata": {},
     "output_type": "display_data"
    }
   ],
   "source": [
    "# Merge all boxplot in one graph\n",
    "data = [\n",
    "\tassessment_score_1,\n",
    "\tassessment_score_2,\n",
    "\tassessment_score_3,\n",
    "\tassessment_score_4,\n",
    "]\n",
    "\n",
    "plt.figure(figsize=(10, 5))\n",
    "plt.boxplot(\n",
    "\tdata,\n",
    "\ttick_labels=[\n",
    "\t\t\"Objective 1\\nMin Idle Employee\",\n",
    "\t\t\"Objective 2\\nMax Assessment Score\",\n",
    "\t\t\"Objective 3\\nBalancing the Workload\",\n",
    "\t\t\"MOO with\\nGoal Programming\",\n",
    "\t],\n",
    ")\n",
    "plt.title(\"Overall Assessment Score Boxplot\")\n",
    "plt.xticks(rotation=15)\n",
    "plt.savefig(\"./output/compare_SO_MOO.png\")\n",
    "plt.show()"
   ]
  }
 ],
 "metadata": {
  "kernelspec": {
   "display_name": "Python 3",
   "language": "python",
   "name": "python3"
  },
  "language_info": {
   "codemirror_mode": {
    "name": "ipython",
    "version": 3
   },
   "file_extension": ".py",
   "mimetype": "text/x-python",
   "name": "python",
   "nbconvert_exporter": "python",
   "pygments_lexer": "ipython3",
   "version": "3.10.13"
  }
 },
 "nbformat": 4,
 "nbformat_minor": 2
}
