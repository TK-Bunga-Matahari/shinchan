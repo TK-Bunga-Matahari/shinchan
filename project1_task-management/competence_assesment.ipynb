version https://git-lfs.github.com/spec/v1
oid sha256:25e7fb6b4c97e97507332a483f3c66f81360f40eb4a5f7e0f6d44e72649a4455
size 369351771
